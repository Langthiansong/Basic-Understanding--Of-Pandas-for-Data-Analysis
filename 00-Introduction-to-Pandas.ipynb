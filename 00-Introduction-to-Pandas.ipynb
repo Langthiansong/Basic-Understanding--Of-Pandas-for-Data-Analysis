{
 "cells": [
  {
   "cell_type": "markdown",
   "metadata": {},
   "source": [
    "# Pandas\n",
    "![](images/pandas_logo.png)"
   ]
  },
  {
   "cell_type": "markdown",
   "metadata": {},
   "source": [
    "we dove into detail on NumPy and its ``ndarray`` object, which provides efficient storage and manipulation of dense typed arrays in Python.\n",
    "Here we'll build on this knowledge by looking in detail at the data structures provided by the Pandas library.\n",
    "Pandas is a newer package built on top of NumPy, and provides an efficient implementation of a ``DataFrame``.\n",
    "``DataFrame``s are essentially multidimensional arrays with attached row and column labels, and often with heterogeneous types and/or missing data.\n",
    "As well as offering a convenient storage interface for labeled data, Pandas implements a number of powerful data operations familiar to users of both database frameworks and spreadsheet programs.\n",
    "\n",
    "As we saw, NumPy's ``ndarray`` data structure provides essential features for the type of clean, well-organized data typically seen in numerical computing tasks.\n",
    "While it serves this purpose very well, its limitations become clear when we need more flexibility (e.g., attaching labels to data, working with missing data, etc.) and when attempting operations that do not map well to element-wise broadcasting (e.g., groupings, pivots, etc.), each of which is an important piece of analyzing the less structured data available in many forms in the world around us.\n",
    "Pandas, and in particular its ``Series`` and ``DataFrame`` objects, builds on the NumPy array structure and provides efficient access to these sorts of \"data munging\" tasks that occupy much of a data scientist's time.\n",
    "\n",
    "In this chapter, we will focus on the mechanics of using ``Series``, ``DataFrame``, and related structures effectively.\n",
    "We will use examples drawn from real datasets where appropriate, but these examples are not necessarily the focus."
   ]
  },
  {
   "cell_type": "markdown",
   "metadata": {},
   "source": [
    "## Installing and Using Pandas\n",
    "\n",
    "Installation of Pandas on your system requires NumPy to be installed, and if building the library from source, requires the appropriate tools to compile the C and Cython sources on which Pandas is built.\n",
    "Details on this installation can be found in the [Pandas documentation](http://pandas.pydata.org/).\n",
    "If you followed the advice outlined in the [Preface](00.00-Preface.ipynb) and used the Anaconda stack, you already have Pandas installed.\n",
    "\n",
    "Once Pandas is installed, you can import it and check the version:"
   ]
  },
  {
   "cell_type": "code",
   "execution_count": 1,
   "metadata": {},
   "outputs": [
    {
     "data": {
      "text/plain": [
       "'0.25.1'"
      ]
     },
     "execution_count": 1,
     "metadata": {},
     "output_type": "execute_result"
    }
   ],
   "source": [
    "import pandas\n",
    "pandas.__version__"
   ]
  },
  {
   "cell_type": "markdown",
   "metadata": {},
   "source": [
    "Just as we generally import NumPy under the alias ``np``, we will import Pandas under the alias ``pd``:"
   ]
  },
  {
   "cell_type": "code",
   "execution_count": 2,
   "metadata": {},
   "outputs": [],
   "source": [
    "import pandas as pd"
   ]
  },
  {
   "cell_type": "code",
   "execution_count": 3,
   "metadata": {},
   "outputs": [
    {
     "data": {
      "text/plain": [
       "'0.25.1'"
      ]
     },
     "execution_count": 3,
     "metadata": {},
     "output_type": "execute_result"
    }
   ],
   "source": [
    "pd.__version__"
   ]
  },
  {
   "cell_type": "markdown",
   "metadata": {},
   "source": [
    "This import convention will be used throughout the remainder of this book."
   ]
  },
  {
   "cell_type": "markdown",
   "metadata": {},
   "source": [
    "## Reminder about Built-In Documentation\n",
    "\n",
    "As you read through this chapter, don't forget that IPython gives you the ability to quickly explore the contents of a package (by using the tab-completion feature) as well as the documentation of various functions (using the ``?`` character). (Refer back to [Help and Documentation in IPython](01.01-Help-And-Documentation.ipynb) if you need a refresher on this.)\n",
    "\n",
    "For example, to display all the contents of the pandas namespace, you can type\n",
    "\n",
    "```ipython\n",
    "In [3]: pd.<TAB>\n",
    "```\n",
    "\n",
    "And to display Pandas's built-in documentation, you can use this:\n",
    "\n",
    "```ipython\n",
    "In [4]: pd?\n",
    "```\n",
    "\n",
    "More detailed documentation, along with tutorials and other resources, can be found at http://pandas.pydata.org/."
   ]
  },
  {
   "cell_type": "code",
   "execution_count": 5,
   "metadata": {},
   "outputs": [
    {
     "data": {
      "text/plain": [
       "\u001b[1;31mInit signature:\u001b[0m\n",
       "\u001b[0mpd\u001b[0m\u001b[1;33m.\u001b[0m\u001b[0mCategorical\u001b[0m\u001b[1;33m(\u001b[0m\u001b[1;33m\n",
       "\u001b[0m    \u001b[0mvalues\u001b[0m\u001b[1;33m,\u001b[0m\u001b[1;33m\n",
       "\u001b[0m    \u001b[0mcategories\u001b[0m\u001b[1;33m=\u001b[0m\u001b[1;32mNone\u001b[0m\u001b[1;33m,\u001b[0m\u001b[1;33m\n",
       "\u001b[0m    \u001b[0mordered\u001b[0m\u001b[1;33m=\u001b[0m\u001b[1;32mNone\u001b[0m\u001b[1;33m,\u001b[0m\u001b[1;33m\n",
       "\u001b[0m    \u001b[0mdtype\u001b[0m\u001b[1;33m=\u001b[0m\u001b[1;32mNone\u001b[0m\u001b[1;33m,\u001b[0m\u001b[1;33m\n",
       "\u001b[0m    \u001b[0mfastpath\u001b[0m\u001b[1;33m=\u001b[0m\u001b[1;32mFalse\u001b[0m\u001b[1;33m,\u001b[0m\u001b[1;33m\n",
       "\u001b[0m\u001b[1;33m)\u001b[0m\u001b[1;33m\u001b[0m\u001b[1;33m\u001b[0m\u001b[0m\n",
       "\u001b[1;31mDocstring:\u001b[0m     \n",
       "Represent a categorical variable in classic R / S-plus fashion.\n",
       "\n",
       "`Categoricals` can only take on only a limited, and usually fixed, number\n",
       "of possible values (`categories`). In contrast to statistical categorical\n",
       "variables, a `Categorical` might have an order, but numerical operations\n",
       "(additions, divisions, ...) are not possible.\n",
       "\n",
       "All values of the `Categorical` are either in `categories` or `np.nan`.\n",
       "Assigning values outside of `categories` will raise a `ValueError`. Order\n",
       "is defined by the order of the `categories`, not lexical order of the\n",
       "values.\n",
       "\n",
       "Parameters\n",
       "----------\n",
       "values : list-like\n",
       "    The values of the categorical. If categories are given, values not in\n",
       "    categories will be replaced with NaN.\n",
       "categories : Index-like (unique), optional\n",
       "    The unique categories for this categorical. If not given, the\n",
       "    categories are assumed to be the unique values of `values` (sorted, if\n",
       "    possible, otherwise in the order in which they appear).\n",
       "ordered : bool, default False\n",
       "    Whether or not this categorical is treated as a ordered categorical.\n",
       "    If True, the resulting categorical will be ordered.\n",
       "    An ordered categorical respects, when sorted, the order of its\n",
       "    `categories` attribute (which in turn is the `categories` argument, if\n",
       "    provided).\n",
       "dtype : CategoricalDtype\n",
       "    An instance of ``CategoricalDtype`` to use for this categorical\n",
       "\n",
       "    .. versionadded:: 0.21.0\n",
       "\n",
       "Attributes\n",
       "----------\n",
       "categories : Index\n",
       "    The categories of this categorical\n",
       "codes : ndarray\n",
       "    The codes (integer positions, which point to the categories) of this\n",
       "    categorical, read only.\n",
       "ordered : bool\n",
       "    Whether or not this Categorical is ordered.\n",
       "dtype : CategoricalDtype\n",
       "    The instance of ``CategoricalDtype`` storing the ``categories``\n",
       "    and ``ordered``.\n",
       "\n",
       "    .. versionadded:: 0.21.0\n",
       "\n",
       "Methods\n",
       "-------\n",
       "from_codes\n",
       "__array__\n",
       "\n",
       "Raises\n",
       "------\n",
       "ValueError\n",
       "    If the categories do not validate.\n",
       "TypeError\n",
       "    If an explicit ``ordered=True`` is given but no `categories` and the\n",
       "    `values` are not sortable.\n",
       "\n",
       "See Also\n",
       "--------\n",
       "api.types.CategoricalDtype : Type for categorical data.\n",
       "CategoricalIndex : An Index with an underlying ``Categorical``.\n",
       "\n",
       "Notes\n",
       "-----\n",
       "See the `user guide\n",
       "<http://pandas.pydata.org/pandas-docs/stable/user_guide/categorical.html>`_\n",
       "for more.\n",
       "\n",
       "Examples\n",
       "--------\n",
       ">>> pd.Categorical([1, 2, 3, 1, 2, 3])\n",
       "[1, 2, 3, 1, 2, 3]\n",
       "Categories (3, int64): [1, 2, 3]\n",
       "\n",
       ">>> pd.Categorical(['a', 'b', 'c', 'a', 'b', 'c'])\n",
       "[a, b, c, a, b, c]\n",
       "Categories (3, object): [a, b, c]\n",
       "\n",
       "Ordered `Categoricals` can be sorted according to the custom order\n",
       "of the categories and can have a min and max value.\n",
       "\n",
       ">>> c = pd.Categorical(['a', 'b', 'c', 'a', 'b', 'c'], ordered=True,\n",
       "...                    categories=['c', 'b', 'a'])\n",
       ">>> c\n",
       "[a, b, c, a, b, c]\n",
       "Categories (3, object): [c < b < a]\n",
       ">>> c.min()\n",
       "'c'\n",
       "\u001b[1;31mFile:\u001b[0m           c:\\users\\kumar\\appdata\\local\\programs\\python\\python36\\lib\\site-packages\\pandas\\core\\arrays\\categorical.py\n",
       "\u001b[1;31mType:\u001b[0m           type\n",
       "\u001b[1;31mSubclasses:\u001b[0m     SubclassedCategorical\n"
      ]
     },
     "metadata": {},
     "output_type": "display_data"
    }
   ],
   "source": [
    "pd.Categorical?"
   ]
  }
 ],
 "metadata": {
  "anaconda-cloud": {},
  "kernelspec": {
   "display_name": "Python 3",
   "language": "python",
   "name": "python3"
  },
  "language_info": {
   "codemirror_mode": {
    "name": "ipython",
    "version": 3
   },
   "file_extension": ".py",
   "mimetype": "text/x-python",
   "name": "python",
   "nbconvert_exporter": "python",
   "pygments_lexer": "ipython3",
   "version": "3.6.8"
  }
 },
 "nbformat": 4,
 "nbformat_minor": 4
}
