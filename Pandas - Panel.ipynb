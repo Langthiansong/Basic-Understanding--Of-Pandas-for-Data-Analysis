{
 "cells": [
  {
   "cell_type": "markdown",
   "metadata": {},
   "source": [
    "# PANDAS-PANEL(3D )"
   ]
  },
  {
   "cell_type": "markdown",
   "metadata": {},
   "source": [
    "A panel is a 3D container of data. The term Panel data is derived from econometrics and is partially responsible for the name pandas − pan(el)-da(ta)-s.\n",
    "\n",
    "The names for the 3 axes are intended to give some semantic meaning to describing operations involving panel data. They are −\n",
    "\n",
    "1. items − axis 0, each item corresponds to a DataFrame contained inside.\n",
    "\n",
    "2. major_axis − axis 1, it is the index (rows) of each of the DataFrames.\n",
    "\n",
    "3. minor_axis − axis 2, it is the columns of each of the DataFrames.\n",
    "\n",
    "#### pandas.Panel()\n",
    "A Panel can be created using the following constructor −\n",
    "\n",
    "**pandas.Panel(data, items, major_axis, minor_axis, dtype, copy)**\n",
    "\n",
    "The parameters of the constructor are as follows −\n",
    "\n",
    "| Parameter  | Description   |\n",
    "|------|------|\n",
    "|data|\tData takes various forms like ndarray, series, map, lists, dict, constants and also another DataFrame|\n",
    "|items|\taxis=0|\n",
    "|major_axis|\taxis=1|\n",
    "|minor_axis|\taxis=2|\n",
    "|dtype\t|Data type of each column|\n",
    "|copy\t|Copy data. Default, false|\n",
    "\n",
    "![Data](images/panels.png)\n",
    "\n",
    "#### Create Panel\n",
    "A Panel can be created using multiple ways like −\n",
    "\n",
    "    1. From ndarrays\n",
    "    2. From dict of DataFrames"
   ]
  },
  {
   "cell_type": "code",
   "execution_count": 6,
   "metadata": {},
   "outputs": [
    {
     "name": "stdout",
     "output_type": "stream",
     "text": [
      "<class 'pandas.core.panel.Panel'>\n",
      "Dimensions: 0 (items) x 0 (major_axis) x 0 (minor_axis)\n",
      "Items axis: None\n",
      "Major_axis axis: None\n",
      "Minor_axis axis: None\n"
     ]
    }
   ],
   "source": [
    "#creating an empty panel\n",
    "import pandas as pd\n",
    "p = pd.Panel()\n",
    "print (p)"
   ]
  },
  {
   "cell_type": "code",
   "execution_count": 2,
   "metadata": {},
   "outputs": [
    {
     "name": "stdout",
     "output_type": "stream",
     "text": [
      "<class 'pandas.core.panel.Panel'>\n",
      "Dimensions: 2 (items) x 4 (major_axis) x 51 (minor_axis)\n",
      "Items axis: 0 to 1\n",
      "Major_axis axis: 0 to 3\n",
      "Minor_axis axis: 0 to 50\n"
     ]
    }
   ],
   "source": [
    "# creating an empty panel\n",
    "import pandas as pd\n",
    "import numpy as np\n",
    "\n",
    "data = np.random.rand(2,4,51)\n",
    "p = pd.Panel(data)\n",
    "print (p)"
   ]
  },
  {
   "cell_type": "code",
   "execution_count": 2,
   "metadata": {},
   "outputs": [
    {
     "name": "stdout",
     "output_type": "stream",
     "text": [
      "<class 'pandas.core.panel.Panel'>\n",
      "Dimensions: 2 (items) x 4 (major_axis) x 10 (minor_axis)\n",
      "Items axis: Item1 to Item2\n",
      "Major_axis axis: 0 to 3\n",
      "Minor_axis axis: 0 to 9\n"
     ]
    }
   ],
   "source": [
    "#From dict of DataFrame Objects\n",
    " \n",
    "#creating an empty panel\n",
    "import pandas as pd\n",
    "import numpy as np\n",
    "\n",
    "data = {'Item1' : pd.DataFrame(np.random.randn(4, 10)), \n",
    "   'Item2' : pd.DataFrame(np.random.randn(4, 2))}\n",
    "p = pd.Panel(data)\n",
    "print (p)"
   ]
  },
  {
   "cell_type": "code",
   "execution_count": 4,
   "metadata": {},
   "outputs": [
    {
     "name": "stdout",
     "output_type": "stream",
     "text": [
      "          0         1         2\n",
      "0  1.602778 -0.138587 -0.421138\n",
      "1 -0.805977 -0.044120  0.886520\n",
      "2  1.222799  1.354886 -0.140837\n",
      "3 -0.836415  0.622387  0.207162\n",
      "\n",
      "\n",
      "\n",
      "\n",
      "          0   1   2\n",
      "0 -1.900293 NaN NaN\n",
      "1 -0.016000 NaN NaN\n",
      "2 -0.445825 NaN NaN\n",
      "3  1.176981 NaN NaN\n"
     ]
    }
   ],
   "source": [
    "# Selecting the Data from Panel\n",
    "# creating an empty panel\n",
    "import pandas as pd\n",
    "import numpy as np\n",
    "data = {'Item1' : pd.DataFrame(np.random.randn(4, 3)), \n",
    "   'Item2' : pd.DataFrame(np.random.randn(4, 1))}\n",
    "p = pd.Panel(data)\n",
    "print (p['Item1'])\n",
    "print(\"\\n\\n\\n\")\n",
    "print(p['Item2'])"
   ]
  },
  {
   "cell_type": "code",
   "execution_count": 10,
   "metadata": {},
   "outputs": [
    {
     "name": "stdout",
     "output_type": "stream",
     "text": [
      "      Item1     Item2\n",
      "0  1.700577  0.723342\n",
      "1 -0.968457  1.784414\n",
      "2  0.592953       NaN\n"
     ]
    }
   ],
   "source": [
    "# Using major_axis  data can be accessed using the method panel.major_axis(index).\n",
    "print (p.major_xs(1))"
   ]
  },
  {
   "cell_type": "code",
   "execution_count": 11,
   "metadata": {},
   "outputs": [
    {
     "name": "stdout",
     "output_type": "stream",
     "text": [
      "      Item1     Item2\n",
      "0  1.700577  0.723342\n",
      "1 -0.717162 -0.684863\n",
      "2 -0.529880  0.284552\n",
      "3  0.410448 -0.524181\n"
     ]
    }
   ],
   "source": [
    "# Using minor_axis Data can be accessed using the method panel.minor_axis(index).\n",
    "print (p.minor_xs(0))"
   ]
  },
  {
   "cell_type": "markdown",
   "metadata": {},
   "source": [
    "| Attributes  | Description   |\n",
    "|------|------|\n",
    "|at|Access a single value for a row/column label pair.|\n",
    "|axes|Return index label(s) of the internal NDFrame|\n",
    "|blocks|(DEPRECATED) Internal property, property synonym for as_blocks().|\n",
    "|dtypes|Return the dtypes in the DataFrame.|\n",
    "|empty|Indicator whether DataFrame is empty.|\n",
    "|ftypes|Return the ftypes (indication of sparse/dense and dtype) in DataFrame.|\n",
    "|iat|Access a single value for a row/column pair by integer position.|\n",
    "|iloc|Purely integer-location based indexing for selection by position.|\n",
    "|is_copy|Return the copy.|\n",
    "|items|\n",
    "|ix|A primarily label-location based indexer, with integer position fallback.|\n",
    "|loc|Access a group of rows and columns by label(s) or a boolean array.|\n",
    "|major_axis|\n",
    "|minor_axis|\n",
    "|ndim|Return an int representing the number of axes / array dimensions.|\n",
    "|shape|Return a tuple of axis dimensions|\n",
    "|size|Return an int representing the number of elements in this object.|\n",
    "|values|Return a Numpy representation of the DataFrame.|"
   ]
  },
  {
   "cell_type": "markdown",
   "metadata": {},
   "source": [
    "| Methods  | Description   |\n",
    "|------|------|\n",
    "|abs()|\tReturn a Series/DataFrame with absolute numeric value of each element.\n",
    "|add(other[, axis])|\tAddition of series and other, element-wise (binary operator add).\n",
    "|add_prefix(prefix)|\tPrefix labels with string prefix.\n",
    "|add_suffix(suffix)|\tSuffix labels with string suffix.\n",
    "|align(other, **kwargs)**|\tAlign two objects on their axes with the specified join method for each axis Index.\n",
    "|all([axis, bool_only, skipna, level])|\tReturn whether all elements are True, potentially over an axis.\n",
    "|any([axis, bool_only, skipna, level])|\tReturn whether any element is True, potentially over an axis.\n",
    "|apply(func[, axis])\t|Applies function along axis (or axes) of the Panel.\n",
    "|as_blocks([copy])\t|(DEPRECATED) Convert the frame to a dict of dtype -> Constructor Types that each has a homogeneous dtype.\n",
    "|as_matrix()\t|Convert the frame to its Numpy-array representation.\n",
    "|asfreq(freq[, method, how, normalize, …])|\tConvert TimeSeries to specified frequency.\n",
    "|asof(where[, subset])|\tReturn the last row(s) without any NaNs before where.\n",
    "|astype(dtype[, copy, errors])|\tCast a pandas object to a specified dtype dtype.\n",
    "|at_time(time[, asof, axis])|\tSelect values at particular time of day (e.g.\n",
    "|between_time(start_time, end_time[, …])|\tSelect values between particular times of the day (e.g., 9:00-9:30 AM).\n",
    "|bfill([axis, inplace, limit, downcast])|\tSynonym for DataFrame.fillna() with method='bfill'.\n",
    "|bool()|\tReturn the bool of a single element PandasObject.\n",
    "|clip([lower, upper, axis, inplace])|\tTrim values at input threshold(s).\n",
    "|clip_lower(threshold[, axis, inplace])|\t(DEPRECATED) Trim values below a given threshold.\n",
    "|clip_upper(threshold[, axis, inplace])\t|(DEPRECATED) Trim values above a given threshold.\n",
    "|compound([axis, skipna, level])|\tReturn the compound percentage of the values for the requested axis.\n",
    "|conform(frame[, axis])|\tConform input DataFrame to align with chosen axis pair.\n",
    "|convert_objects([convert_dates, …])|\t(DEPRECATED) Attempt to infer better dtype for object columns.\n",
    "|copy([deep])|\tMake a copy of this object’s indices and data.|\n",
    "|count([axis])|\tReturn number of observations over requested axis.\n",
    "|cummax([axis, skipna])|\tReturn cumulative maximum over a DataFrame or Series axis.\n",
    "|cummin([axis, skipna])\tReturn cumulative minimum over a DataFrame or Series axis.\n",
    "|cumprod([axis, skipna])\tReturn cumulative product over a DataFrame or Series axis.\n",
    "|cumsum([axis, skipna])\tReturn cumulative sum over a DataFrame or Series axis.\n",
    "|describe([percentiles, include, exclude])\tGenerate descriptive statistics that summarize the central tendency, dispersion and |shape of a dataset’s distribution, excluding NaN values.\n",
    "|div(other[, axis])\tFloating division of series and other, element-wise (binary operator truediv).\n",
    "|divide(other[, axis])\tFloating division of series and other, element-wise (binary operator truediv).\n",
    "|droplevel(level[, axis])\tReturn DataFrame with requested index / column level(s) removed.\n",
    "|dropna([axis, how, inplace])\tDrop 2D from panel, holding passed axis constant.\n",
    "|eq(other[, axis])\tWrapper for comparison method eq\n",
    "|equals(other)\tTest whether two objects contain the same elements.\n",
    "|ffill([axis, inplace, limit, downcast])\tSynonym for DataFrame.fillna() with method='ffill'.\n",
    "|fillna([value, method, axis, inplace, …])\tFill NA/NaN values using the specified method.\n",
    "|filter([items, like, regex, axis])\tSubset rows or columns of dataframe according to labels in the specified index.\n",
    "|first(offset)\tConvenience method for subsetting initial periods of time series data based on a date offset.\n",
    "|first_valid_index()\tReturn index for first non-NA/null value.\n",
    "|floordiv(other[, axis])\tInteger division of series and other, element-wise (binary operator floordiv).\n",
    "|fromDict(data[, intersect, orient, dtype])\tConstruct Panel from dict of DataFrame objects.\n",
    "|from_dict(data[, intersect, orient, dtype])\tConstruct Panel from dict of DataFrame objects.\n",
    "|ge(other[, axis])\tWrapper for comparison method ge\n",
    "|get(key[, default])\tGet item from object for given key (DataFrame column, Panel slice, etc.).\n",
    "|get_dtype_counts()\tReturn counts of unique dtypes in this object.\n",
    "|get_ftype_counts()\t(DEPRECATED) Return counts of unique ftypes in this object.\n",
    "|get_value(*args, **kwargs**)\t(DEPRECATED) Quickly retrieve single value at (item, major, minor) location.\n",
    "|get_values()\tReturn an ndarray after converting sparse values to dense.\n",
    "|groupby(function[, axis])\tGroup data on given axis, returning GroupBy object.\n",
    "|gt(other[, axis])\tWrapper for comparison method gt\n",
    "|head([n])\tReturn the first n rows.\n",
    "|infer_objects()\tAttempt to infer better dtypes for object columns.\n",
    "interpolate([method, axis, limit, inplace, …])\tInterpolate values according to different methods.\n",
    "isna()\tDetect missing values.\n",
    "isnull()\tDetect missing values.\n",
    "iteritems()\tIterate over (label, values) on info axis\n",
    "join(other[, how, lsuffix, rsuffix])\tJoin items with other Panel either on major and minor axes column.\n",
    "keys()\tGet the ‘info axis’ (see Indexing for more)\n",
    "kurt([axis, skipna, level, numeric_only])\tReturn unbiased kurtosis over requested axis using Fisher’s definition of kurtosis (kurtosis of normal == 0.0).\n",
    "kurtosis([axis, skipna, level, numeric_only])\tReturn unbiased kurtosis over requested axis using Fisher’s definition of kurtosis (kurtosis of normal == 0.0).\n",
    "last(offset)\tConvenience method for subsetting final periods of time series data based on a date offset.\n",
    "last_valid_index()\tReturn index for last non-NA/null value.\n",
    "le(other[, axis])\tWrapper for comparison method le\n",
    "lt(other[, axis])\tWrapper for comparison method lt\n",
    "mad([axis, skipna, level])\tReturn the mean absolute deviation of the values for the requested axis.\n",
    "major_xs(key)\tReturn slice of panel along major axis.\n",
    "mask(cond[, other, inplace, axis, level, …])\tReplace values where the condition is True.\n",
    "max([axis, skipna, level, numeric_only])\tReturn the maximum of the values for the requested axis.\n",
    "mean([axis, skipna, level, numeric_only])\tReturn the mean of the values for the requested axis.\n",
    "median([axis, skipna, level, numeric_only])\tReturn the median of the values for the requested axis.\n",
    "min([axis, skipna, level, numeric_only])\tReturn the minimum of the values for the requested axis.\n",
    "minor_xs(key)\tReturn slice of panel along minor axis.\n",
    "mod(other[, axis])\tModulo of series and other, element-wise (binary operator mod).\n",
    "mul(other[, axis])\tMultiplication of series and other, element-wise (binary operator mul).\n",
    "multiply(other[, axis])\tMultiplication of series and other, element-wise (binary operator mul).\n",
    "ne(other[, axis])\tWrapper for comparison method ne\n",
    "notna()\tDetect existing (non-missing) values.\n",
    "notnull()\tDetect existing (non-missing) values.\n",
    "pct_change([periods, fill_method, limit, freq])\tPercentage change between the current and a prior element.\n",
    "pipe(func, *args, **kwargs)\tApply func(self, *args, **kwargs).\n",
    "pop(item)\tReturn item and drop from frame.\n",
    "pow(other[, axis])\tExponential power of series and other, element-wise (binary operator pow).\n",
    "prod([axis, skipna, level, numeric_only, …])\tReturn the product of the values for the requested axis.\n",
    "product([axis, skipna, level, numeric_only, …])\tReturn the product of the values for the requested axis.\n",
    "radd(other[, axis])\tAddition of series and other, element-wise (binary operator radd).\n",
    "rank([axis, method, numeric_only, …])\tCompute numerical data ranks (1 through n) along axis.\n",
    "rdiv(other[, axis])\tFloating division of series and other, element-wise (binary operator rtruediv).\n",
    "reindex(*args, **kwargs)\tConform Panel to new index with optional filling logic, placing NA/NaN in locations having no value in the previous index.\n",
    "reindex_axis(labels[, axis, method, level, …])\t(DEPRECATED) Conform input object to new index.\n",
    "reindex_like(other[, method, copy, limit, …])\tReturn an object with matching indices as other object.\n",
    "rename([items, major_axis, minor_axis])\tAlter axes input function or functions.\n",
    "rename_axis([mapper, index, columns, axis, …])\tSet the name of the axis for the index or columns.\n",
    "replace([to_replace, value, inplace, limit, …])\tReplace values given in to_replace with value.\n",
    "resample(rule[, how, axis, fill_method, …])\tResample time-series data.\n",
    "rfloordiv(other[, axis])\tInteger division of series and other, element-wise (binary operator rfloordiv).\n",
    "rmod(other[, axis])\tModulo of series and other, element-wise (binary operator rmod).\n",
    "rmul(other[, axis])\tMultiplication of series and other, element-wise (binary operator rmul).\n",
    "round([decimals])\tRound each value in Panel to a specified number of decimal places.\n",
    "rpow(other[, axis])\tExponential power of series and other, element-wise (binary operator rpow).\n",
    "rsub(other[, axis])\tSubtraction of series and other, element-wise (binary operator rsub).\n",
    "rtruediv(other[, axis])\tFloating division of series and other, element-wise (binary operator rtruediv).\n",
    "sample([n, frac, replace, weights, …])\tReturn a random sample of items from an axis of object.\n",
    "select(crit[, axis])\t(DEPRECATED) Return data corresponding to axis labels matching criteria.\n",
    "sem([axis, skipna, level, ddof, numeric_only])\tReturn unbiased standard error of the mean over requested axis.\n",
    "set_axis(labels[, axis, inplace])\tAssign desired index to given axis.\n",
    "set_value(*args, **kwargs)\t(DEPRECATED) Quickly set single value at (item, major, minor) location.\n",
    "shift([periods, freq, axis])\tShift index by desired number of periods with an optional time freq.\n",
    "skew([axis, skipna, level, numeric_only])\tReturn unbiased skew over requested axis Normalized by N-1.\n",
    "slice_shift([periods, axis])\tEquivalent to shift without copying data.\n",
    "sort_index([axis, level, ascending, …])\tSort object by labels (along an axis)\n",
    "sort_values(*args, **kwargs)\tNOT IMPLEMENTED: do not call this method, as sorting values is not supported for Panel objects and will raise an error.\n",
    "squeeze([axis])\tSqueeze 1 dimensional axis objects into scalars.\n",
    "std([axis, skipna, level, ddof, numeric_only])\tReturn sample standard deviation over requested axis.\n",
    "sub(other[, axis])\tSubtraction of series and other, element-wise (binary operator sub).\n",
    "subtract(other[, axis])\tSubtraction of series and other, element-wise (binary operator sub).\n",
    "sum([axis, skipna, level, numeric_only, …])\tReturn the sum of the values for the requested axis.\n",
    "swapaxes(axis1, axis2[, copy])\tInterchange axes and swap values axes appropriately.\n",
    "swaplevel([i, j, axis])\tSwap levels i and j in a MultiIndex on a particular axis\n",
    "tail([n])\tReturn the last n rows.\n",
    "take(indices[, axis, convert, is_copy])\tReturn the elements in the given positional indices along an axis.\n",
    "to_clipboard([excel, sep])\tCopy object to the system clipboard.\n",
    "to_csv([path_or_buf, sep, na_rep, …])\tWrite object to a comma-separated values (csv) file.\n",
    "to_dense()\tReturn dense representation of NDFrame (as opposed to sparse).\n",
    "to_excel(path[, na_rep, engine])\tWrite each DataFrame in Panel to a separate excel sheet.\n",
    "to_frame([filter_observations])\tTransform wide format into long (stacked) format as DataFrame whose columns are the Panel’s items and whose index is a MultiIndex formed of the Panel’s major and minor axes.\n",
    "to_hdf(path_or_buf, key, **kwargs)\tWrite the contained data to an HDF5 file using HDFStore.\n",
    "to_json([path_or_buf, orient, date_format, …])\tConvert the object to a JSON string.\n",
    "to_latex([buf, columns, col_space, header, …])\tRender an object to a LaTeX tabular environment table.\n",
    "to_msgpack([path_or_buf, encoding])\tSerialize object to input file path using msgpack format.\n",
    "to_pickle(path[, compression, protocol])\tPickle (serialize) object to file.\n",
    "to_sparse(*args, **kwargs)\tNOT IMPLEMENTED: do not call this method, as sparsifying is not supported for Panel objects and will raise an error.\n",
    "to_sql(name, con[, schema, if_exists, …])\tWrite records stored in a DataFrame to a SQL database.\n",
    "to_xarray()\tReturn an xarray object from the pandas object.\n",
    "transform(func, *args, **kwargs)\tCall func on self producing a NDFrame with transformed values and that has the same axis length as self.\n",
    "transpose(*args, **kwargs)\tPermute the dimensions of the Panel\n",
    "truediv(other[, axis])\tFloating division of series and other, element-wise (binary operator truediv).\n",
    "truncate([before, after, axis, copy])\tTruncate a Series or DataFrame before and after some index value.\n",
    "tshift([periods, freq, axis])\tShift the time index, using the index’s frequency if available.\n",
    "tz_convert(tz[, axis, level, copy])\tConvert tz-aware axis to target time zone.\n",
    "tz_localize(tz[, axis, level, copy, …])\tLocalize tz-naive index of a Series or DataFrame to target time zone.\n",
    "update(other[, join, overwrite, …])\tModify Panel in place using non-NA values from other Panel.\n",
    "var([axis, skipna, level, ddof, numeric_only])\tReturn unbiased variance over requested axis.\n",
    "where(cond[, other, inplace, axis, level, …])\tReplace values where the condition is False.\n",
    "xs(key[, axis])\tReturn slice of panel along selected axis."
   ]
  }
 ],
 "metadata": {
  "kernelspec": {
   "display_name": "Python 3",
   "language": "python",
   "name": "python3"
  },
  "language_info": {
   "codemirror_mode": {
    "name": "ipython",
    "version": 3
   },
   "file_extension": ".py",
   "mimetype": "text/x-python",
   "name": "python",
   "nbconvert_exporter": "python",
   "pygments_lexer": "ipython3",
   "version": "3.6.3"
  }
 },
 "nbformat": 4,
 "nbformat_minor": 2
}
