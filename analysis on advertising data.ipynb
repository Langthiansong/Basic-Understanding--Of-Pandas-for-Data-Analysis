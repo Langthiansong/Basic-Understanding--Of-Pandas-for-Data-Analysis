{
 "cells": [
  {
   "cell_type": "code",
   "execution_count": 2,
   "metadata": {},
   "outputs": [],
   "source": [
    "# Importing Packages\n",
    "import numpy as np\n",
    "import pandas as pd\n",
    "import matplotlib.pyplot as plt"
   ]
  },
  {
   "cell_type": "code",
   "execution_count": 3,
   "metadata": {},
   "outputs": [
    {
     "data": {
      "text/html": [
       "<div>\n",
       "<style scoped>\n",
       "    .dataframe tbody tr th:only-of-type {\n",
       "        vertical-align: middle;\n",
       "    }\n",
       "\n",
       "    .dataframe tbody tr th {\n",
       "        vertical-align: top;\n",
       "    }\n",
       "\n",
       "    .dataframe thead th {\n",
       "        text-align: right;\n",
       "    }\n",
       "</style>\n",
       "<table border=\"1\" class=\"dataframe\">\n",
       "  <thead>\n",
       "    <tr style=\"text-align: right;\">\n",
       "      <th></th>\n",
       "      <th>Unnamed: 0</th>\n",
       "      <th>TV</th>\n",
       "      <th>radio</th>\n",
       "      <th>newspaper</th>\n",
       "      <th>sales</th>\n",
       "    </tr>\n",
       "  </thead>\n",
       "  <tbody>\n",
       "    <tr>\n",
       "      <th>0</th>\n",
       "      <td>1</td>\n",
       "      <td>230.1</td>\n",
       "      <td>37.8</td>\n",
       "      <td>69.2</td>\n",
       "      <td>22.1</td>\n",
       "    </tr>\n",
       "    <tr>\n",
       "      <th>1</th>\n",
       "      <td>2</td>\n",
       "      <td>44.5</td>\n",
       "      <td>39.3</td>\n",
       "      <td>45.1</td>\n",
       "      <td>10.4</td>\n",
       "    </tr>\n",
       "    <tr>\n",
       "      <th>2</th>\n",
       "      <td>3</td>\n",
       "      <td>17.2</td>\n",
       "      <td>45.9</td>\n",
       "      <td>69.3</td>\n",
       "      <td>9.3</td>\n",
       "    </tr>\n",
       "    <tr>\n",
       "      <th>3</th>\n",
       "      <td>4</td>\n",
       "      <td>151.5</td>\n",
       "      <td>41.3</td>\n",
       "      <td>58.5</td>\n",
       "      <td>18.5</td>\n",
       "    </tr>\n",
       "    <tr>\n",
       "      <th>4</th>\n",
       "      <td>5</td>\n",
       "      <td>180.8</td>\n",
       "      <td>10.8</td>\n",
       "      <td>58.4</td>\n",
       "      <td>12.9</td>\n",
       "    </tr>\n",
       "    <tr>\n",
       "      <th>5</th>\n",
       "      <td>6</td>\n",
       "      <td>8.7</td>\n",
       "      <td>48.9</td>\n",
       "      <td>75.0</td>\n",
       "      <td>7.2</td>\n",
       "    </tr>\n",
       "    <tr>\n",
       "      <th>6</th>\n",
       "      <td>7</td>\n",
       "      <td>57.5</td>\n",
       "      <td>32.8</td>\n",
       "      <td>23.5</td>\n",
       "      <td>11.8</td>\n",
       "    </tr>\n",
       "    <tr>\n",
       "      <th>7</th>\n",
       "      <td>8</td>\n",
       "      <td>120.2</td>\n",
       "      <td>19.6</td>\n",
       "      <td>11.6</td>\n",
       "      <td>13.2</td>\n",
       "    </tr>\n",
       "    <tr>\n",
       "      <th>8</th>\n",
       "      <td>9</td>\n",
       "      <td>8.6</td>\n",
       "      <td>2.1</td>\n",
       "      <td>1.0</td>\n",
       "      <td>4.8</td>\n",
       "    </tr>\n",
       "    <tr>\n",
       "      <th>9</th>\n",
       "      <td>10</td>\n",
       "      <td>199.8</td>\n",
       "      <td>2.6</td>\n",
       "      <td>21.2</td>\n",
       "      <td>10.6</td>\n",
       "    </tr>\n",
       "    <tr>\n",
       "      <th>10</th>\n",
       "      <td>11</td>\n",
       "      <td>66.1</td>\n",
       "      <td>5.8</td>\n",
       "      <td>24.2</td>\n",
       "      <td>8.6</td>\n",
       "    </tr>\n",
       "    <tr>\n",
       "      <th>11</th>\n",
       "      <td>12</td>\n",
       "      <td>214.7</td>\n",
       "      <td>24.0</td>\n",
       "      <td>4.0</td>\n",
       "      <td>17.4</td>\n",
       "    </tr>\n",
       "    <tr>\n",
       "      <th>12</th>\n",
       "      <td>13</td>\n",
       "      <td>23.8</td>\n",
       "      <td>35.1</td>\n",
       "      <td>65.9</td>\n",
       "      <td>9.2</td>\n",
       "    </tr>\n",
       "    <tr>\n",
       "      <th>13</th>\n",
       "      <td>14</td>\n",
       "      <td>97.5</td>\n",
       "      <td>7.6</td>\n",
       "      <td>7.2</td>\n",
       "      <td>9.7</td>\n",
       "    </tr>\n",
       "    <tr>\n",
       "      <th>14</th>\n",
       "      <td>15</td>\n",
       "      <td>204.1</td>\n",
       "      <td>32.9</td>\n",
       "      <td>46.0</td>\n",
       "      <td>19.0</td>\n",
       "    </tr>\n",
       "    <tr>\n",
       "      <th>15</th>\n",
       "      <td>16</td>\n",
       "      <td>195.4</td>\n",
       "      <td>47.7</td>\n",
       "      <td>52.9</td>\n",
       "      <td>22.4</td>\n",
       "    </tr>\n",
       "    <tr>\n",
       "      <th>16</th>\n",
       "      <td>17</td>\n",
       "      <td>67.8</td>\n",
       "      <td>36.6</td>\n",
       "      <td>114.0</td>\n",
       "      <td>12.5</td>\n",
       "    </tr>\n",
       "    <tr>\n",
       "      <th>17</th>\n",
       "      <td>18</td>\n",
       "      <td>281.4</td>\n",
       "      <td>39.6</td>\n",
       "      <td>55.8</td>\n",
       "      <td>24.4</td>\n",
       "    </tr>\n",
       "    <tr>\n",
       "      <th>18</th>\n",
       "      <td>19</td>\n",
       "      <td>69.2</td>\n",
       "      <td>20.5</td>\n",
       "      <td>18.3</td>\n",
       "      <td>11.3</td>\n",
       "    </tr>\n",
       "    <tr>\n",
       "      <th>19</th>\n",
       "      <td>20</td>\n",
       "      <td>147.3</td>\n",
       "      <td>23.9</td>\n",
       "      <td>19.1</td>\n",
       "      <td>14.6</td>\n",
       "    </tr>\n",
       "    <tr>\n",
       "      <th>20</th>\n",
       "      <td>21</td>\n",
       "      <td>218.4</td>\n",
       "      <td>27.7</td>\n",
       "      <td>53.4</td>\n",
       "      <td>18.0</td>\n",
       "    </tr>\n",
       "    <tr>\n",
       "      <th>21</th>\n",
       "      <td>22</td>\n",
       "      <td>237.4</td>\n",
       "      <td>5.1</td>\n",
       "      <td>23.5</td>\n",
       "      <td>12.5</td>\n",
       "    </tr>\n",
       "    <tr>\n",
       "      <th>22</th>\n",
       "      <td>23</td>\n",
       "      <td>13.2</td>\n",
       "      <td>15.9</td>\n",
       "      <td>49.6</td>\n",
       "      <td>5.6</td>\n",
       "    </tr>\n",
       "    <tr>\n",
       "      <th>23</th>\n",
       "      <td>24</td>\n",
       "      <td>228.3</td>\n",
       "      <td>16.9</td>\n",
       "      <td>26.2</td>\n",
       "      <td>15.5</td>\n",
       "    </tr>\n",
       "    <tr>\n",
       "      <th>24</th>\n",
       "      <td>25</td>\n",
       "      <td>62.3</td>\n",
       "      <td>12.6</td>\n",
       "      <td>18.3</td>\n",
       "      <td>9.7</td>\n",
       "    </tr>\n",
       "    <tr>\n",
       "      <th>25</th>\n",
       "      <td>26</td>\n",
       "      <td>262.9</td>\n",
       "      <td>3.5</td>\n",
       "      <td>19.5</td>\n",
       "      <td>12.0</td>\n",
       "    </tr>\n",
       "    <tr>\n",
       "      <th>26</th>\n",
       "      <td>27</td>\n",
       "      <td>142.9</td>\n",
       "      <td>29.3</td>\n",
       "      <td>12.6</td>\n",
       "      <td>15.0</td>\n",
       "    </tr>\n",
       "    <tr>\n",
       "      <th>27</th>\n",
       "      <td>28</td>\n",
       "      <td>240.1</td>\n",
       "      <td>16.7</td>\n",
       "      <td>22.9</td>\n",
       "      <td>15.9</td>\n",
       "    </tr>\n",
       "    <tr>\n",
       "      <th>28</th>\n",
       "      <td>29</td>\n",
       "      <td>248.8</td>\n",
       "      <td>27.1</td>\n",
       "      <td>22.9</td>\n",
       "      <td>18.9</td>\n",
       "    </tr>\n",
       "    <tr>\n",
       "      <th>29</th>\n",
       "      <td>30</td>\n",
       "      <td>70.6</td>\n",
       "      <td>16.0</td>\n",
       "      <td>40.8</td>\n",
       "      <td>10.5</td>\n",
       "    </tr>\n",
       "    <tr>\n",
       "      <th>...</th>\n",
       "      <td>...</td>\n",
       "      <td>...</td>\n",
       "      <td>...</td>\n",
       "      <td>...</td>\n",
       "      <td>...</td>\n",
       "    </tr>\n",
       "    <tr>\n",
       "      <th>170</th>\n",
       "      <td>171</td>\n",
       "      <td>50.0</td>\n",
       "      <td>11.6</td>\n",
       "      <td>18.4</td>\n",
       "      <td>8.4</td>\n",
       "    </tr>\n",
       "    <tr>\n",
       "      <th>171</th>\n",
       "      <td>172</td>\n",
       "      <td>164.5</td>\n",
       "      <td>20.9</td>\n",
       "      <td>47.4</td>\n",
       "      <td>14.5</td>\n",
       "    </tr>\n",
       "    <tr>\n",
       "      <th>172</th>\n",
       "      <td>173</td>\n",
       "      <td>19.6</td>\n",
       "      <td>20.1</td>\n",
       "      <td>17.0</td>\n",
       "      <td>7.6</td>\n",
       "    </tr>\n",
       "    <tr>\n",
       "      <th>173</th>\n",
       "      <td>174</td>\n",
       "      <td>168.4</td>\n",
       "      <td>7.1</td>\n",
       "      <td>12.8</td>\n",
       "      <td>11.7</td>\n",
       "    </tr>\n",
       "    <tr>\n",
       "      <th>174</th>\n",
       "      <td>175</td>\n",
       "      <td>222.4</td>\n",
       "      <td>3.4</td>\n",
       "      <td>13.1</td>\n",
       "      <td>11.5</td>\n",
       "    </tr>\n",
       "    <tr>\n",
       "      <th>175</th>\n",
       "      <td>176</td>\n",
       "      <td>276.9</td>\n",
       "      <td>48.9</td>\n",
       "      <td>41.8</td>\n",
       "      <td>27.0</td>\n",
       "    </tr>\n",
       "    <tr>\n",
       "      <th>176</th>\n",
       "      <td>177</td>\n",
       "      <td>248.4</td>\n",
       "      <td>30.2</td>\n",
       "      <td>20.3</td>\n",
       "      <td>20.2</td>\n",
       "    </tr>\n",
       "    <tr>\n",
       "      <th>177</th>\n",
       "      <td>178</td>\n",
       "      <td>170.2</td>\n",
       "      <td>7.8</td>\n",
       "      <td>35.2</td>\n",
       "      <td>11.7</td>\n",
       "    </tr>\n",
       "    <tr>\n",
       "      <th>178</th>\n",
       "      <td>179</td>\n",
       "      <td>276.7</td>\n",
       "      <td>2.3</td>\n",
       "      <td>23.7</td>\n",
       "      <td>11.8</td>\n",
       "    </tr>\n",
       "    <tr>\n",
       "      <th>179</th>\n",
       "      <td>180</td>\n",
       "      <td>165.6</td>\n",
       "      <td>10.0</td>\n",
       "      <td>17.6</td>\n",
       "      <td>12.6</td>\n",
       "    </tr>\n",
       "    <tr>\n",
       "      <th>180</th>\n",
       "      <td>181</td>\n",
       "      <td>156.6</td>\n",
       "      <td>2.6</td>\n",
       "      <td>8.3</td>\n",
       "      <td>10.5</td>\n",
       "    </tr>\n",
       "    <tr>\n",
       "      <th>181</th>\n",
       "      <td>182</td>\n",
       "      <td>218.5</td>\n",
       "      <td>5.4</td>\n",
       "      <td>27.4</td>\n",
       "      <td>12.2</td>\n",
       "    </tr>\n",
       "    <tr>\n",
       "      <th>182</th>\n",
       "      <td>183</td>\n",
       "      <td>56.2</td>\n",
       "      <td>5.7</td>\n",
       "      <td>29.7</td>\n",
       "      <td>8.7</td>\n",
       "    </tr>\n",
       "    <tr>\n",
       "      <th>183</th>\n",
       "      <td>184</td>\n",
       "      <td>287.6</td>\n",
       "      <td>43.0</td>\n",
       "      <td>71.8</td>\n",
       "      <td>26.2</td>\n",
       "    </tr>\n",
       "    <tr>\n",
       "      <th>184</th>\n",
       "      <td>185</td>\n",
       "      <td>253.8</td>\n",
       "      <td>21.3</td>\n",
       "      <td>30.0</td>\n",
       "      <td>17.6</td>\n",
       "    </tr>\n",
       "    <tr>\n",
       "      <th>185</th>\n",
       "      <td>186</td>\n",
       "      <td>205.0</td>\n",
       "      <td>45.1</td>\n",
       "      <td>19.6</td>\n",
       "      <td>22.6</td>\n",
       "    </tr>\n",
       "    <tr>\n",
       "      <th>186</th>\n",
       "      <td>187</td>\n",
       "      <td>139.5</td>\n",
       "      <td>2.1</td>\n",
       "      <td>26.6</td>\n",
       "      <td>10.3</td>\n",
       "    </tr>\n",
       "    <tr>\n",
       "      <th>187</th>\n",
       "      <td>188</td>\n",
       "      <td>191.1</td>\n",
       "      <td>28.7</td>\n",
       "      <td>18.2</td>\n",
       "      <td>17.3</td>\n",
       "    </tr>\n",
       "    <tr>\n",
       "      <th>188</th>\n",
       "      <td>189</td>\n",
       "      <td>286.0</td>\n",
       "      <td>13.9</td>\n",
       "      <td>3.7</td>\n",
       "      <td>15.9</td>\n",
       "    </tr>\n",
       "    <tr>\n",
       "      <th>189</th>\n",
       "      <td>190</td>\n",
       "      <td>18.7</td>\n",
       "      <td>12.1</td>\n",
       "      <td>23.4</td>\n",
       "      <td>6.7</td>\n",
       "    </tr>\n",
       "    <tr>\n",
       "      <th>190</th>\n",
       "      <td>191</td>\n",
       "      <td>39.5</td>\n",
       "      <td>41.1</td>\n",
       "      <td>5.8</td>\n",
       "      <td>10.8</td>\n",
       "    </tr>\n",
       "    <tr>\n",
       "      <th>191</th>\n",
       "      <td>192</td>\n",
       "      <td>75.5</td>\n",
       "      <td>10.8</td>\n",
       "      <td>6.0</td>\n",
       "      <td>9.9</td>\n",
       "    </tr>\n",
       "    <tr>\n",
       "      <th>192</th>\n",
       "      <td>193</td>\n",
       "      <td>17.2</td>\n",
       "      <td>4.1</td>\n",
       "      <td>31.6</td>\n",
       "      <td>5.9</td>\n",
       "    </tr>\n",
       "    <tr>\n",
       "      <th>193</th>\n",
       "      <td>194</td>\n",
       "      <td>166.8</td>\n",
       "      <td>42.0</td>\n",
       "      <td>3.6</td>\n",
       "      <td>19.6</td>\n",
       "    </tr>\n",
       "    <tr>\n",
       "      <th>194</th>\n",
       "      <td>195</td>\n",
       "      <td>149.7</td>\n",
       "      <td>35.6</td>\n",
       "      <td>6.0</td>\n",
       "      <td>17.3</td>\n",
       "    </tr>\n",
       "    <tr>\n",
       "      <th>195</th>\n",
       "      <td>196</td>\n",
       "      <td>38.2</td>\n",
       "      <td>3.7</td>\n",
       "      <td>13.8</td>\n",
       "      <td>7.6</td>\n",
       "    </tr>\n",
       "    <tr>\n",
       "      <th>196</th>\n",
       "      <td>197</td>\n",
       "      <td>94.2</td>\n",
       "      <td>4.9</td>\n",
       "      <td>8.1</td>\n",
       "      <td>9.7</td>\n",
       "    </tr>\n",
       "    <tr>\n",
       "      <th>197</th>\n",
       "      <td>198</td>\n",
       "      <td>177.0</td>\n",
       "      <td>9.3</td>\n",
       "      <td>6.4</td>\n",
       "      <td>12.8</td>\n",
       "    </tr>\n",
       "    <tr>\n",
       "      <th>198</th>\n",
       "      <td>199</td>\n",
       "      <td>283.6</td>\n",
       "      <td>42.0</td>\n",
       "      <td>66.2</td>\n",
       "      <td>25.5</td>\n",
       "    </tr>\n",
       "    <tr>\n",
       "      <th>199</th>\n",
       "      <td>200</td>\n",
       "      <td>232.1</td>\n",
       "      <td>8.6</td>\n",
       "      <td>8.7</td>\n",
       "      <td>13.4</td>\n",
       "    </tr>\n",
       "  </tbody>\n",
       "</table>\n",
       "<p>200 rows × 5 columns</p>\n",
       "</div>"
      ],
      "text/plain": [
       "     Unnamed: 0     TV  radio  newspaper  sales\n",
       "0             1  230.1   37.8       69.2   22.1\n",
       "1             2   44.5   39.3       45.1   10.4\n",
       "2             3   17.2   45.9       69.3    9.3\n",
       "3             4  151.5   41.3       58.5   18.5\n",
       "4             5  180.8   10.8       58.4   12.9\n",
       "5             6    8.7   48.9       75.0    7.2\n",
       "6             7   57.5   32.8       23.5   11.8\n",
       "7             8  120.2   19.6       11.6   13.2\n",
       "8             9    8.6    2.1        1.0    4.8\n",
       "9            10  199.8    2.6       21.2   10.6\n",
       "10           11   66.1    5.8       24.2    8.6\n",
       "11           12  214.7   24.0        4.0   17.4\n",
       "12           13   23.8   35.1       65.9    9.2\n",
       "13           14   97.5    7.6        7.2    9.7\n",
       "14           15  204.1   32.9       46.0   19.0\n",
       "15           16  195.4   47.7       52.9   22.4\n",
       "16           17   67.8   36.6      114.0   12.5\n",
       "17           18  281.4   39.6       55.8   24.4\n",
       "18           19   69.2   20.5       18.3   11.3\n",
       "19           20  147.3   23.9       19.1   14.6\n",
       "20           21  218.4   27.7       53.4   18.0\n",
       "21           22  237.4    5.1       23.5   12.5\n",
       "22           23   13.2   15.9       49.6    5.6\n",
       "23           24  228.3   16.9       26.2   15.5\n",
       "24           25   62.3   12.6       18.3    9.7\n",
       "25           26  262.9    3.5       19.5   12.0\n",
       "26           27  142.9   29.3       12.6   15.0\n",
       "27           28  240.1   16.7       22.9   15.9\n",
       "28           29  248.8   27.1       22.9   18.9\n",
       "29           30   70.6   16.0       40.8   10.5\n",
       "..          ...    ...    ...        ...    ...\n",
       "170         171   50.0   11.6       18.4    8.4\n",
       "171         172  164.5   20.9       47.4   14.5\n",
       "172         173   19.6   20.1       17.0    7.6\n",
       "173         174  168.4    7.1       12.8   11.7\n",
       "174         175  222.4    3.4       13.1   11.5\n",
       "175         176  276.9   48.9       41.8   27.0\n",
       "176         177  248.4   30.2       20.3   20.2\n",
       "177         178  170.2    7.8       35.2   11.7\n",
       "178         179  276.7    2.3       23.7   11.8\n",
       "179         180  165.6   10.0       17.6   12.6\n",
       "180         181  156.6    2.6        8.3   10.5\n",
       "181         182  218.5    5.4       27.4   12.2\n",
       "182         183   56.2    5.7       29.7    8.7\n",
       "183         184  287.6   43.0       71.8   26.2\n",
       "184         185  253.8   21.3       30.0   17.6\n",
       "185         186  205.0   45.1       19.6   22.6\n",
       "186         187  139.5    2.1       26.6   10.3\n",
       "187         188  191.1   28.7       18.2   17.3\n",
       "188         189  286.0   13.9        3.7   15.9\n",
       "189         190   18.7   12.1       23.4    6.7\n",
       "190         191   39.5   41.1        5.8   10.8\n",
       "191         192   75.5   10.8        6.0    9.9\n",
       "192         193   17.2    4.1       31.6    5.9\n",
       "193         194  166.8   42.0        3.6   19.6\n",
       "194         195  149.7   35.6        6.0   17.3\n",
       "195         196   38.2    3.7       13.8    7.6\n",
       "196         197   94.2    4.9        8.1    9.7\n",
       "197         198  177.0    9.3        6.4   12.8\n",
       "198         199  283.6   42.0       66.2   25.5\n",
       "199         200  232.1    8.6        8.7   13.4\n",
       "\n",
       "[200 rows x 5 columns]"
      ]
     },
     "execution_count": 3,
     "metadata": {},
     "output_type": "execute_result"
    }
   ],
   "source": [
    "# Data loading processing\n",
    "adv=pd.read_csv('Data/Advertising.csv')\n",
    "adv"
   ]
  },
  {
   "cell_type": "code",
   "execution_count": 4,
   "metadata": {},
   "outputs": [],
   "source": [
    "adv = adv.drop(['Unnamed: 0'],axis =1)"
   ]
  },
  {
   "cell_type": "code",
   "execution_count": 5,
   "metadata": {},
   "outputs": [
    {
     "data": {
      "text/plain": [
       "Index(['TV', 'radio', 'newspaper', 'sales'], dtype='object')"
      ]
     },
     "execution_count": 5,
     "metadata": {},
     "output_type": "execute_result"
    }
   ],
   "source": [
    "adv.columns"
   ]
  },
  {
   "cell_type": "code",
   "execution_count": 6,
   "metadata": {},
   "outputs": [
    {
     "data": {
      "text/plain": [
       "0      False\n",
       "1      False\n",
       "2      False\n",
       "3      False\n",
       "4      False\n",
       "5      False\n",
       "6      False\n",
       "7      False\n",
       "8      False\n",
       "9      False\n",
       "10     False\n",
       "11     False\n",
       "12     False\n",
       "13     False\n",
       "14     False\n",
       "15     False\n",
       "16     False\n",
       "17     False\n",
       "18     False\n",
       "19     False\n",
       "20     False\n",
       "21     False\n",
       "22     False\n",
       "23     False\n",
       "24     False\n",
       "25     False\n",
       "26     False\n",
       "27     False\n",
       "28     False\n",
       "29     False\n",
       "       ...  \n",
       "170    False\n",
       "171    False\n",
       "172    False\n",
       "173    False\n",
       "174    False\n",
       "175    False\n",
       "176    False\n",
       "177    False\n",
       "178    False\n",
       "179    False\n",
       "180    False\n",
       "181    False\n",
       "182    False\n",
       "183    False\n",
       "184    False\n",
       "185    False\n",
       "186    False\n",
       "187    False\n",
       "188    False\n",
       "189    False\n",
       "190    False\n",
       "191    False\n",
       "192    False\n",
       "193    False\n",
       "194    False\n",
       "195    False\n",
       "196    False\n",
       "197    False\n",
       "198    False\n",
       "199    False\n",
       "Name: TV, Length: 200, dtype: bool"
      ]
     },
     "execution_count": 6,
     "metadata": {},
     "output_type": "execute_result"
    }
   ],
   "source": [
    "x=adv['TV']\n",
    "x.isnull()"
   ]
  },
  {
   "cell_type": "code",
   "execution_count": 7,
   "metadata": {},
   "outputs": [
    {
     "name": "stdout",
     "output_type": "stream",
     "text": [
      "<class 'pandas.core.frame.DataFrame'>\n",
      "RangeIndex: 200 entries, 0 to 199\n",
      "Data columns (total 4 columns):\n",
      "TV           200 non-null float64\n",
      "radio        200 non-null float64\n",
      "newspaper    200 non-null float64\n",
      "sales        200 non-null float64\n",
      "dtypes: float64(4)\n",
      "memory usage: 6.3 KB\n",
      "      TV  radio  newspaper  sales\n",
      "0  230.1   37.8       69.2   22.1\n",
      "1   44.5   39.3       45.1   10.4\n",
      "2   17.2   45.9       69.3    9.3\n",
      "3  151.5   41.3       58.5   18.5\n",
      "4  180.8   10.8       58.4   12.9 Head information\n",
      " None                TV       radio   newspaper       sales\n",
      "count  200.000000  200.000000  200.000000  200.000000\n",
      "mean   147.042500   23.264000   30.554000   14.022500\n",
      "std     85.854236   14.846809   21.778621    5.217457\n",
      "min      0.700000    0.000000    0.300000    1.600000\n",
      "25%     74.375000    9.975000   12.750000   10.375000\n",
      "50%    149.750000   22.900000   25.750000   12.900000\n",
      "75%    218.825000   36.525000   45.100000   17.400000\n",
      "max    296.400000   49.600000  114.000000   27.000000         TV  radio  newspaper  sales\n",
      "195   38.2    3.7       13.8    7.6\n",
      "196   94.2    4.9        8.1    9.7\n",
      "197  177.0    9.3        6.4   12.8\n",
      "198  283.6   42.0       66.2   25.5\n",
      "199  232.1    8.6        8.7   13.4\n"
     ]
    }
   ],
   "source": [
    "#Descriptive statistics\n",
    "print(adv.head(),\"Head information\\n\",adv.info(),adv.describe(),adv.tail())"
   ]
  },
  {
   "cell_type": "code",
   "execution_count": 8,
   "metadata": {},
   "outputs": [
    {
     "data": {
      "text/plain": [
       "147.0425"
      ]
     },
     "execution_count": 8,
     "metadata": {},
     "output_type": "execute_result"
    }
   ],
   "source": [
    "x1=x.mean()\n",
    "x1"
   ]
  },
  {
   "cell_type": "code",
   "execution_count": 9,
   "metadata": {},
   "outputs": [
    {
     "data": {
      "text/plain": [
       "296.4"
      ]
     },
     "execution_count": 9,
     "metadata": {},
     "output_type": "execute_result"
    }
   ],
   "source": [
    "maxt=max(x)\n",
    "maxt"
   ]
  },
  {
   "cell_type": "code",
   "execution_count": 10,
   "metadata": {},
   "outputs": [
    {
     "data": {
      "text/plain": [
       "0.7"
      ]
     },
     "execution_count": 10,
     "metadata": {},
     "output_type": "execute_result"
    }
   ],
   "source": [
    "mint=min(x)\n",
    "mint"
   ]
  },
  {
   "cell_type": "code",
   "execution_count": 11,
   "metadata": {},
   "outputs": [],
   "source": [
    "# y=mx+c,\n",
    "# m=1,\n",
    "# c=3"
   ]
  },
  {
   "cell_type": "code",
   "execution_count": 12,
   "metadata": {},
   "outputs": [
    {
     "data": {
      "text/plain": [
       "0      233.1\n",
       "1       47.5\n",
       "2       20.2\n",
       "3      154.5\n",
       "4      183.8\n",
       "5       11.7\n",
       "6       60.5\n",
       "7      123.2\n",
       "8       11.6\n",
       "9      202.8\n",
       "10      69.1\n",
       "11     217.7\n",
       "12      26.8\n",
       "13     100.5\n",
       "14     207.1\n",
       "15     198.4\n",
       "16      70.8\n",
       "17     284.4\n",
       "18      72.2\n",
       "19     150.3\n",
       "20     221.4\n",
       "21     240.4\n",
       "22      16.2\n",
       "23     231.3\n",
       "24      65.3\n",
       "25     265.9\n",
       "26     145.9\n",
       "27     243.1\n",
       "28     251.8\n",
       "29      73.6\n",
       "       ...  \n",
       "170     53.0\n",
       "171    167.5\n",
       "172     22.6\n",
       "173    171.4\n",
       "174    225.4\n",
       "175    279.9\n",
       "176    251.4\n",
       "177    173.2\n",
       "178    279.7\n",
       "179    168.6\n",
       "180    159.6\n",
       "181    221.5\n",
       "182     59.2\n",
       "183    290.6\n",
       "184    256.8\n",
       "185    208.0\n",
       "186    142.5\n",
       "187    194.1\n",
       "188    289.0\n",
       "189     21.7\n",
       "190     42.5\n",
       "191     78.5\n",
       "192     20.2\n",
       "193    169.8\n",
       "194    152.7\n",
       "195     41.2\n",
       "196     97.2\n",
       "197    180.0\n",
       "198    286.6\n",
       "199    235.1\n",
       "Name: TV, Length: 200, dtype: float64"
      ]
     },
     "execution_count": 12,
     "metadata": {},
     "output_type": "execute_result"
    }
   ],
   "source": [
    "y=(1)*(x)+3\n",
    "y"
   ]
  },
  {
   "cell_type": "code",
   "execution_count": 13,
   "metadata": {},
   "outputs": [
    {
     "data": {
      "text/plain": [
       "0       83.0575\n",
       "1     -102.5425\n",
       "2     -129.8425\n",
       "3        4.4575\n",
       "4       33.7575\n",
       "5     -138.3425\n",
       "6      -89.5425\n",
       "7      -26.8425\n",
       "8     -138.4425\n",
       "9       52.7575\n",
       "10     -80.9425\n",
       "11      67.6575\n",
       "12    -123.2425\n",
       "13     -49.5425\n",
       "14      57.0575\n",
       "15      48.3575\n",
       "16     -79.2425\n",
       "17     134.3575\n",
       "18     -77.8425\n",
       "19       0.2575\n",
       "20      71.3575\n",
       "21      90.3575\n",
       "22    -133.8425\n",
       "23      81.2575\n",
       "24     -84.7425\n",
       "25     115.8575\n",
       "26      -4.1425\n",
       "27      93.0575\n",
       "28     101.7575\n",
       "29     -76.4425\n",
       "         ...   \n",
       "170    -97.0425\n",
       "171     17.4575\n",
       "172   -127.4425\n",
       "173     21.3575\n",
       "174     75.3575\n",
       "175    129.8575\n",
       "176    101.3575\n",
       "177     23.1575\n",
       "178    129.6575\n",
       "179     18.5575\n",
       "180      9.5575\n",
       "181     71.4575\n",
       "182    -90.8425\n",
       "183    140.5575\n",
       "184    106.7575\n",
       "185     57.9575\n",
       "186     -7.5425\n",
       "187     44.0575\n",
       "188    138.9575\n",
       "189   -128.3425\n",
       "190   -107.5425\n",
       "191    -71.5425\n",
       "192   -129.8425\n",
       "193     19.7575\n",
       "194      2.6575\n",
       "195   -108.8425\n",
       "196    -52.8425\n",
       "197     29.9575\n",
       "198    136.5575\n",
       "199     85.0575\n",
       "Name: TV, Length: 200, dtype: float64"
      ]
     },
     "execution_count": 13,
     "metadata": {},
     "output_type": "execute_result"
    }
   ],
   "source": [
    "xm=x-x1\n",
    "xm"
   ]
  },
  {
   "cell_type": "code",
   "execution_count": 14,
   "metadata": {},
   "outputs": [
    {
     "data": {
      "text/plain": [
       "0       6898.548306\n",
       "1      10514.964306\n",
       "2      16859.074806\n",
       "3         19.869306\n",
       "4       1139.568806\n",
       "5      19138.647306\n",
       "6       8017.859306\n",
       "7        720.519806\n",
       "8      19166.325806\n",
       "9       2783.353806\n",
       "10      6551.688306\n",
       "11      4577.537306\n",
       "12     15188.713806\n",
       "13      2454.459306\n",
       "14      3255.558306\n",
       "15      2338.447806\n",
       "16      6279.373806\n",
       "17     18051.937806\n",
       "18      6059.454806\n",
       "19         0.066306\n",
       "20      5091.892806\n",
       "21      8164.477806\n",
       "22     17913.814806\n",
       "23      6602.781306\n",
       "24      7181.291306\n",
       "25     13422.960306\n",
       "26        17.160306\n",
       "27      8659.698306\n",
       "28     10354.588806\n",
       "29      5843.455806\n",
       "           ...     \n",
       "170     9417.246806\n",
       "171      304.764306\n",
       "172    16241.590806\n",
       "173      456.142806\n",
       "174     5678.752806\n",
       "175    16862.970306\n",
       "176    10273.342806\n",
       "177      536.269806\n",
       "178    16811.067306\n",
       "179      344.380806\n",
       "180       91.345806\n",
       "181     5106.174306\n",
       "182     8252.359806\n",
       "183    19756.410806\n",
       "184    11397.163806\n",
       "185     3359.071806\n",
       "186       56.889306\n",
       "187     1941.063306\n",
       "188    19309.186806\n",
       "189    16471.797306\n",
       "190    11565.389306\n",
       "191     5118.329306\n",
       "192    16859.074806\n",
       "193      390.358806\n",
       "194        7.062306\n",
       "195    11846.689806\n",
       "196     2792.329806\n",
       "197      897.451806\n",
       "198    18647.950806\n",
       "199     7234.778306\n",
       "Name: TV, Length: 200, dtype: float64"
      ]
     },
     "execution_count": 14,
     "metadata": {},
     "output_type": "execute_result"
    }
   ],
   "source": [
    "xms=xm*xm\n",
    "xms"
   ]
  },
  {
   "cell_type": "code",
   "execution_count": 15,
   "metadata": {},
   "outputs": [
    {
     "data": {
      "text/plain": [
       "150.0425"
      ]
     },
     "execution_count": 15,
     "metadata": {},
     "output_type": "execute_result"
    }
   ],
   "source": [
    "y1=y.mean()\n",
    "y1"
   ]
  },
  {
   "cell_type": "code",
   "execution_count": 16,
   "metadata": {},
   "outputs": [
    {
     "data": {
      "text/plain": [
       "0       83.0575\n",
       "1     -102.5425\n",
       "2     -129.8425\n",
       "3        4.4575\n",
       "4       33.7575\n",
       "5     -138.3425\n",
       "6      -89.5425\n",
       "7      -26.8425\n",
       "8     -138.4425\n",
       "9       52.7575\n",
       "10     -80.9425\n",
       "11      67.6575\n",
       "12    -123.2425\n",
       "13     -49.5425\n",
       "14      57.0575\n",
       "15      48.3575\n",
       "16     -79.2425\n",
       "17     134.3575\n",
       "18     -77.8425\n",
       "19       0.2575\n",
       "20      71.3575\n",
       "21      90.3575\n",
       "22    -133.8425\n",
       "23      81.2575\n",
       "24     -84.7425\n",
       "25     115.8575\n",
       "26      -4.1425\n",
       "27      93.0575\n",
       "28     101.7575\n",
       "29     -76.4425\n",
       "         ...   \n",
       "170    -97.0425\n",
       "171     17.4575\n",
       "172   -127.4425\n",
       "173     21.3575\n",
       "174     75.3575\n",
       "175    129.8575\n",
       "176    101.3575\n",
       "177     23.1575\n",
       "178    129.6575\n",
       "179     18.5575\n",
       "180      9.5575\n",
       "181     71.4575\n",
       "182    -90.8425\n",
       "183    140.5575\n",
       "184    106.7575\n",
       "185     57.9575\n",
       "186     -7.5425\n",
       "187     44.0575\n",
       "188    138.9575\n",
       "189   -128.3425\n",
       "190   -107.5425\n",
       "191    -71.5425\n",
       "192   -129.8425\n",
       "193     19.7575\n",
       "194      2.6575\n",
       "195   -108.8425\n",
       "196    -52.8425\n",
       "197     29.9575\n",
       "198    136.5575\n",
       "199     85.0575\n",
       "Name: TV, Length: 200, dtype: float64"
      ]
     },
     "execution_count": 16,
     "metadata": {},
     "output_type": "execute_result"
    }
   ],
   "source": [
    "ym=y-y1\n",
    "ym"
   ]
  },
  {
   "cell_type": "code",
   "execution_count": 17,
   "metadata": {},
   "outputs": [
    {
     "data": {
      "text/plain": [
       "0       6898.548306\n",
       "1      10514.964306\n",
       "2      16859.074806\n",
       "3         19.869306\n",
       "4       1139.568806\n",
       "5      19138.647306\n",
       "6       8017.859306\n",
       "7        720.519806\n",
       "8      19166.325806\n",
       "9       2783.353806\n",
       "10      6551.688306\n",
       "11      4577.537306\n",
       "12     15188.713806\n",
       "13      2454.459306\n",
       "14      3255.558306\n",
       "15      2338.447806\n",
       "16      6279.373806\n",
       "17     18051.937806\n",
       "18      6059.454806\n",
       "19         0.066306\n",
       "20      5091.892806\n",
       "21      8164.477806\n",
       "22     17913.814806\n",
       "23      6602.781306\n",
       "24      7181.291306\n",
       "25     13422.960306\n",
       "26        17.160306\n",
       "27      8659.698306\n",
       "28     10354.588806\n",
       "29      5843.455806\n",
       "           ...     \n",
       "170     9417.246806\n",
       "171      304.764306\n",
       "172    16241.590806\n",
       "173      456.142806\n",
       "174     5678.752806\n",
       "175    16862.970306\n",
       "176    10273.342806\n",
       "177      536.269806\n",
       "178    16811.067306\n",
       "179      344.380806\n",
       "180       91.345806\n",
       "181     5106.174306\n",
       "182     8252.359806\n",
       "183    19756.410806\n",
       "184    11397.163806\n",
       "185     3359.071806\n",
       "186       56.889306\n",
       "187     1941.063306\n",
       "188    19309.186806\n",
       "189    16471.797306\n",
       "190    11565.389306\n",
       "191     5118.329306\n",
       "192    16859.074806\n",
       "193      390.358806\n",
       "194        7.062306\n",
       "195    11846.689806\n",
       "196     2792.329806\n",
       "197      897.451806\n",
       "198    18647.950806\n",
       "199     7234.778306\n",
       "Name: TV, Length: 200, dtype: float64"
      ]
     },
     "execution_count": 17,
     "metadata": {},
     "output_type": "execute_result"
    }
   ],
   "source": [
    "xy=xm*ym\n",
    "xy"
   ]
  },
  {
   "cell_type": "code",
   "execution_count": 18,
   "metadata": {},
   "outputs": [
    {
     "data": {
      "text/plain": [
       "1466819.0287500012"
      ]
     },
     "execution_count": 18,
     "metadata": {},
     "output_type": "execute_result"
    }
   ],
   "source": [
    "s1=sum(xy)\n",
    "s1"
   ]
  },
  {
   "cell_type": "code",
   "execution_count": 19,
   "metadata": {},
   "outputs": [
    {
     "data": {
      "text/plain": [
       "1466819.0287500012"
      ]
     },
     "execution_count": 19,
     "metadata": {},
     "output_type": "execute_result"
    }
   ],
   "source": [
    "s2=sum(xms)\n",
    "s2"
   ]
  },
  {
   "cell_type": "code",
   "execution_count": 20,
   "metadata": {},
   "outputs": [
    {
     "data": {
      "text/plain": [
       "1.0"
      ]
     },
     "execution_count": 20,
     "metadata": {},
     "output_type": "execute_result"
    }
   ],
   "source": [
    "b1=s1/s2\n",
    "b1"
   ]
  },
  {
   "cell_type": "code",
   "execution_count": 21,
   "metadata": {},
   "outputs": [],
   "source": [
    "#y1=b0+(b1*x1)"
   ]
  },
  {
   "cell_type": "code",
   "execution_count": 22,
   "metadata": {},
   "outputs": [
    {
     "data": {
      "text/plain": [
       "3.0"
      ]
     },
     "execution_count": 22,
     "metadata": {},
     "output_type": "execute_result"
    }
   ],
   "source": [
    "b0=y1-(b1*x1)\n",
    "b0"
   ]
  },
  {
   "cell_type": "code",
   "execution_count": 23,
   "metadata": {},
   "outputs": [
    {
     "data": {
      "image/png": "[encoded data removed]",
      "text/plain": [
       "<Figure size 432x288 with 1 Axes>"
      ]
     },
     "metadata": {
      "needs_background": "light"
     },
     "output_type": "display_data"
    }
   ],
   "source": [
    "plt.plot(x,y)\n",
    "plt.show()"
   ]
  },
  {
   "cell_type": "code",
   "execution_count": 24,
   "metadata": {},
   "outputs": [],
   "source": [
    "#Radio Data"
   ]
  },
  {
   "cell_type": "code",
   "execution_count": 25,
   "metadata": {},
   "outputs": [
    {
     "data": {
      "text/plain": [
       "0      37.8\n",
       "1      39.3\n",
       "2      45.9\n",
       "3      41.3\n",
       "4      10.8\n",
       "5      48.9\n",
       "6      32.8\n",
       "7      19.6\n",
       "8       2.1\n",
       "9       2.6\n",
       "10      5.8\n",
       "11     24.0\n",
       "12     35.1\n",
       "13      7.6\n",
       "14     32.9\n",
       "15     47.7\n",
       "16     36.6\n",
       "17     39.6\n",
       "18     20.5\n",
       "19     23.9\n",
       "20     27.7\n",
       "21      5.1\n",
       "22     15.9\n",
       "23     16.9\n",
       "24     12.6\n",
       "25      3.5\n",
       "26     29.3\n",
       "27     16.7\n",
       "28     27.1\n",
       "29     16.0\n",
       "       ... \n",
       "170    11.6\n",
       "171    20.9\n",
       "172    20.1\n",
       "173     7.1\n",
       "174     3.4\n",
       "175    48.9\n",
       "176    30.2\n",
       "177     7.8\n",
       "178     2.3\n",
       "179    10.0\n",
       "180     2.6\n",
       "181     5.4\n",
       "182     5.7\n",
       "183    43.0\n",
       "184    21.3\n",
       "185    45.1\n",
       "186     2.1\n",
       "187    28.7\n",
       "188    13.9\n",
       "189    12.1\n",
       "190    41.1\n",
       "191    10.8\n",
       "192     4.1\n",
       "193    42.0\n",
       "194    35.6\n",
       "195     3.7\n",
       "196     4.9\n",
       "197     9.3\n",
       "198    42.0\n",
       "199     8.6\n",
       "Name: radio, Length: 200, dtype: float64"
      ]
     },
     "execution_count": 25,
     "metadata": {},
     "output_type": "execute_result"
    }
   ],
   "source": [
    "x2=adv['radio']\n",
    "x2"
   ]
  },
  {
   "cell_type": "code",
   "execution_count": 26,
   "metadata": {},
   "outputs": [
    {
     "data": {
      "text/plain": [
       "23.264000000000006"
      ]
     },
     "execution_count": 26,
     "metadata": {},
     "output_type": "execute_result"
    }
   ],
   "source": [
    "x3=x2.mean()\n",
    "x3"
   ]
  },
  {
   "cell_type": "code",
   "execution_count": 27,
   "metadata": {},
   "outputs": [
    {
     "data": {
      "text/plain": [
       "49.6"
      ]
     },
     "execution_count": 27,
     "metadata": {},
     "output_type": "execute_result"
    }
   ],
   "source": [
    "maxr=max(x2)\n",
    "maxr"
   ]
  },
  {
   "cell_type": "code",
   "execution_count": 28,
   "metadata": {},
   "outputs": [
    {
     "data": {
      "text/plain": [
       "0.0"
      ]
     },
     "execution_count": 28,
     "metadata": {},
     "output_type": "execute_result"
    }
   ],
   "source": [
    "minr=min(x2)\n",
    "minr"
   ]
  },
  {
   "cell_type": "code",
   "execution_count": 29,
   "metadata": {},
   "outputs": [],
   "source": [
    "#y=mx+c,m=7,c=9"
   ]
  },
  {
   "cell_type": "code",
   "execution_count": 30,
   "metadata": {},
   "outputs": [
    {
     "data": {
      "text/plain": [
       "0      273.6\n",
       "1      284.1\n",
       "2      330.3\n",
       "3      298.1\n",
       "4       84.6\n",
       "5      351.3\n",
       "6      238.6\n",
       "7      146.2\n",
       "8       23.7\n",
       "9       27.2\n",
       "10      49.6\n",
       "11     177.0\n",
       "12     254.7\n",
       "13      62.2\n",
       "14     239.3\n",
       "15     342.9\n",
       "16     265.2\n",
       "17     286.2\n",
       "18     152.5\n",
       "19     176.3\n",
       "20     202.9\n",
       "21      44.7\n",
       "22     120.3\n",
       "23     127.3\n",
       "24      97.2\n",
       "25      33.5\n",
       "26     214.1\n",
       "27     125.9\n",
       "28     198.7\n",
       "29     121.0\n",
       "       ...  \n",
       "170     90.2\n",
       "171    155.3\n",
       "172    149.7\n",
       "173     58.7\n",
       "174     32.8\n",
       "175    351.3\n",
       "176    220.4\n",
       "177     63.6\n",
       "178     25.1\n",
       "179     79.0\n",
       "180     27.2\n",
       "181     46.8\n",
       "182     48.9\n",
       "183    310.0\n",
       "184    158.1\n",
       "185    324.7\n",
       "186     23.7\n",
       "187    209.9\n",
       "188    106.3\n",
       "189     93.7\n",
       "190    296.7\n",
       "191     84.6\n",
       "192     37.7\n",
       "193    303.0\n",
       "194    258.2\n",
       "195     34.9\n",
       "196     43.3\n",
       "197     74.1\n",
       "198    303.0\n",
       "199     69.2\n",
       "Name: radio, Length: 200, dtype: float64"
      ]
     },
     "execution_count": 30,
     "metadata": {},
     "output_type": "execute_result"
    }
   ],
   "source": [
    "y2=(7)*(x2)+9\n",
    "y2"
   ]
  },
  {
   "cell_type": "code",
   "execution_count": 31,
   "metadata": {},
   "outputs": [
    {
     "data": {
      "text/plain": [
       "171.84800000000004"
      ]
     },
     "execution_count": 31,
     "metadata": {},
     "output_type": "execute_result"
    }
   ],
   "source": [
    "y3=y2.mean()\n",
    "y3"
   ]
  },
  {
   "cell_type": "code",
   "execution_count": 32,
   "metadata": {},
   "outputs": [
    {
     "data": {
      "text/plain": [
       "0      14.536\n",
       "1      16.036\n",
       "2      22.636\n",
       "3      18.036\n",
       "4     -12.464\n",
       "5      25.636\n",
       "6       9.536\n",
       "7      -3.664\n",
       "8     -21.164\n",
       "9     -20.664\n",
       "10    -17.464\n",
       "11      0.736\n",
       "12     11.836\n",
       "13    -15.664\n",
       "14      9.636\n",
       "15     24.436\n",
       "16     13.336\n",
       "17     16.336\n",
       "18     -2.764\n",
       "19      0.636\n",
       "20      4.436\n",
       "21    -18.164\n",
       "22     -7.364\n",
       "23     -6.364\n",
       "24    -10.664\n",
       "25    -19.764\n",
       "26      6.036\n",
       "27     -6.564\n",
       "28      3.836\n",
       "29     -7.264\n",
       "        ...  \n",
       "170   -11.664\n",
       "171    -2.364\n",
       "172    -3.164\n",
       "173   -16.164\n",
       "174   -19.864\n",
       "175    25.636\n",
       "176     6.936\n",
       "177   -15.464\n",
       "178   -20.964\n",
       "179   -13.264\n",
       "180   -20.664\n",
       "181   -17.864\n",
       "182   -17.564\n",
       "183    19.736\n",
       "184    -1.964\n",
       "185    21.836\n",
       "186   -21.164\n",
       "187     5.436\n",
       "188    -9.364\n",
       "189   -11.164\n",
       "190    17.836\n",
       "191   -12.464\n",
       "192   -19.164\n",
       "193    18.736\n",
       "194    12.336\n",
       "195   -19.564\n",
       "196   -18.364\n",
       "197   -13.964\n",
       "198    18.736\n",
       "199   -14.664\n",
       "Name: radio, Length: 200, dtype: float64"
      ]
     },
     "execution_count": 32,
     "metadata": {},
     "output_type": "execute_result"
    }
   ],
   "source": [
    "x4=x2-x3\n",
    "x4"
   ]
  },
  {
   "cell_type": "code",
   "execution_count": 33,
   "metadata": {},
   "outputs": [
    {
     "data": {
      "text/plain": [
       "0      211.295296\n",
       "1      257.153296\n",
       "2      512.388496\n",
       "3      325.297296\n",
       "4      155.351296\n",
       "5      657.204496\n",
       "6       90.935296\n",
       "7       13.424896\n",
       "8      447.914896\n",
       "9      427.000896\n",
       "10     304.991296\n",
       "11       0.541696\n",
       "12     140.090896\n",
       "13     245.360896\n",
       "14      92.852496\n",
       "15     597.118096\n",
       "16     177.848896\n",
       "17     266.864896\n",
       "18       7.639696\n",
       "19       0.404496\n",
       "20      19.678096\n",
       "21     329.930896\n",
       "22      54.228496\n",
       "23      40.500496\n",
       "24     113.720896\n",
       "25     390.615696\n",
       "26      36.433296\n",
       "27      43.086096\n",
       "28      14.714896\n",
       "29      52.765696\n",
       "          ...    \n",
       "170    136.048896\n",
       "171      5.588496\n",
       "172     10.010896\n",
       "173    261.274896\n",
       "174    394.578496\n",
       "175    657.204496\n",
       "176     48.108096\n",
       "177    239.135296\n",
       "178    439.489296\n",
       "179    175.933696\n",
       "180    427.000896\n",
       "181    319.122496\n",
       "182    308.494096\n",
       "183    389.509696\n",
       "184      3.857296\n",
       "185    476.810896\n",
       "186    447.914896\n",
       "187     29.550096\n",
       "188     87.684496\n",
       "189    124.634896\n",
       "190    318.122896\n",
       "191    155.351296\n",
       "192    367.258896\n",
       "193    351.037696\n",
       "194    152.176896\n",
       "195    382.750096\n",
       "196    337.236496\n",
       "197    194.993296\n",
       "198    351.037696\n",
       "199    215.032896\n",
       "Name: radio, Length: 200, dtype: float64"
      ]
     },
     "execution_count": 33,
     "metadata": {},
     "output_type": "execute_result"
    }
   ],
   "source": [
    "x5=x4*x4\n",
    "x5"
   ]
  },
  {
   "cell_type": "code",
   "execution_count": 34,
   "metadata": {},
   "outputs": [
    {
     "data": {
      "text/plain": [
       "0      101.752\n",
       "1      112.252\n",
       "2      158.452\n",
       "3      126.252\n",
       "4      -87.248\n",
       "5      179.452\n",
       "6       66.752\n",
       "7      -25.648\n",
       "8     -148.148\n",
       "9     -144.648\n",
       "10    -122.248\n",
       "11       5.152\n",
       "12      82.852\n",
       "13    -109.648\n",
       "14      67.452\n",
       "15     171.052\n",
       "16      93.352\n",
       "17     114.352\n",
       "18     -19.348\n",
       "19       4.452\n",
       "20      31.052\n",
       "21    -127.148\n",
       "22     -51.548\n",
       "23     -44.548\n",
       "24     -74.648\n",
       "25    -138.348\n",
       "26      42.252\n",
       "27     -45.948\n",
       "28      26.852\n",
       "29     -50.848\n",
       "        ...   \n",
       "170    -81.648\n",
       "171    -16.548\n",
       "172    -22.148\n",
       "173   -113.148\n",
       "174   -139.048\n",
       "175    179.452\n",
       "176     48.552\n",
       "177   -108.248\n",
       "178   -146.748\n",
       "179    -92.848\n",
       "180   -144.648\n",
       "181   -125.048\n",
       "182   -122.948\n",
       "183    138.152\n",
       "184    -13.748\n",
       "185    152.852\n",
       "186   -148.148\n",
       "187     38.052\n",
       "188    -65.548\n",
       "189    -78.148\n",
       "190    124.852\n",
       "191    -87.248\n",
       "192   -134.148\n",
       "193    131.152\n",
       "194     86.352\n",
       "195   -136.948\n",
       "196   -128.548\n",
       "197    -97.748\n",
       "198    131.152\n",
       "199   -102.648\n",
       "Name: radio, Length: 200, dtype: float64"
      ]
     },
     "execution_count": 34,
     "metadata": {},
     "output_type": "execute_result"
    }
   ],
   "source": [
    "y4=y2-y3\n",
    "y4"
   ]
  },
  {
   "cell_type": "code",
   "execution_count": 35,
   "metadata": {},
   "outputs": [
    {
     "data": {
      "text/plain": [
       "0      1479.067072\n",
       "1      1800.073072\n",
       "2      3586.719472\n",
       "3      2277.081072\n",
       "4      1087.459072\n",
       "5      4600.431472\n",
       "6       636.547072\n",
       "7        93.974272\n",
       "8      3135.404272\n",
       "9      2989.006272\n",
       "10     2134.939072\n",
       "11        3.791872\n",
       "12      980.636272\n",
       "13     1717.526272\n",
       "14      649.967472\n",
       "15     4179.826672\n",
       "16     1244.942272\n",
       "17     1868.054272\n",
       "18       53.477872\n",
       "19        2.831472\n",
       "20      137.746672\n",
       "21     2309.516272\n",
       "22      379.599472\n",
       "23      283.503472\n",
       "24      796.046272\n",
       "25     2734.309872\n",
       "26      255.033072\n",
       "27      301.602672\n",
       "28      103.004272\n",
       "29      369.359872\n",
       "          ...     \n",
       "170     952.342272\n",
       "171      39.119472\n",
       "172      70.076272\n",
       "173    1828.924272\n",
       "174    2762.049472\n",
       "175    4600.431472\n",
       "176     336.756672\n",
       "177    1673.947072\n",
       "178    3076.425072\n",
       "179    1231.535872\n",
       "180    2989.006272\n",
       "181    2233.857472\n",
       "182    2159.458672\n",
       "183    2726.567872\n",
       "184      27.001072\n",
       "185    3337.676272\n",
       "186    3135.404272\n",
       "187     206.850672\n",
       "188     613.791472\n",
       "189     872.444272\n",
       "190    2226.860272\n",
       "191    1087.459072\n",
       "192    2570.812272\n",
       "193    2457.263872\n",
       "194    1065.238272\n",
       "195    2679.250672\n",
       "196    2360.655472\n",
       "197    1364.953072\n",
       "198    2457.263872\n",
       "199    1505.230272\n",
       "Name: radio, Length: 200, dtype: float64"
      ]
     },
     "execution_count": 35,
     "metadata": {},
     "output_type": "execute_result"
    }
   ],
   "source": [
    "xy1=x4*y4\n",
    "xy1"
   ]
  },
  {
   "cell_type": "code",
   "execution_count": 36,
   "metadata": {},
   "outputs": [
    {
     "data": {
      "text/plain": [
       "43865.120800000004"
      ]
     },
     "execution_count": 36,
     "metadata": {},
     "output_type": "execute_result"
    }
   ],
   "source": [
    "s3=sum(x5)\n",
    "s3"
   ]
  },
  {
   "cell_type": "code",
   "execution_count": 37,
   "metadata": {},
   "outputs": [
    {
     "data": {
      "text/plain": [
       "307055.84560000023"
      ]
     },
     "execution_count": 37,
     "metadata": {},
     "output_type": "execute_result"
    }
   ],
   "source": [
    "s4=sum(xy1)\n",
    "s4"
   ]
  },
  {
   "cell_type": "code",
   "execution_count": 38,
   "metadata": {},
   "outputs": [
    {
     "data": {
      "text/plain": [
       "7.000000000000004"
      ]
     },
     "execution_count": 38,
     "metadata": {},
     "output_type": "execute_result"
    }
   ],
   "source": [
    "b11=s4/s3\n",
    "b11"
   ]
  },
  {
   "cell_type": "code",
   "execution_count": 39,
   "metadata": {},
   "outputs": [],
   "source": [
    "#y=b0+b1(x)"
   ]
  },
  {
   "cell_type": "code",
   "execution_count": 40,
   "metadata": {},
   "outputs": [
    {
     "data": {
      "text/plain": [
       "8.999999999999886"
      ]
     },
     "execution_count": 40,
     "metadata": {},
     "output_type": "execute_result"
    }
   ],
   "source": [
    "b00=y3-(b11)*(x3)\n",
    "b00"
   ]
  },
  {
   "cell_type": "code",
   "execution_count": 41,
   "metadata": {},
   "outputs": [
    {
     "data": {
      "image/png": "[encoded data removed]",
      "text/plain": [
       "<Figure size 432x288 with 1 Axes>"
      ]
     },
     "metadata": {
      "needs_background": "light"
     },
     "output_type": "display_data"
    }
   ],
   "source": [
    "plt.bar(x2,y2)\n",
    "plt.show()"
   ]
  },
  {
   "cell_type": "code",
   "execution_count": 42,
   "metadata": {},
   "outputs": [],
   "source": [
    "#newspaper Data"
   ]
  },
  {
   "cell_type": "code",
   "execution_count": 43,
   "metadata": {},
   "outputs": [
    {
     "data": {
      "text/plain": [
       "0       69.2\n",
       "1       45.1\n",
       "2       69.3\n",
       "3       58.5\n",
       "4       58.4\n",
       "5       75.0\n",
       "6       23.5\n",
       "7       11.6\n",
       "8        1.0\n",
       "9       21.2\n",
       "10      24.2\n",
       "11       4.0\n",
       "12      65.9\n",
       "13       7.2\n",
       "14      46.0\n",
       "15      52.9\n",
       "16     114.0\n",
       "17      55.8\n",
       "18      18.3\n",
       "19      19.1\n",
       "20      53.4\n",
       "21      23.5\n",
       "22      49.6\n",
       "23      26.2\n",
       "24      18.3\n",
       "25      19.5\n",
       "26      12.6\n",
       "27      22.9\n",
       "28      22.9\n",
       "29      40.8\n",
       "       ...  \n",
       "170     18.4\n",
       "171     47.4\n",
       "172     17.0\n",
       "173     12.8\n",
       "174     13.1\n",
       "175     41.8\n",
       "176     20.3\n",
       "177     35.2\n",
       "178     23.7\n",
       "179     17.6\n",
       "180      8.3\n",
       "181     27.4\n",
       "182     29.7\n",
       "183     71.8\n",
       "184     30.0\n",
       "185     19.6\n",
       "186     26.6\n",
       "187     18.2\n",
       "188      3.7\n",
       "189     23.4\n",
       "190      5.8\n",
       "191      6.0\n",
       "192     31.6\n",
       "193      3.6\n",
       "194      6.0\n",
       "195     13.8\n",
       "196      8.1\n",
       "197      6.4\n",
       "198     66.2\n",
       "199      8.7\n",
       "Name: newspaper, Length: 200, dtype: float64"
      ]
     },
     "execution_count": 43,
     "metadata": {},
     "output_type": "execute_result"
    }
   ],
   "source": [
    "a=adv['newspaper']\n",
    "a"
   ]
  },
  {
   "cell_type": "code",
   "execution_count": 44,
   "metadata": {},
   "outputs": [
    {
     "data": {
      "text/plain": [
       "30.553999999999995"
      ]
     },
     "execution_count": 44,
     "metadata": {},
     "output_type": "execute_result"
    }
   ],
   "source": [
    "a1=a.mean()\n",
    "a1"
   ]
  },
  {
   "cell_type": "code",
   "execution_count": 45,
   "metadata": {},
   "outputs": [
    {
     "data": {
      "text/plain": [
       "114.0"
      ]
     },
     "execution_count": 45,
     "metadata": {},
     "output_type": "execute_result"
    }
   ],
   "source": [
    "maxn=max(a)\n",
    "maxn"
   ]
  },
  {
   "cell_type": "code",
   "execution_count": 46,
   "metadata": {},
   "outputs": [
    {
     "data": {
      "text/plain": [
       "0.3"
      ]
     },
     "execution_count": 46,
     "metadata": {},
     "output_type": "execute_result"
    }
   ],
   "source": [
    "minn=min(a)\n",
    "minn"
   ]
  },
  {
   "cell_type": "code",
   "execution_count": 47,
   "metadata": {},
   "outputs": [],
   "source": [
    "#z=ma+c,m=5,c=6"
   ]
  },
  {
   "cell_type": "code",
   "execution_count": 48,
   "metadata": {},
   "outputs": [
    {
     "data": {
      "text/plain": [
       "0      352.0\n",
       "1      231.5\n",
       "2      352.5\n",
       "3      298.5\n",
       "4      298.0\n",
       "5      381.0\n",
       "6      123.5\n",
       "7       64.0\n",
       "8       11.0\n",
       "9      112.0\n",
       "10     127.0\n",
       "11      26.0\n",
       "12     335.5\n",
       "13      42.0\n",
       "14     236.0\n",
       "15     270.5\n",
       "16     576.0\n",
       "17     285.0\n",
       "18      97.5\n",
       "19     101.5\n",
       "20     273.0\n",
       "21     123.5\n",
       "22     254.0\n",
       "23     137.0\n",
       "24      97.5\n",
       "25     103.5\n",
       "26      69.0\n",
       "27     120.5\n",
       "28     120.5\n",
       "29     210.0\n",
       "       ...  \n",
       "170     98.0\n",
       "171    243.0\n",
       "172     91.0\n",
       "173     70.0\n",
       "174     71.5\n",
       "175    215.0\n",
       "176    107.5\n",
       "177    182.0\n",
       "178    124.5\n",
       "179     94.0\n",
       "180     47.5\n",
       "181    143.0\n",
       "182    154.5\n",
       "183    365.0\n",
       "184    156.0\n",
       "185    104.0\n",
       "186    139.0\n",
       "187     97.0\n",
       "188     24.5\n",
       "189    123.0\n",
       "190     35.0\n",
       "191     36.0\n",
       "192    164.0\n",
       "193     24.0\n",
       "194     36.0\n",
       "195     75.0\n",
       "196     46.5\n",
       "197     38.0\n",
       "198    337.0\n",
       "199     49.5\n",
       "Name: newspaper, Length: 200, dtype: float64"
      ]
     },
     "execution_count": 48,
     "metadata": {},
     "output_type": "execute_result"
    }
   ],
   "source": [
    "z=(5)*(a)+6\n",
    "z"
   ]
  },
  {
   "cell_type": "code",
   "execution_count": 49,
   "metadata": {},
   "outputs": [
    {
     "data": {
      "text/plain": [
       "158.77"
      ]
     },
     "execution_count": 49,
     "metadata": {},
     "output_type": "execute_result"
    }
   ],
   "source": [
    "z1=z.mean()\n",
    "z1"
   ]
  },
  {
   "cell_type": "code",
   "execution_count": 50,
   "metadata": {},
   "outputs": [
    {
     "data": {
      "text/plain": [
       "0      38.646\n",
       "1      14.546\n",
       "2      38.746\n",
       "3      27.946\n",
       "4      27.846\n",
       "5      44.446\n",
       "6      -7.054\n",
       "7     -18.954\n",
       "8     -29.554\n",
       "9      -9.354\n",
       "10     -6.354\n",
       "11    -26.554\n",
       "12     35.346\n",
       "13    -23.354\n",
       "14     15.446\n",
       "15     22.346\n",
       "16     83.446\n",
       "17     25.246\n",
       "18    -12.254\n",
       "19    -11.454\n",
       "20     22.846\n",
       "21     -7.054\n",
       "22     19.046\n",
       "23     -4.354\n",
       "24    -12.254\n",
       "25    -11.054\n",
       "26    -17.954\n",
       "27     -7.654\n",
       "28     -7.654\n",
       "29     10.246\n",
       "        ...  \n",
       "170   -12.154\n",
       "171    16.846\n",
       "172   -13.554\n",
       "173   -17.754\n",
       "174   -17.454\n",
       "175    11.246\n",
       "176   -10.254\n",
       "177     4.646\n",
       "178    -6.854\n",
       "179   -12.954\n",
       "180   -22.254\n",
       "181    -3.154\n",
       "182    -0.854\n",
       "183    41.246\n",
       "184    -0.554\n",
       "185   -10.954\n",
       "186    -3.954\n",
       "187   -12.354\n",
       "188   -26.854\n",
       "189    -7.154\n",
       "190   -24.754\n",
       "191   -24.554\n",
       "192     1.046\n",
       "193   -26.954\n",
       "194   -24.554\n",
       "195   -16.754\n",
       "196   -22.454\n",
       "197   -24.154\n",
       "198    35.646\n",
       "199   -21.854\n",
       "Name: newspaper, Length: 200, dtype: float64"
      ]
     },
     "execution_count": 50,
     "metadata": {},
     "output_type": "execute_result"
    }
   ],
   "source": [
    "a2=a-a1\n",
    "a2"
   ]
  },
  {
   "cell_type": "code",
   "execution_count": 51,
   "metadata": {},
   "outputs": [
    {
     "data": {
      "text/plain": [
       "0      1493.513316\n",
       "1       211.586116\n",
       "2      1501.252516\n",
       "3       780.978916\n",
       "4       775.399716\n",
       "5      1975.446916\n",
       "6        49.758916\n",
       "7       359.254116\n",
       "8       873.438916\n",
       "9        87.497316\n",
       "10       40.373316\n",
       "11      705.114916\n",
       "12     1249.339716\n",
       "13      545.409316\n",
       "14      238.578916\n",
       "15      499.343716\n",
       "16     6963.234916\n",
       "17      637.360516\n",
       "18      150.160516\n",
       "19      131.194116\n",
       "20      521.939716\n",
       "21       49.758916\n",
       "22      362.750116\n",
       "23       18.957316\n",
       "24      150.160516\n",
       "25      122.190916\n",
       "26      322.346116\n",
       "27       58.583716\n",
       "28       58.583716\n",
       "29      104.980516\n",
       "          ...     \n",
       "170     147.719716\n",
       "171     283.787716\n",
       "172     183.710916\n",
       "173     315.204516\n",
       "174     304.642116\n",
       "175     126.472516\n",
       "176     105.144516\n",
       "177      21.585316\n",
       "178      46.977316\n",
       "179     167.806116\n",
       "180     495.240516\n",
       "181       9.947716\n",
       "182       0.729316\n",
       "183    1701.232516\n",
       "184       0.306916\n",
       "185     119.990116\n",
       "186      15.634116\n",
       "187     152.621316\n",
       "188     721.137316\n",
       "189      51.179716\n",
       "190     612.760516\n",
       "191     602.898916\n",
       "192       1.094116\n",
       "193     726.518116\n",
       "194     602.898916\n",
       "195     280.696516\n",
       "196     504.182116\n",
       "197     583.415716\n",
       "198    1270.637316\n",
       "199     477.597316\n",
       "Name: newspaper, Length: 200, dtype: float64"
      ]
     },
     "execution_count": 51,
     "metadata": {},
     "output_type": "execute_result"
    }
   ],
   "source": [
    "a3=a2*a2\n",
    "a3"
   ]
  },
  {
   "cell_type": "code",
   "execution_count": 52,
   "metadata": {},
   "outputs": [
    {
     "data": {
      "text/plain": [
       "0      193.23\n",
       "1       72.73\n",
       "2      193.73\n",
       "3      139.73\n",
       "4      139.23\n",
       "5      222.23\n",
       "6      -35.27\n",
       "7      -94.77\n",
       "8     -147.77\n",
       "9      -46.77\n",
       "10     -31.77\n",
       "11    -132.77\n",
       "12     176.73\n",
       "13    -116.77\n",
       "14      77.23\n",
       "15     111.73\n",
       "16     417.23\n",
       "17     126.23\n",
       "18     -61.27\n",
       "19     -57.27\n",
       "20     114.23\n",
       "21     -35.27\n",
       "22      95.23\n",
       "23     -21.77\n",
       "24     -61.27\n",
       "25     -55.27\n",
       "26     -89.77\n",
       "27     -38.27\n",
       "28     -38.27\n",
       "29      51.23\n",
       "        ...  \n",
       "170    -60.77\n",
       "171     84.23\n",
       "172    -67.77\n",
       "173    -88.77\n",
       "174    -87.27\n",
       "175     56.23\n",
       "176    -51.27\n",
       "177     23.23\n",
       "178    -34.27\n",
       "179    -64.77\n",
       "180   -111.27\n",
       "181    -15.77\n",
       "182     -4.27\n",
       "183    206.23\n",
       "184     -2.77\n",
       "185    -54.77\n",
       "186    -19.77\n",
       "187    -61.77\n",
       "188   -134.27\n",
       "189    -35.77\n",
       "190   -123.77\n",
       "191   -122.77\n",
       "192      5.23\n",
       "193   -134.77\n",
       "194   -122.77\n",
       "195    -83.77\n",
       "196   -112.27\n",
       "197   -120.77\n",
       "198    178.23\n",
       "199   -109.27\n",
       "Name: newspaper, Length: 200, dtype: float64"
      ]
     },
     "execution_count": 52,
     "metadata": {},
     "output_type": "execute_result"
    }
   ],
   "source": [
    "z2=z-z1\n",
    "z2"
   ]
  },
  {
   "cell_type": "code",
   "execution_count": 53,
   "metadata": {},
   "outputs": [
    {
     "data": {
      "text/plain": [
       "0       7467.56658\n",
       "1       1057.93058\n",
       "2       7506.26258\n",
       "3       3904.89458\n",
       "4       3876.99858\n",
       "5       9877.23458\n",
       "6        248.79458\n",
       "7       1796.27058\n",
       "8       4367.19458\n",
       "9        437.48658\n",
       "10       201.86658\n",
       "11      3525.57458\n",
       "12      6246.69858\n",
       "13      2727.04658\n",
       "14      1192.89458\n",
       "15      2496.71858\n",
       "16     34816.17458\n",
       "17      3186.80258\n",
       "18       750.80258\n",
       "19       655.97058\n",
       "20      2609.69858\n",
       "21       248.79458\n",
       "22      1813.75058\n",
       "23        94.78658\n",
       "24       750.80258\n",
       "25       610.95458\n",
       "26      1611.73058\n",
       "27       292.91858\n",
       "28       292.91858\n",
       "29       524.90258\n",
       "          ...     \n",
       "170      738.59858\n",
       "171     1418.93858\n",
       "172      918.55458\n",
       "173     1576.02258\n",
       "174     1523.21058\n",
       "175      632.36258\n",
       "176      525.72258\n",
       "177      107.92658\n",
       "178      234.88658\n",
       "179      839.03058\n",
       "180     2476.20258\n",
       "181       49.73858\n",
       "182        3.64658\n",
       "183     8506.16258\n",
       "184        1.53458\n",
       "185      599.95058\n",
       "186       78.17058\n",
       "187      763.10658\n",
       "188     3605.68658\n",
       "189      255.89858\n",
       "190     3063.80258\n",
       "191     3014.49458\n",
       "192        5.47058\n",
       "193     3632.59058\n",
       "194     3014.49458\n",
       "195     1403.48258\n",
       "196     2520.91058\n",
       "197     2917.07858\n",
       "198     6353.18658\n",
       "199     2387.98658\n",
       "Name: newspaper, Length: 200, dtype: float64"
      ]
     },
     "execution_count": 53,
     "metadata": {},
     "output_type": "execute_result"
    }
   ],
   "source": [
    "ss=a2*z2\n",
    "ss"
   ]
  },
  {
   "cell_type": "code",
   "execution_count": 54,
   "metadata": {},
   "outputs": [
    {
     "data": {
      "text/plain": [
       "471936.7840000004"
      ]
     },
     "execution_count": 54,
     "metadata": {},
     "output_type": "execute_result"
    }
   ],
   "source": [
    "ss1=sum(ss)\n",
    "ss1"
   ]
  },
  {
   "cell_type": "code",
   "execution_count": 55,
   "metadata": {},
   "outputs": [
    {
     "data": {
      "text/plain": [
       "94387.35680000005"
      ]
     },
     "execution_count": 55,
     "metadata": {},
     "output_type": "execute_result"
    }
   ],
   "source": [
    "ss2=sum(a3)\n",
    "ss2"
   ]
  },
  {
   "cell_type": "code",
   "execution_count": 56,
   "metadata": {},
   "outputs": [
    {
     "data": {
      "text/plain": [
       "5.000000000000002"
      ]
     },
     "execution_count": 56,
     "metadata": {},
     "output_type": "execute_result"
    }
   ],
   "source": [
    "slope=ss1/ss2\n",
    "slope"
   ]
  },
  {
   "cell_type": "code",
   "execution_count": 57,
   "metadata": {},
   "outputs": [
    {
     "data": {
      "text/plain": [
       "5.999999999999972"
      ]
     },
     "execution_count": 57,
     "metadata": {},
     "output_type": "execute_result"
    }
   ],
   "source": [
    "slope0=(z1)-(slope)*(a1)\n",
    "slope0"
   ]
  },
  {
   "cell_type": "code",
   "execution_count": 58,
   "metadata": {},
   "outputs": [
    {
     "data": {
      "image/png": "[encoded data removed]",
      "text/plain": [
       "<Figure size 432x288 with 1 Axes>"
      ]
     },
     "metadata": {
      "needs_background": "light"
     },
     "output_type": "display_data"
    }
   ],
   "source": [
    "plt.plot(a,z)\n",
    "plt.show()"
   ]
  },
  {
   "cell_type": "code",
   "execution_count": 59,
   "metadata": {},
   "outputs": [
    {
     "data": {
      "text/plain": [
       "[<matplotlib.lines.Line2D at 0x247f26e27f0>]"
      ]
     },
     "execution_count": 59,
     "metadata": {},
     "output_type": "execute_result"
    },
    {
     "data": {
      "image/png": "[encoded data removed]",
      "text/plain": [
       "<Figure size 432x288 with 3 Axes>"
      ]
     },
     "metadata": {
      "needs_background": "light"
     },
     "output_type": "display_data"
    }
   ],
   "source": [
    "fig,ax=plt.subplots(3)\n",
    "ax[0].plot(x,y)\n",
    "ax[1].plot(x2,y2)\n",
    "ax[2].plot(a,z)"
   ]
  },
  {
   "cell_type": "code",
   "execution_count": 60,
   "metadata": {},
   "outputs": [
    {
     "data": {
      "text/plain": [
       "<BarContainer object of 200 artists>"
      ]
     },
     "execution_count": 60,
     "metadata": {},
     "output_type": "execute_result"
    },
    {
     "data": {
      "image/png": "[encoded data removed]",
      "text/plain": [
       "<Figure size 432x288 with 1 Axes>"
      ]
     },
     "metadata": {
      "needs_background": "light"
     },
     "output_type": "display_data"
    }
   ],
   "source": [
    "plt.bar(x,y)"
   ]
  },
  {
   "cell_type": "code",
   "execution_count": 61,
   "metadata": {},
   "outputs": [
    {
     "data": {
      "text/plain": [
       "<BarContainer object of 200 artists>"
      ]
     },
     "execution_count": 61,
     "metadata": {},
     "output_type": "execute_result"
    },
    {
     "data": {
      "image/png": "[encoded data removed]",
      "text/plain": [
       "<Figure size 432x288 with 1 Axes>"
      ]
     },
     "metadata": {
      "needs_background": "light"
     },
     "output_type": "display_data"
    }
   ],
   "source": [
    "plt.bar(x2,y2)"
   ]
  },
  {
   "cell_type": "code",
   "execution_count": 62,
   "metadata": {},
   "outputs": [
    {
     "data": {
      "text/plain": [
       "<BarContainer object of 200 artists>"
      ]
     },
     "execution_count": 62,
     "metadata": {},
     "output_type": "execute_result"
    },
    {
     "data": {
      "image/png": "[encoded data removed]",
      "text/plain": [
       "<Figure size 432x288 with 1 Axes>"
      ]
     },
     "metadata": {
      "needs_background": "light"
     },
     "output_type": "display_data"
    }
   ],
   "source": [
    "plt.bar(a,z)"
   ]
  },
  {
   "cell_type": "code",
   "execution_count": 63,
   "metadata": {},
   "outputs": [
    {
     "name": "stderr",
     "output_type": "stream",
     "text": [
      "No handles with labels found to put in legend.\n"
     ]
    },
    {
     "data": {
      "image/png": "[encoded data removed]",
      "text/plain": [
       "<Figure size 432x288 with 1 Axes>"
      ]
     },
     "metadata": {
      "needs_background": "light"
     },
     "output_type": "display_data"
    }
   ],
   "source": [
    "import matplotlib.pyplot as plt\n",
    "\n",
    "fig=plt.figure()\n",
    "plt.scatter(x,y)\n",
    "plt.scatter(x2,y2)\n",
    "plt.scatter(a,z)\n",
    "plt.style.use('seaborn-whitegrid')\n",
    "plt.xlabel(\"Comparing of TV and Radio, News Paper \")\n",
    "plt.ylabel(\"Sales\")\n",
    "plt.title(\"Sales VS Adv\")\n",
    "plt.legend()\n",
    "plt.show()"
   ]
  },
  {
   "cell_type": "code",
   "execution_count": 64,
   "metadata": {},
   "outputs": [
    {
     "data": {
      "text/plain": [
       "0      22.1\n",
       "1      10.4\n",
       "2       9.3\n",
       "3      18.5\n",
       "4      12.9\n",
       "5       7.2\n",
       "6      11.8\n",
       "7      13.2\n",
       "8       4.8\n",
       "9      10.6\n",
       "10      8.6\n",
       "11     17.4\n",
       "12      9.2\n",
       "13      9.7\n",
       "14     19.0\n",
       "15     22.4\n",
       "16     12.5\n",
       "17     24.4\n",
       "18     11.3\n",
       "19     14.6\n",
       "20     18.0\n",
       "21     12.5\n",
       "22      5.6\n",
       "23     15.5\n",
       "24      9.7\n",
       "25     12.0\n",
       "26     15.0\n",
       "27     15.9\n",
       "28     18.9\n",
       "29     10.5\n",
       "       ... \n",
       "170     8.4\n",
       "171    14.5\n",
       "172     7.6\n",
       "173    11.7\n",
       "174    11.5\n",
       "175    27.0\n",
       "176    20.2\n",
       "177    11.7\n",
       "178    11.8\n",
       "179    12.6\n",
       "180    10.5\n",
       "181    12.2\n",
       "182     8.7\n",
       "183    26.2\n",
       "184    17.6\n",
       "185    22.6\n",
       "186    10.3\n",
       "187    17.3\n",
       "188    15.9\n",
       "189     6.7\n",
       "190    10.8\n",
       "191     9.9\n",
       "192     5.9\n",
       "193    19.6\n",
       "194    17.3\n",
       "195     7.6\n",
       "196     9.7\n",
       "197    12.8\n",
       "198    25.5\n",
       "199    13.4\n",
       "Name: sales, Length: 200, dtype: float64"
      ]
     },
     "execution_count": 64,
     "metadata": {},
     "output_type": "execute_result"
    }
   ],
   "source": [
    "p=adv['sales']\n",
    "p"
   ]
  },
  {
   "cell_type": "code",
   "execution_count": 65,
   "metadata": {},
   "outputs": [
    {
     "data": {
      "text/plain": [
       "14.0225"
      ]
     },
     "execution_count": 65,
     "metadata": {},
     "output_type": "execute_result"
    }
   ],
   "source": [
    "pm=p.mean()\n",
    "pm"
   ]
  },
  {
   "cell_type": "code",
   "execution_count": 66,
   "metadata": {},
   "outputs": [
    {
     "data": {
      "text/plain": [
       "27.0"
      ]
     },
     "execution_count": 66,
     "metadata": {},
     "output_type": "execute_result"
    }
   ],
   "source": [
    "maxs=max(p)\n",
    "maxs"
   ]
  },
  {
   "cell_type": "code",
   "execution_count": 67,
   "metadata": {},
   "outputs": [
    {
     "data": {
      "text/plain": [
       "1.6"
      ]
     },
     "execution_count": 67,
     "metadata": {},
     "output_type": "execute_result"
    }
   ],
   "source": [
    "mins=min(p)\n",
    "mins"
   ]
  },
  {
   "cell_type": "code",
   "execution_count": 68,
   "metadata": {},
   "outputs": [
    {
     "data": {
      "image/png": "[encoded data removed]",
      "text/plain": [
       "<Figure size 432x288 with 3 Axes>"
      ]
     },
     "metadata": {},
     "output_type": "display_data"
    }
   ],
   "source": [
    "#mean\n",
    "fig,ax=plt.subplots(3)\n",
    "ax[0].plot(x1,pm)\n",
    "ax[1].plot(x3,pm)\n",
    "ax[2].plot(a1,pm)\n",
    "plt.show()"
   ]
  },
  {
   "cell_type": "code",
   "execution_count": 69,
   "metadata": {},
   "outputs": [
    {
     "name": "stderr",
     "output_type": "stream",
     "text": [
      "No handles with labels found to put in legend.\n"
     ]
    },
    {
     "data": {
      "image/png": "[encoded data removed]",
      "text/plain": [
       "<Figure size 432x288 with 1 Axes>"
      ]
     },
     "metadata": {},
     "output_type": "display_data"
    }
   ],
   "source": [
    "import matplotlib.pyplot as plt\n",
    "fig=plt.figure()\n",
    "plt.scatter(x1,pm,color='brown')\n",
    "plt.scatter(x3,pm,color='red')\n",
    "plt.scatter(a1,pm,color='violet')\n",
    "plt.style.use('seaborn-whitegrid')\n",
    "plt.xlabel(\"Comparing of TV and Radio, News Paper \")\n",
    "plt.ylabel(\"Sales\")\n",
    "plt.title(\"Sales VS Adv\")\n",
    "plt.legend()\n",
    "plt.show()"
   ]
  },
  {
   "cell_type": "code",
   "execution_count": 70,
   "metadata": {},
   "outputs": [
    {
     "name": "stderr",
     "output_type": "stream",
     "text": [
      "No handles with labels found to put in legend.\n"
     ]
    },
    {
     "data": {
      "image/png": "[encoded data removed]",
      "text/plain": [
       "<Figure size 432x288 with 1 Axes>"
      ]
     },
     "metadata": {},
     "output_type": "display_data"
    }
   ],
   "source": [
    "#max\n",
    "import matplotlib.pyplot as plt\n",
    "fig=plt.figure()\n",
    "plt.scatter(maxt,maxs,color='brown')\n",
    "plt.scatter(maxr,maxs,color='red')\n",
    "plt.scatter(maxn,maxs,color='violet')\n",
    "plt.style.use('seaborn-whitegrid')\n",
    "plt.xlabel(\"Comparing of TV and Radio, News Paper \")\n",
    "plt.ylabel(\"Sales\")\n",
    "plt.title(\"Sales VS Adv\")\n",
    "plt.legend()\n",
    "plt.show()"
   ]
  },
  {
   "cell_type": "code",
   "execution_count": 71,
   "metadata": {},
   "outputs": [
    {
     "name": "stderr",
     "output_type": "stream",
     "text": [
      "No handles with labels found to put in legend.\n"
     ]
    },
    {
     "data": {
      "image/png": "[encoded data removed]",
      "text/plain": [
       "<Figure size 432x288 with 1 Axes>"
      ]
     },
     "metadata": {},
     "output_type": "display_data"
    }
   ],
   "source": [
    "#min\n",
    "import matplotlib.pyplot as plt\n",
    "fig=plt.figure()\n",
    "plt.scatter(mint,mins,color='brown')\n",
    "plt.scatter(minr,mins,color='red')\n",
    "plt.scatter(minn,mins,color='violet')\n",
    "plt.style.use('seaborn-whitegrid')\n",
    "plt.xlabel(\"Comparing of TV and Radio, News Paper \")\n",
    "plt.ylabel(\"Sales\")\n",
    "plt.title(\"Sales VS Adv\")\n",
    "plt.legend()\n",
    "plt.show()"
   ]
  },
  {
   "cell_type": "code",
   "execution_count": 72,
   "metadata": {},
   "outputs": [
    {
     "data": {
      "text/html": [
       "<div>\n",
       "<style scoped>\n",
       "    .dataframe tbody tr th:only-of-type {\n",
       "        vertical-align: middle;\n",
       "    }\n",
       "\n",
       "    .dataframe tbody tr th {\n",
       "        vertical-align: top;\n",
       "    }\n",
       "\n",
       "    .dataframe thead th {\n",
       "        text-align: right;\n",
       "    }\n",
       "</style>\n",
       "<table border=\"1\" class=\"dataframe\">\n",
       "  <thead>\n",
       "    <tr style=\"text-align: right;\">\n",
       "      <th></th>\n",
       "      <th>TV</th>\n",
       "      <th>radio</th>\n",
       "      <th>newspaper</th>\n",
       "      <th>sales</th>\n",
       "    </tr>\n",
       "  </thead>\n",
       "  <tbody>\n",
       "    <tr>\n",
       "      <th>0</th>\n",
       "      <td>230.1</td>\n",
       "      <td>37.8</td>\n",
       "      <td>69.2</td>\n",
       "      <td>22.1</td>\n",
       "    </tr>\n",
       "    <tr>\n",
       "      <th>1</th>\n",
       "      <td>44.5</td>\n",
       "      <td>39.3</td>\n",
       "      <td>45.1</td>\n",
       "      <td>10.4</td>\n",
       "    </tr>\n",
       "    <tr>\n",
       "      <th>2</th>\n",
       "      <td>17.2</td>\n",
       "      <td>45.9</td>\n",
       "      <td>69.3</td>\n",
       "      <td>9.3</td>\n",
       "    </tr>\n",
       "    <tr>\n",
       "      <th>3</th>\n",
       "      <td>151.5</td>\n",
       "      <td>41.3</td>\n",
       "      <td>58.5</td>\n",
       "      <td>18.5</td>\n",
       "    </tr>\n",
       "    <tr>\n",
       "      <th>4</th>\n",
       "      <td>180.8</td>\n",
       "      <td>10.8</td>\n",
       "      <td>58.4</td>\n",
       "      <td>12.9</td>\n",
       "    </tr>\n",
       "  </tbody>\n",
       "</table>\n",
       "</div>"
      ],
      "text/plain": [
       "      TV  radio  newspaper  sales\n",
       "0  230.1   37.8       69.2   22.1\n",
       "1   44.5   39.3       45.1   10.4\n",
       "2   17.2   45.9       69.3    9.3\n",
       "3  151.5   41.3       58.5   18.5\n",
       "4  180.8   10.8       58.4   12.9"
      ]
     },
     "execution_count": 72,
     "metadata": {},
     "output_type": "execute_result"
    }
   ],
   "source": [
    "adv.head()"
   ]
  },
  {
   "cell_type": "code",
   "execution_count": 73,
   "metadata": {},
   "outputs": [
    {
     "ename": "KeyError",
     "evalue": "\"['Unnamed: 0'] not found in axis\"",
     "output_type": "error",
     "traceback": [
      "\u001b[1;31m---------------------------------------------------------------------------\u001b[0m",
      "\u001b[1;31mKeyError\u001b[0m                                  Traceback (most recent call last)",
      "\u001b[1;32m<ipython-input-73-0bdd7d394d82>\u001b[0m in \u001b[0;36m<module>\u001b[1;34m\u001b[0m\n\u001b[1;32m----> 1\u001b[1;33m \u001b[0madv\u001b[0m\u001b[1;33m.\u001b[0m\u001b[0mdrop\u001b[0m\u001b[1;33m(\u001b[0m\u001b[1;33m[\u001b[0m\u001b[1;34m'Unnamed: 0'\u001b[0m\u001b[1;33m]\u001b[0m\u001b[1;33m,\u001b[0m\u001b[0maxis\u001b[0m\u001b[1;33m=\u001b[0m\u001b[1;36m1\u001b[0m\u001b[1;33m)\u001b[0m\u001b[1;33m\u001b[0m\u001b[0m\n\u001b[0m",
      "\u001b[1;32mc:\\users\\kumar\\appdata\\local\\programs\\python\\python36\\lib\\site-packages\\pandas\\core\\frame.py\u001b[0m in \u001b[0;36mdrop\u001b[1;34m(self, labels, axis, index, columns, level, inplace, errors)\u001b[0m\n\u001b[0;32m   3938\u001b[0m                                            \u001b[0mindex\u001b[0m\u001b[1;33m=\u001b[0m\u001b[0mindex\u001b[0m\u001b[1;33m,\u001b[0m \u001b[0mcolumns\u001b[0m\u001b[1;33m=\u001b[0m\u001b[0mcolumns\u001b[0m\u001b[1;33m,\u001b[0m\u001b[1;33m\u001b[0m\u001b[0m\n\u001b[0;32m   3939\u001b[0m                                            \u001b[0mlevel\u001b[0m\u001b[1;33m=\u001b[0m\u001b[0mlevel\u001b[0m\u001b[1;33m,\u001b[0m \u001b[0minplace\u001b[0m\u001b[1;33m=\u001b[0m\u001b[0minplace\u001b[0m\u001b[1;33m,\u001b[0m\u001b[1;33m\u001b[0m\u001b[0m\n\u001b[1;32m-> 3940\u001b[1;33m                                            errors=errors)\n\u001b[0m\u001b[0;32m   3941\u001b[0m \u001b[1;33m\u001b[0m\u001b[0m\n\u001b[0;32m   3942\u001b[0m     @rewrite_axis_style_signature('mapper', [('copy', True),\n",
      "\u001b[1;32mc:\\users\\kumar\\appdata\\local\\programs\\python\\python36\\lib\\site-packages\\pandas\\core\\generic.py\u001b[0m in \u001b[0;36mdrop\u001b[1;34m(self, labels, axis, index, columns, level, inplace, errors)\u001b[0m\n\u001b[0;32m   3778\u001b[0m         \u001b[1;32mfor\u001b[0m \u001b[0maxis\u001b[0m\u001b[1;33m,\u001b[0m \u001b[0mlabels\u001b[0m \u001b[1;32min\u001b[0m \u001b[0maxes\u001b[0m\u001b[1;33m.\u001b[0m\u001b[0mitems\u001b[0m\u001b[1;33m(\u001b[0m\u001b[1;33m)\u001b[0m\u001b[1;33m:\u001b[0m\u001b[1;33m\u001b[0m\u001b[0m\n\u001b[0;32m   3779\u001b[0m             \u001b[1;32mif\u001b[0m \u001b[0mlabels\u001b[0m \u001b[1;32mis\u001b[0m \u001b[1;32mnot\u001b[0m \u001b[1;32mNone\u001b[0m\u001b[1;33m:\u001b[0m\u001b[1;33m\u001b[0m\u001b[0m\n\u001b[1;32m-> 3780\u001b[1;33m                 \u001b[0mobj\u001b[0m \u001b[1;33m=\u001b[0m \u001b[0mobj\u001b[0m\u001b[1;33m.\u001b[0m\u001b[0m_drop_axis\u001b[0m\u001b[1;33m(\u001b[0m\u001b[0mlabels\u001b[0m\u001b[1;33m,\u001b[0m \u001b[0maxis\u001b[0m\u001b[1;33m,\u001b[0m \u001b[0mlevel\u001b[0m\u001b[1;33m=\u001b[0m\u001b[0mlevel\u001b[0m\u001b[1;33m,\u001b[0m \u001b[0merrors\u001b[0m\u001b[1;33m=\u001b[0m\u001b[0merrors\u001b[0m\u001b[1;33m)\u001b[0m\u001b[1;33m\u001b[0m\u001b[0m\n\u001b[0m\u001b[0;32m   3781\u001b[0m \u001b[1;33m\u001b[0m\u001b[0m\n\u001b[0;32m   3782\u001b[0m         \u001b[1;32mif\u001b[0m \u001b[0minplace\u001b[0m\u001b[1;33m:\u001b[0m\u001b[1;33m\u001b[0m\u001b[0m\n",
      "\u001b[1;32mc:\\users\\kumar\\appdata\\local\\programs\\python\\python36\\lib\\site-packages\\pandas\\core\\generic.py\u001b[0m in \u001b[0;36m_drop_axis\u001b[1;34m(self, labels, axis, level, errors)\u001b[0m\n\u001b[0;32m   3810\u001b[0m                 \u001b[0mnew_axis\u001b[0m \u001b[1;33m=\u001b[0m \u001b[0maxis\u001b[0m\u001b[1;33m.\u001b[0m\u001b[0mdrop\u001b[0m\u001b[1;33m(\u001b[0m\u001b[0mlabels\u001b[0m\u001b[1;33m,\u001b[0m \u001b[0mlevel\u001b[0m\u001b[1;33m=\u001b[0m\u001b[0mlevel\u001b[0m\u001b[1;33m,\u001b[0m \u001b[0merrors\u001b[0m\u001b[1;33m=\u001b[0m\u001b[0merrors\u001b[0m\u001b[1;33m)\u001b[0m\u001b[1;33m\u001b[0m\u001b[0m\n\u001b[0;32m   3811\u001b[0m             \u001b[1;32melse\u001b[0m\u001b[1;33m:\u001b[0m\u001b[1;33m\u001b[0m\u001b[0m\n\u001b[1;32m-> 3812\u001b[1;33m                 \u001b[0mnew_axis\u001b[0m \u001b[1;33m=\u001b[0m \u001b[0maxis\u001b[0m\u001b[1;33m.\u001b[0m\u001b[0mdrop\u001b[0m\u001b[1;33m(\u001b[0m\u001b[0mlabels\u001b[0m\u001b[1;33m,\u001b[0m \u001b[0merrors\u001b[0m\u001b[1;33m=\u001b[0m\u001b[0merrors\u001b[0m\u001b[1;33m)\u001b[0m\u001b[1;33m\u001b[0m\u001b[0m\n\u001b[0m\u001b[0;32m   3813\u001b[0m             \u001b[0mresult\u001b[0m \u001b[1;33m=\u001b[0m \u001b[0mself\u001b[0m\u001b[1;33m.\u001b[0m\u001b[0mreindex\u001b[0m\u001b[1;33m(\u001b[0m\u001b[1;33m**\u001b[0m\u001b[1;33m{\u001b[0m\u001b[0maxis_name\u001b[0m\u001b[1;33m:\u001b[0m \u001b[0mnew_axis\u001b[0m\u001b[1;33m}\u001b[0m\u001b[1;33m)\u001b[0m\u001b[1;33m\u001b[0m\u001b[0m\n\u001b[0;32m   3814\u001b[0m \u001b[1;33m\u001b[0m\u001b[0m\n",
      "\u001b[1;32mc:\\users\\kumar\\appdata\\local\\programs\\python\\python36\\lib\\site-packages\\pandas\\core\\indexes\\base.py\u001b[0m in \u001b[0;36mdrop\u001b[1;34m(self, labels, errors)\u001b[0m\n\u001b[0;32m   4963\u001b[0m             \u001b[1;32mif\u001b[0m \u001b[0merrors\u001b[0m \u001b[1;33m!=\u001b[0m \u001b[1;34m'ignore'\u001b[0m\u001b[1;33m:\u001b[0m\u001b[1;33m\u001b[0m\u001b[0m\n\u001b[0;32m   4964\u001b[0m                 raise KeyError(\n\u001b[1;32m-> 4965\u001b[1;33m                     '{} not found in axis'.format(labels[mask]))\n\u001b[0m\u001b[0;32m   4966\u001b[0m             \u001b[0mindexer\u001b[0m \u001b[1;33m=\u001b[0m \u001b[0mindexer\u001b[0m\u001b[1;33m[\u001b[0m\u001b[1;33m~\u001b[0m\u001b[0mmask\u001b[0m\u001b[1;33m]\u001b[0m\u001b[1;33m\u001b[0m\u001b[0m\n\u001b[0;32m   4967\u001b[0m         \u001b[1;32mreturn\u001b[0m \u001b[0mself\u001b[0m\u001b[1;33m.\u001b[0m\u001b[0mdelete\u001b[0m\u001b[1;33m(\u001b[0m\u001b[0mindexer\u001b[0m\u001b[1;33m)\u001b[0m\u001b[1;33m\u001b[0m\u001b[0m\n",
      "\u001b[1;31mKeyError\u001b[0m: \"['Unnamed: 0'] not found in axis\""
     ]
    }
   ],
   "source": [
    "adv.drop(['Unnamed: 0'],axis=1)"
   ]
  }
 ],
 "metadata": {
  "kernelspec": {
   "display_name": "Python 3",
   "language": "python",
   "name": "python3"
  },
  "language_info": {
   "codemirror_mode": {
    "name": "ipython",
    "version": 3
   },
   "file_extension": ".py",
   "mimetype": "text/x-python",
   "name": "python",
   "nbconvert_exporter": "python",
   "pygments_lexer": "ipython3",
   "version": "3.6.3"
  }
 },
 "nbformat": 4,
 "nbformat_minor": 2
}
