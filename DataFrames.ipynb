{
 "cells": [
  {
   "cell_type": "markdown",
   "metadata": {},
   "source": [
    "## Data Frames"
   ]
  },
  {
   "cell_type": "markdown",
   "metadata": {},
   "source": [
    "![image](images/DataFrame.PNG)"
   ]
  },
  {
   "cell_type": "markdown",
   "metadata": {},
   "source": [
    "![image](images/DataFrameslogo.png)"
   ]
  },
  {
   "cell_type": "code",
   "execution_count": 3,
   "metadata": {},
   "outputs": [
    {
     "name": "stdout",
     "output_type": "stream",
     "text": [
      "                0\n",
      "0          Python\n",
      "1             For\n",
      "2    Data Science\n",
      "3            and \n",
      "4          portal\n",
      "5             for\n",
      "6  www.pandas.org\n"
     ]
    }
   ],
   "source": [
    "# Creating a dataframe using List\n",
    "# import pandas as pd\n",
    "import pandas as pd\n",
    " \n",
    "# list of strings\n",
    "lst = ['Python', 'For', 'Data Science', 'and ', \n",
    "            'portal', 'for', 'www.pandas.org']\n",
    " \n",
    "# Calling DataFrame constructor on list\n",
    "df = pd.DataFrame(lst)\n",
    "print(df)"
   ]
  },
  {
   "cell_type": "markdown",
   "metadata": {},
   "source": [
    "#### Creating DataFrame from dict of ndarray/lists:"
   ]
  },
  {
   "cell_type": "code",
   "execution_count": 4,
   "metadata": {},
   "outputs": [
    {
     "name": "stdout",
     "output_type": "stream",
     "text": [
      "    Name  Age\n",
      "0    Tom   20\n",
      "1   nick   21\n",
      "2  krish   19\n",
      "3   jack   18\n"
     ]
    }
   ],
   "source": [
    "# Python code demonstrate creating \n",
    "# DataFrame from dict narray / lists \n",
    "# By default addresses.\n",
    " \n",
    "import pandas as pd\n",
    " \n",
    "# intialise data of lists.\n",
    "data = {'Name':['Tom', 'nick', 'krish', 'jack'],\n",
    "        'Age':[20, 21, 19, 18]}\n",
    " \n",
    "# Create DataFrame\n",
    "df = pd.DataFrame(data)\n",
    " \n",
    "# Print the output.\n",
    "print(df)"
   ]
  },
  {
   "cell_type": "code",
   "execution_count": 6,
   "metadata": {},
   "outputs": [
    {
     "name": "stdout",
     "output_type": "stream",
     "text": [
      "0    20\n",
      "Name: Age, dtype: int64\n"
     ]
    }
   ],
   "source": [
    "print(df['Age'][0:1])"
   ]
  },
  {
   "cell_type": "markdown",
   "metadata": {},
   "source": [
    "#### Creating a Pandas DataFrame\n",
    "Dealing with Rows and Columns\n",
    "\n",
    "A Data frame is a two-dimensional data structure, i.e., data is aligned in a tabular fashion in rows and columns. \n",
    "\n",
    "We can perform basic operations on rows/columns like \n",
    "1. selecting, \n",
    "2. deleting, \n",
    "3. adding, and \n",
    "4. renaming.\n",
    "\n",
    "#### Column Selection: \n",
    "In Order to select a column in Pandas DataFrame, we can either access the columns by calling them by their columns name.\n"
   ]
  },
  {
   "cell_type": "code",
   "execution_count": 9,
   "metadata": {},
   "outputs": [
    {
     "name": "stdout",
     "output_type": "stream",
     "text": [
      "     Name Qualification\n",
      "0     Jai           Msc\n",
      "1  Princi            MA\n",
      "2  Gaurav           MCA\n",
      "3    Anuj           Phd \n",
      "\n",
      "     Name  Age    Address Qualification\n",
      "0     Jai   27      Delhi           Msc\n",
      "1  Princi   24     Kanpur            MA\n",
      "2  Gaurav   22  Allahabad           MCA\n",
      "3    Anuj   32    Kannauj           Phd\n"
     ]
    },
    {
     "data": {
      "text/plain": [
       "(None,)"
      ]
     },
     "execution_count": 9,
     "metadata": {},
     "output_type": "execute_result"
    }
   ],
   "source": [
    "\n",
    "# Import pandas package\n",
    "import pandas as pd\n",
    " \n",
    "# Define a dictionary containing employee data\n",
    "data = {'Name':['Jai', 'Princi', 'Gaurav', 'Anuj'],\n",
    "        'Age':[27, 24, 22, 32],\n",
    "        'Address':['Delhi', 'Kanpur', 'Allahabad', 'Kannauj'],\n",
    "        'Qualification':['Msc', 'MA', 'MCA', 'Phd']}\n",
    " \n",
    "# Convert the dictionary into DataFrame \n",
    "df = pd.DataFrame(data)\n",
    " \n",
    "# select two columns\n",
    "print(df[['Name', 'Qualification']],'\\n')\n",
    "print(df),\n"
   ]
  },
  {
   "cell_type": "markdown",
   "metadata": {},
   "source": [
    "##### Row Selection: \n",
    "    Pandas provide a unique method to retrieve rows from a Data frame. \n",
    "    1. DataFrame.loc[] method is used to retrieve rows from Pandas DataFrame. \n",
    "    2. Rows can also be selected by passing integer location to an iloc[] function."
   ]
  },
  {
   "cell_type": "code",
   "execution_count": 26,
   "metadata": {},
   "outputs": [
    {
     "name": "stdout",
     "output_type": "stream",
     "text": [
      "Team        Boston Celtics\n",
      "Number                   0\n",
      "Position                PG\n",
      "Age                     25\n",
      "Height              06-Feb\n",
      "Weight                 180\n",
      "College              Texas\n",
      "Salary         7.45235e+06\n",
      "Name: Avery Bradley, dtype: object \n",
      "\n",
      "\n",
      " Team        Boston Celtics\n",
      "Number                  28\n",
      "Position                SG\n",
      "Age                     22\n",
      "Height              06-May\n",
      "Weight                 185\n",
      "College      Georgia State\n",
      "Salary         1.14864e+06\n",
      "Name: R.J. Hunter, dtype: object\n"
     ]
    }
   ],
   "source": [
    "# importing pandas package\n",
    "import pandas as pd\n",
    " \n",
    "# making data frame from csv file\n",
    "data = pd.read_csv(\"Data/nba.csv\", index_col =\"Name\")\n",
    "df = pd.DataFrame(data)\n",
    " \n",
    "# retrieving row by loc method\n",
    "first = df.loc[\"Avery Bradley\"]\n",
    "second = df.loc[\"R.J. Hunter\"]\n",
    "\n",
    "print(first, \"\\n\\n\\n\", second)"
   ]
  },
  {
   "cell_type": "code",
   "execution_count": 6,
   "metadata": {},
   "outputs": [
    {
     "name": "stdout",
     "output_type": "stream",
     "text": [
      "<class 'pandas.core.frame.DataFrame'>\n",
      "Index: 457 entries, Avery Bradley to Jeff Withey\n",
      "Data columns (total 8 columns):\n",
      "Team        457 non-null object\n",
      "Number      457 non-null int64\n",
      "Position    457 non-null object\n",
      "Age         457 non-null int64\n",
      "Height      457 non-null object\n",
      "Weight      457 non-null int64\n",
      "College     373 non-null object\n",
      "Salary      446 non-null float64\n",
      "dtypes: float64(1), int64(3), object(4)\n",
      "memory usage: 52.1+ KB\n",
      "None            Number         Age      Weight        Salary\n",
      "count  457.000000  457.000000  457.000000  4.460000e+02\n",
      "mean    17.678337   26.938731  221.522976  4.842061e+06\n",
      "std     15.966090    4.404016   26.368343  5.228909e+06\n",
      "min      0.000000   19.000000  161.000000  3.088800e+04\n",
      "25%      5.000000   24.000000  200.000000  1.044792e+06\n",
      "50%     13.000000   26.000000  220.000000  2.839073e+06\n",
      "75%     25.000000   30.000000  240.000000  6.500000e+06\n",
      "max     99.000000   40.000000  307.000000  2.500000e+07                          Team  Number Position  Age  Height  Weight  \\\n",
      "Name                                                                  \n",
      "Avery Bradley  Boston Celtics       0       PG   25  06-Feb     180   \n",
      "Jae Crowder    Boston Celtics      99       SF   25  06-Jun     235   \n",
      "John Holland   Boston Celtics      30       SG   27  06-May     205   \n",
      "R.J. Hunter    Boston Celtics      28       SG   22  06-May     185   \n",
      "Jonas Jerebko  Boston Celtics       8       PF   29  06-Oct     231   \n",
      "\n",
      "                         College     Salary  \n",
      "Name                                         \n",
      "Avery Bradley              Texas  7452353.0  \n",
      "Jae Crowder            Marquette  6796117.0  \n",
      "John Holland   Boston University        NaN  \n",
      "R.J. Hunter        Georgia State  1148640.0  \n",
      "Jonas Jerebko                NaN  5000000.0                      Team  Number Position  Age  Height  Weight   College  \\\n",
      "Name                                                                      \n",
      "Trey Lyles    Utah Jazz      41       PF   20  06-Oct     234  Kentucky   \n",
      "Shelvin Mack  Utah Jazz       8       PG   26  06-Mar     203    Butler   \n",
      "Raul Neto     Utah Jazz      25       PG   24  06-Jan     179       NaN   \n",
      "Tibor Pleiss  Utah Jazz      21        C   26  07-Mar     256       NaN   \n",
      "Jeff Withey   Utah Jazz      24        C   26     7-0     231    Kansas   \n",
      "\n",
      "                 Salary  \n",
      "Name                     \n",
      "Trey Lyles    2239800.0  \n",
      "Shelvin Mack  2433333.0  \n",
      "Raul Neto      900000.0  \n",
      "Tibor Pleiss  2900000.0  \n",
      "Jeff Withey    947276.0  \n"
     ]
    }
   ],
   "source": [
    "print(data.info(),data.describe(),data.head(),data.tail())"
   ]
  },
  {
   "cell_type": "code",
   "execution_count": 17,
   "metadata": {},
   "outputs": [
    {
     "data": {
      "text/plain": [
       "947276.0      31\n",
       "845059.0      18\n",
       "525093.0      13\n",
       "981348.0       6\n",
       "16407500.0     5\n",
       "1100602.0      5\n",
       "4000000.0      5\n",
       "5000000.0      5\n",
       "8000000.0      5\n",
       "12000000.0     5\n",
       "3000000.0      4\n",
       "1000000.0      4\n",
       "19689000.0     4\n",
       "2814000.0      4\n",
       "7000000.0      4\n",
       "200600.0       3\n",
       "1015421.0      3\n",
       "2500000.0      3\n",
       "13500000.0     3\n",
       "8500000.0      3\n",
       "2854940.0      3\n",
       "5543725.0      3\n",
       "2170465.0      2\n",
       "11235955.0     2\n",
       "55722.0        2\n",
       "1270964.0      2\n",
       "1140240.0      2\n",
       "5500000.0      2\n",
       "1842000.0      2\n",
       "3425510.0      2\n",
       "              ..\n",
       "1474440.0      1\n",
       "19688000.0     1\n",
       "7900000.0      1\n",
       "12250000.0     1\n",
       "2841960.0      1\n",
       "9463484.0      1\n",
       "1404600.0      1\n",
       "1584480.0      1\n",
       "273038.0       1\n",
       "9213483.0      1\n",
       "3272091.0      1\n",
       "1155600.0      1\n",
       "6060606.0      1\n",
       "3075880.0      1\n",
       "2250000.0      1\n",
       "4626960.0      1\n",
       "1304520.0      1\n",
       "12100000.0     1\n",
       "7500000.0      1\n",
       "295327.0       1\n",
       "2836186.0      1\n",
       "6486486.0      1\n",
       "5016000.0      1\n",
       "3333333.0      1\n",
       "1824360.0      1\n",
       "8042895.0      1\n",
       "1242720.0      1\n",
       "2489530.0      1\n",
       "5103120.0      1\n",
       "700902.0       1\n",
       "Name: Salary, Length: 309, dtype: int64"
      ]
     },
     "execution_count": 17,
     "metadata": {},
     "output_type": "execute_result"
    }
   ],
   "source": [
    "df['Salary'].value_counts()"
   ]
  },
  {
   "cell_type": "code",
   "execution_count": 11,
   "metadata": {},
   "outputs": [
    {
     "name": "stdout",
     "output_type": "stream",
     "text": [
      "Name\n",
      "Avery Bradley              25\n",
      "Jae Crowder                25\n",
      "John Holland               27\n",
      "R.J. Hunter                22\n",
      "Jonas Jerebko              29\n",
      "Amir Johnson               29\n",
      "Jordan Mickey              21\n",
      "Kelly Olynyk               25\n",
      "Terry Rozier               22\n",
      "Marcus Smart               22\n",
      "Jared Sullinger            24\n",
      "Isaiah Thomas              27\n",
      "Evan Turner                27\n",
      "James Young                20\n",
      "Tyler Zeller               26\n",
      "Bojan Bogdanovic           27\n",
      "Markel Brown               24\n",
      "Wayne Ellington            28\n",
      "Rondae Hollis-Jefferson    21\n",
      "Jarrett Jack               32\n",
      "Sergey Karasev             22\n",
      "Sean Kilpatrick            26\n",
      "Shane Larkin               23\n",
      "Brook Lopez                28\n",
      "Chris McCullough           21\n",
      "Willie Reed                26\n",
      "Thomas Robinson            25\n",
      "Henry Sims                 26\n",
      "Donald Sloan               28\n",
      "Thaddeus Young             27\n",
      "                           ..\n",
      "Cliff Alexander            20\n",
      "Al-Farouq Aminu            25\n",
      "Pat Connaughton            23\n",
      "Allen Crabbe               24\n",
      "Ed Davis                   27\n",
      "Maurice Harkless           23\n",
      "Gerald Henderson           28\n",
      "Chris Kaman                34\n",
      "Meyers Leonard             24\n",
      "Damian Lillard             25\n",
      "C.J. McCollum              24\n",
      "Luis Montero               23\n",
      "Mason Plumlee              26\n",
      "Brian Roberts              30\n",
      "Noah Vonleh                20\n",
      "Trevor Booker              28\n",
      "Trey Burke                 23\n",
      "Alec Burks                 24\n",
      "Dante Exum                 20\n",
      "Derrick Favors             24\n",
      "Rudy Gobert                23\n",
      "Gordon Hayward             26\n",
      "Rodney Hood                23\n",
      "Joe Ingles                 28\n",
      "Chris Johnson              26\n",
      "Trey Lyles                 20\n",
      "Shelvin Mack               26\n",
      "Raul Neto                  24\n",
      "Tibor Pleiss               26\n",
      "Jeff Withey                26\n",
      "Name: Age, Length: 457, dtype: int64\n"
     ]
    }
   ],
   "source": [
    "# Selecting a single columns retrieving columns by indexing operator\n",
    "first = data[\"Age\"]\n",
    "print(first)"
   ]
  },
  {
   "cell_type": "code",
   "execution_count": 12,
   "metadata": {},
   "outputs": [
    {
     "name": "stdout",
     "output_type": "stream",
     "text": [
      "Team        Boston Celtics\n",
      "Number                   0\n",
      "Position                PG\n",
      "Age                     25\n",
      "Height              06-Feb\n",
      "Weight                 180\n",
      "College              Texas\n",
      "Salary         7.45235e+06\n",
      "Name: Avery Bradley, dtype: object \n",
      "\n",
      "\n",
      " Team        Boston Celtics\n",
      "Number                  28\n",
      "Position                SG\n",
      "Age                     22\n",
      "Height              06-May\n",
      "Weight                 185\n",
      "College      Georgia State\n",
      "Salary         1.14864e+06\n",
      "Name: R.J. Hunter, dtype: object\n"
     ]
    }
   ],
   "source": [
    "# Selecting a single row Indexing a DataFrame using .loc[ ] :\n",
    "\n",
    "# retrieving row by loc method\n",
    "first = data.loc[\"Avery Bradley\"]\n",
    "second = data.loc[\"R.J. Hunter\"]\n",
    "print(first,\"\\n\\n\\n\",second )"
   ]
  },
  {
   "cell_type": "markdown",
   "metadata": {},
   "source": [
    "#### Indexing a DataFrame using .iloc[ ] :\n",
    "\n",
    "In order to select a single row using .iloc[], we can pass a single integer to .iloc[] function"
   ]
  },
  {
   "cell_type": "code",
   "execution_count": 13,
   "metadata": {},
   "outputs": [
    {
     "name": "stdout",
     "output_type": "stream",
     "text": [
      "Team        Boston Celtics\n",
      "Number                  28\n",
      "Position                SG\n",
      "Age                     22\n",
      "Height              06-May\n",
      "Weight                 185\n",
      "College      Georgia State\n",
      "Salary         1.14864e+06\n",
      "Name: R.J. Hunter, dtype: object\n"
     ]
    }
   ],
   "source": [
    "# retrieving rows by iloc method \n",
    "row2 = data.iloc[3] \n",
    "print(row2)"
   ]
  },
  {
   "cell_type": "markdown",
   "metadata": {},
   "source": [
    "#### Working with Missing Data\n",
    "Checking for missing values using \n",
    "1. isnull() and \n",
    "2. notnull()\n",
    "\n",
    "In order to check missing values in Pandas DataFrame, we use a function isnull() and notnull(). Both function help in checking whether a value is NaN or not. These function can also be used in Pandas Series in order to find null values in a series."
   ]
  },
  {
   "cell_type": "code",
   "execution_count": 27,
   "metadata": {},
   "outputs": [
    {
     "data": {
      "text/html": [
       "<div>\n",
       "<style scoped>\n",
       "    .dataframe tbody tr th:only-of-type {\n",
       "        vertical-align: middle;\n",
       "    }\n",
       "\n",
       "    .dataframe tbody tr th {\n",
       "        vertical-align: top;\n",
       "    }\n",
       "\n",
       "    .dataframe thead th {\n",
       "        text-align: right;\n",
       "    }\n",
       "</style>\n",
       "<table border=\"1\" class=\"dataframe\">\n",
       "  <thead>\n",
       "    <tr style=\"text-align: right;\">\n",
       "      <th></th>\n",
       "      <th>First Score</th>\n",
       "      <th>Second Score</th>\n",
       "      <th>Third Score</th>\n",
       "    </tr>\n",
       "  </thead>\n",
       "  <tbody>\n",
       "    <tr>\n",
       "      <th>0</th>\n",
       "      <td>False</td>\n",
       "      <td>False</td>\n",
       "      <td>True</td>\n",
       "    </tr>\n",
       "    <tr>\n",
       "      <th>1</th>\n",
       "      <td>False</td>\n",
       "      <td>False</td>\n",
       "      <td>False</td>\n",
       "    </tr>\n",
       "    <tr>\n",
       "      <th>2</th>\n",
       "      <td>True</td>\n",
       "      <td>False</td>\n",
       "      <td>False</td>\n",
       "    </tr>\n",
       "    <tr>\n",
       "      <th>3</th>\n",
       "      <td>False</td>\n",
       "      <td>True</td>\n",
       "      <td>False</td>\n",
       "    </tr>\n",
       "  </tbody>\n",
       "</table>\n",
       "</div>"
      ],
      "text/plain": [
       "   First Score  Second Score  Third Score\n",
       "0        False         False         True\n",
       "1        False         False        False\n",
       "2         True         False        False\n",
       "3        False          True        False"
      ]
     },
     "execution_count": 27,
     "metadata": {},
     "output_type": "execute_result"
    }
   ],
   "source": [
    "import numpy as np\n",
    "import pandas as pd\n",
    "# dictionary of lists\n",
    "dict = {'First Score':[100, 90, np.nan, 95],\n",
    "        'Second Score': [30, 45, 56, np.nan],\n",
    "        'Third Score':[np.nan, 40, 80, 98]}\n",
    " \n",
    "# creating a dataframe from list\n",
    "df = pd.DataFrame(dict)\n",
    " \n",
    "# using isnull() function  \n",
    "df.isnull()"
   ]
  },
  {
   "cell_type": "markdown",
   "metadata": {},
   "source": [
    "**Filling missing values using fillna(), replace() and interpolate() :**\n",
    "\n",
    "In order to fill null values in a datasets, we use \n",
    "1. fillna(), \n",
    "2. replace() and \n",
    "function these function replace NaN values with some value of their own. All these function help in filling a null values in datasets of a DataFrame.\n",
    "3. interpolate(): \n",
    "Interpolate() function is basically used to fill NA values in the dataframe but it uses various interpolation technique to fill the missing values rather than hard-coding the value.\n"
   ]
  },
  {
   "cell_type": "code",
   "execution_count": 19,
   "metadata": {},
   "outputs": [
    {
     "data": {
      "text/html": [
       "<div>\n",
       "<style scoped>\n",
       "    .dataframe tbody tr th:only-of-type {\n",
       "        vertical-align: middle;\n",
       "    }\n",
       "\n",
       "    .dataframe tbody tr th {\n",
       "        vertical-align: top;\n",
       "    }\n",
       "\n",
       "    .dataframe thead th {\n",
       "        text-align: right;\n",
       "    }\n",
       "</style>\n",
       "<table border=\"1\" class=\"dataframe\">\n",
       "  <thead>\n",
       "    <tr style=\"text-align: right;\">\n",
       "      <th></th>\n",
       "      <th>First Score</th>\n",
       "      <th>Second Score</th>\n",
       "      <th>Third Score</th>\n",
       "    </tr>\n",
       "  </thead>\n",
       "  <tbody>\n",
       "    <tr>\n",
       "      <th>0</th>\n",
       "      <td>100.0</td>\n",
       "      <td>30.0</td>\n",
       "      <td>0.0</td>\n",
       "    </tr>\n",
       "    <tr>\n",
       "      <th>1</th>\n",
       "      <td>90.0</td>\n",
       "      <td>45.0</td>\n",
       "      <td>40.0</td>\n",
       "    </tr>\n",
       "    <tr>\n",
       "      <th>2</th>\n",
       "      <td>0.0</td>\n",
       "      <td>56.0</td>\n",
       "      <td>80.0</td>\n",
       "    </tr>\n",
       "    <tr>\n",
       "      <th>3</th>\n",
       "      <td>95.0</td>\n",
       "      <td>0.0</td>\n",
       "      <td>98.0</td>\n",
       "    </tr>\n",
       "  </tbody>\n",
       "</table>\n",
       "</div>"
      ],
      "text/plain": [
       "   First Score  Second Score  Third Score\n",
       "0        100.0          30.0          0.0\n",
       "1         90.0          45.0         40.0\n",
       "2          0.0          56.0         80.0\n",
       "3         95.0           0.0         98.0"
      ]
     },
     "execution_count": 19,
     "metadata": {},
     "output_type": "execute_result"
    }
   ],
   "source": [
    "# importing pandas as pd\n",
    "import pandas as pd\n",
    " \n",
    "# importing numpy as np\n",
    "import numpy as np\n",
    " \n",
    "# dictionary of lists\n",
    "dict = {'First Score':[100, 90, np.nan, 95],\n",
    "        'Second Score': [30, 45, 56, np.nan],\n",
    "        'Third Score':[np.nan, 40, 80, 98]}\n",
    " \n",
    "# creating a dataframe from dictionary\n",
    "df = pd.DataFrame(dict)\n",
    " \n",
    "# filling missing value using fillna()  \n",
    "df.fillna(0)"
   ]
  },
  {
   "cell_type": "markdown",
   "metadata": {},
   "source": [
    "**Dropping missing values using dropna() :**\n",
    "\n",
    "In order to drop a null values from a dataframe, we used dropna() function this fuction drop Rows/Columns of datasets with Null values in different ways.\n"
   ]
  },
  {
   "cell_type": "code",
   "execution_count": 21,
   "metadata": {},
   "outputs": [
    {
     "data": {
      "text/html": [
       "<div>\n",
       "<style scoped>\n",
       "    .dataframe tbody tr th:only-of-type {\n",
       "        vertical-align: middle;\n",
       "    }\n",
       "\n",
       "    .dataframe tbody tr th {\n",
       "        vertical-align: top;\n",
       "    }\n",
       "\n",
       "    .dataframe thead th {\n",
       "        text-align: right;\n",
       "    }\n",
       "</style>\n",
       "<table border=\"1\" class=\"dataframe\">\n",
       "  <thead>\n",
       "    <tr style=\"text-align: right;\">\n",
       "      <th></th>\n",
       "      <th>First Score</th>\n",
       "      <th>Second Score</th>\n",
       "      <th>Third Score</th>\n",
       "      <th>Fourth Score</th>\n",
       "    </tr>\n",
       "  </thead>\n",
       "  <tbody>\n",
       "    <tr>\n",
       "      <th>3</th>\n",
       "      <td>95.0</td>\n",
       "      <td>56.0</td>\n",
       "      <td>98</td>\n",
       "      <td>65.0</td>\n",
       "    </tr>\n",
       "  </tbody>\n",
       "</table>\n",
       "</div>"
      ],
      "text/plain": [
       "   First Score  Second Score  Third Score  Fourth Score\n",
       "3         95.0          56.0           98          65.0"
      ]
     },
     "execution_count": 21,
     "metadata": {},
     "output_type": "execute_result"
    }
   ],
   "source": [
    "#Now we drop rows with at least one Nan value (Null value)\n",
    "# importing pandas as pd\n",
    "import pandas as pd\n",
    " \n",
    "# importing numpy as np\n",
    "import numpy as np\n",
    " \n",
    "# dictionary of lists\n",
    "dict = {'First Score':[100, 90, np.nan, 95],\n",
    "        'Second Score': [30, np.nan, 45, 56],\n",
    "        'Third Score':[52, 40, 80, 98],\n",
    "        'Fourth Score':[np.nan, np.nan, np.nan, 65]}\n",
    " \n",
    "# creating a dataframe from dictionary\n",
    "df = pd.DataFrame(dict)\n",
    " \n",
    "# using dropna() function  \n",
    "df.dropna()\n"
   ]
  },
  {
   "cell_type": "code",
   "execution_count": null,
   "metadata": {},
   "outputs": [],
   "source": []
  },
  {
   "cell_type": "markdown",
   "metadata": {},
   "source": [
    "**Iterating over rows and columns**"
   ]
  },
  {
   "cell_type": "markdown",
   "metadata": {},
   "source": [
    "***Iterating over rows :***\n",
    "In order to iterate over rows, we can use three function \n",
    "1. iteritems(), \n",
    "2. iterrows(), \n",
    "3. itertuples() . These three function will help in iteration over rows.\n"
   ]
  },
  {
   "cell_type": "code",
   "execution_count": 22,
   "metadata": {},
   "outputs": [
    {
     "name": "stdout",
     "output_type": "stream",
     "text": [
      "     name  degree  score\n",
      "0  aparna     MBA     90\n",
      "1  pankaj     BCA     40\n",
      "2  sudhir  M.Tech     80\n",
      "3   Geeku     MBA     98\n"
     ]
    }
   ],
   "source": [
    "# importing pandas as pd\n",
    "import pandas as pd\n",
    "  \n",
    "# dictionary of lists\n",
    "dict = {'name':[\"aparna\", \"pankaj\", \"sudhir\", \"Geeku\"],\n",
    "        'degree': [\"MBA\", \"BCA\", \"M.Tech\", \"MBA\"],\n",
    "        'score':[90, 40, 80, 98]}\n",
    " \n",
    "# creating a dataframe from a dictionary \n",
    "df = pd.DataFrame(dict)\n",
    " \n",
    "print(df)"
   ]
  },
  {
   "cell_type": "markdown",
   "metadata": {},
   "source": [
    "**Iterating over Columns** "
   ]
  },
  {
   "cell_type": "code",
   "execution_count": 23,
   "metadata": {},
   "outputs": [
    {
     "data": {
      "text/html": [
       "<div>\n",
       "<style scoped>\n",
       "    .dataframe tbody tr th:only-of-type {\n",
       "        vertical-align: middle;\n",
       "    }\n",
       "\n",
       "    .dataframe tbody tr th {\n",
       "        vertical-align: top;\n",
       "    }\n",
       "\n",
       "    .dataframe thead th {\n",
       "        text-align: right;\n",
       "    }\n",
       "</style>\n",
       "<table border=\"1\" class=\"dataframe\">\n",
       "  <thead>\n",
       "    <tr style=\"text-align: right;\">\n",
       "      <th></th>\n",
       "      <th>name</th>\n",
       "      <th>degree</th>\n",
       "      <th>score</th>\n",
       "    </tr>\n",
       "  </thead>\n",
       "  <tbody>\n",
       "    <tr>\n",
       "      <th>0</th>\n",
       "      <td>aparna</td>\n",
       "      <td>MBA</td>\n",
       "      <td>90</td>\n",
       "    </tr>\n",
       "    <tr>\n",
       "      <th>1</th>\n",
       "      <td>pankaj</td>\n",
       "      <td>BCA</td>\n",
       "      <td>40</td>\n",
       "    </tr>\n",
       "    <tr>\n",
       "      <th>2</th>\n",
       "      <td>sudhir</td>\n",
       "      <td>M.Tech</td>\n",
       "      <td>80</td>\n",
       "    </tr>\n",
       "    <tr>\n",
       "      <th>3</th>\n",
       "      <td>Geeku</td>\n",
       "      <td>MBA</td>\n",
       "      <td>98</td>\n",
       "    </tr>\n",
       "  </tbody>\n",
       "</table>\n",
       "</div>"
      ],
      "text/plain": [
       "     name  degree  score\n",
       "0  aparna     MBA     90\n",
       "1  pankaj     BCA     40\n",
       "2  sudhir  M.Tech     80\n",
       "3   Geeku     MBA     98"
      ]
     },
     "execution_count": 23,
     "metadata": {},
     "output_type": "execute_result"
    }
   ],
   "source": [
    "# importing pandas as pd\n",
    "import pandas as pd\n",
    "   \n",
    "# dictionary of lists\n",
    "dict = {'name':[\"aparna\", \"pankaj\", \"sudhir\", \"Geeku\"],\n",
    "        'degree': [\"MBA\", \"BCA\", \"M.Tech\", \"MBA\"],\n",
    "        'score':[90, 40, 80, 98]}\n",
    "  \n",
    "# creating a dataframe from a dictionary \n",
    "df = pd.DataFrame(dict)\n",
    "df"
   ]
  },
  {
   "cell_type": "markdown",
   "metadata": {},
   "source": [
    "#### DataFrame Methods:\n",
    "\n",
    "| Method  | Description   |\n",
    "|------|------|\n",
    "|index()\t|Method returns index (row labels) of the DataFrame|\n",
    "|insert()|Method inserts a column into a DataFrame|\n",
    "|add()|Method returns addition of dataframe and other, element-wise (binary operator add)|\n",
    "|sub()|Method returns subtraction of dataframe and other, element-wise (binary operator sub)|\n",
    "|mul()|Method returns multiplication of dataframe and other, element-wise (binary operator mul)|\n",
    "|div()|Method returns floating division of dataframe and other, element-wise (binary operator truediv)|\n",
    "|unique()|\tMethod extracts the unique values in the dataframe|\n",
    "|nunique()|Method returns count of the unique values in the dataframe|\n",
    "|value_counts()|\tMethod counts the number of times each unique value occurs within the Series\n",
    "|columns()|\tMethod returns the column labels of the DataFrame\n",
    "|axes()\t|Method returns a list representing the axes of the DataFrame\n",
    "|isnull()|Method creates a Boolean Series for extracting rows with null values\n",
    "|notnull()|Method creates a Boolean Series for extracting rows with non-null values\n",
    "|between()\t|Method extracts rows where a column value falls in between a predefined range\n",
    "|isin()|Method extracts rows from a DataFrame where a column value exists in a predefined collection\n",
    "|dtypes()|\tMethod returns a Series with the data type of each column. The result’s index is the original DataFrame’s columns\n",
    "|astype()|Method converts the data types in a Series\n",
    "|values()|\tMethod returns a Numpy representation of the DataFrame i.e. only the values in the DataFrame will be returned, the axes labels will be removed\n",
    "|sort_values()|- Set1, Set2Method sorts a data frame in Ascending or Descending order of passed Column\n",
    "|sort_index()|Method sorts the values in a DataFrame based on their index positions or labels instead of their values but sometimes a data frame is made out of two or more data frames and hence later index can be changed using this method|\n",
    "|loc[]|Method retrieves rows based on index label|\n",
    "|iloc[]|Method retrieves rows based on index position|\n",
    "|ix[]|Method retrieves DataFrame rows based on either index label or index position. This method combines the best features of the .loc[] and .iloc[] methods|\n",
    "|rename()|Method is called on a DataFrame to change the names of the index labels or column names|\n",
    "|columns()|\tMethod is an alternative attribute to change the coloumn name|\n",
    "|drop()|Method is used to delete rows or columns from a DataFrame|\n",
    "|pop()|Method is used to delete rows or columns from a DataFrame|\n",
    "|sample()|Method pulls out a random sample of rows or columns from a DataFrame|\n",
    "|nsmallest()|Method pulls out the rows with the smallest values in a column|\n",
    "|nlargest()|Method pulls out the rows with the largest values in a column|\n",
    "|shape()|Method returns a tuple representing the dimensionality of the DataFrame|\n",
    "|ndim()|Method returns an ‘int’ representing the number of axes / array dimensions.Returns 1 if Series, otherwise returns 2 if DataFrame|\n",
    "|dropna()|Method allows the user to analyze and drop Rows/Columns with Null values in different ways|\n",
    "|fillna()|Method manages and let the user replace NaN values with some value of their own|\n",
    "|rank()|Values in a Series can be ranked in order with this method|\n",
    "|query()|Method is an alternate string-based syntax for extracting a subset from a DataFrame|\n",
    "|copy()|Method creates an independent copy of a pandas object|\n",
    "|duplicated()|Method creates a Boolean Series and uses it to extract rows that have duplicate values|\n",
    "|drop_duplicates()|Method is an alternative option to identifying duplicate rows and removing them through filtering|\n",
    "|set_index()|Method sets the DataFrame index (row labels) using one or more existing columns|\n",
    "|reset_index()|Method resets index of a Data Frame. This method sets a list of integer ranging from 0 to length of data as index|\n",
    "|where()|Method is used to check a Data Frame for one or more condition and return the result accordingly. By default, the rows not satisfying the condition are filled with NaN value|"
   ]
  },
  {
   "cell_type": "code",
   "execution_count": null,
   "metadata": {},
   "outputs": [],
   "source": []
  }
 ],
 "metadata": {
  "kernelspec": {
   "display_name": "Python 3",
   "language": "python",
   "name": "python3"
  },
  "language_info": {
   "codemirror_mode": {
    "name": "ipython",
    "version": 3
   },
   "file_extension": ".py",
   "mimetype": "text/x-python",
   "name": "python",
   "nbconvert_exporter": "python",
   "pygments_lexer": "ipython3",
   "version": "3.6.3"
  }
 },
 "nbformat": 4,
 "nbformat_minor": 2
}
