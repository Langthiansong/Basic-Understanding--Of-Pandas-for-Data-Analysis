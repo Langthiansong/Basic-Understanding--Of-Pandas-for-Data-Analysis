{
 "cells": [
  {
   "cell_type": "code",
   "execution_count": 1,
   "metadata": {},
   "outputs": [],
   "source": [
    "import pandas as pd\n",
    "import sqlite3\n",
    "#from mpl_toolkits.basemap import Basemap\n",
    "import matplotlib.pyplot as plt"
   ]
  },
  {
   "cell_type": "code",
   "execution_count": 2,
   "metadata": {},
   "outputs": [
    {
     "data": {
      "text/html": [
       "<div>\n",
       "<style scoped>\n",
       "    .dataframe tbody tr th:only-of-type {\n",
       "        vertical-align: middle;\n",
       "    }\n",
       "\n",
       "    .dataframe tbody tr th {\n",
       "        vertical-align: top;\n",
       "    }\n",
       "\n",
       "    .dataframe thead th {\n",
       "        text-align: right;\n",
       "    }\n",
       "</style>\n",
       "<table border=\"1\" class=\"dataframe\">\n",
       "  <thead>\n",
       "    <tr style=\"text-align: right;\">\n",
       "      <th></th>\n",
       "      <th>index</th>\n",
       "      <th>id</th>\n",
       "      <th>name</th>\n",
       "      <th>alias</th>\n",
       "      <th>iata</th>\n",
       "      <th>icao</th>\n",
       "      <th>callsign</th>\n",
       "      <th>country</th>\n",
       "      <th>active</th>\n",
       "    </tr>\n",
       "  </thead>\n",
       "  <tbody>\n",
       "    <tr>\n",
       "      <th>0</th>\n",
       "      <td>0</td>\n",
       "      <td>1</td>\n",
       "      <td>Private flight</td>\n",
       "      <td>\\N</td>\n",
       "      <td>-</td>\n",
       "      <td>None</td>\n",
       "      <td>None</td>\n",
       "      <td>None</td>\n",
       "      <td>Y</td>\n",
       "    </tr>\n",
       "    <tr>\n",
       "      <th>1</th>\n",
       "      <td>1</td>\n",
       "      <td>2</td>\n",
       "      <td>135 Airways</td>\n",
       "      <td>\\N</td>\n",
       "      <td>None</td>\n",
       "      <td>GNL</td>\n",
       "      <td>GENERAL</td>\n",
       "      <td>United States</td>\n",
       "      <td>N</td>\n",
       "    </tr>\n",
       "    <tr>\n",
       "      <th>2</th>\n",
       "      <td>2</td>\n",
       "      <td>3</td>\n",
       "      <td>1Time Airline</td>\n",
       "      <td>\\N</td>\n",
       "      <td>1T</td>\n",
       "      <td>RNX</td>\n",
       "      <td>NEXTIME</td>\n",
       "      <td>South Africa</td>\n",
       "      <td>Y</td>\n",
       "    </tr>\n",
       "    <tr>\n",
       "      <th>3</th>\n",
       "      <td>3</td>\n",
       "      <td>4</td>\n",
       "      <td>2 Sqn No 1 Elementary Flying Training School</td>\n",
       "      <td>\\N</td>\n",
       "      <td>None</td>\n",
       "      <td>WYT</td>\n",
       "      <td>None</td>\n",
       "      <td>United Kingdom</td>\n",
       "      <td>N</td>\n",
       "    </tr>\n",
       "    <tr>\n",
       "      <th>4</th>\n",
       "      <td>4</td>\n",
       "      <td>5</td>\n",
       "      <td>213 Flight Unit</td>\n",
       "      <td>\\N</td>\n",
       "      <td>None</td>\n",
       "      <td>TFU</td>\n",
       "      <td>None</td>\n",
       "      <td>Russia</td>\n",
       "      <td>N</td>\n",
       "    </tr>\n",
       "  </tbody>\n",
       "</table>\n",
       "</div>"
      ],
      "text/plain": [
       "   index id                                          name alias  iata  icao  \\\n",
       "0      0  1                                Private flight    \\N     -  None   \n",
       "1      1  2                                   135 Airways    \\N  None   GNL   \n",
       "2      2  3                                 1Time Airline    \\N    1T   RNX   \n",
       "3      3  4  2 Sqn No 1 Elementary Flying Training School    \\N  None   WYT   \n",
       "4      4  5                               213 Flight Unit    \\N  None   TFU   \n",
       "\n",
       "  callsign         country active  \n",
       "0     None            None      Y  \n",
       "1  GENERAL   United States      N  \n",
       "2  NEXTIME    South Africa      Y  \n",
       "3     None  United Kingdom      N  \n",
       "4     None          Russia      N  "
      ]
     },
     "execution_count": 2,
     "metadata": {},
     "output_type": "execute_result"
    }
   ],
   "source": [
    "conn = sqlite3.connect(\"Data/flights.db\")\n",
    "df = pd.read_sql_query(\"select * from airlines limit 5;\", conn)\n",
    "df"
   ]
  },
  {
   "cell_type": "code",
   "execution_count": null,
   "metadata": {},
   "outputs": [],
   "source": [
    "df['country']"
   ]
  },
  {
   "cell_type": "code",
   "execution_count": 4,
   "metadata": {},
   "outputs": [
    {
     "name": "stdout",
     "output_type": "stream",
     "text": [
      "       source_lon  source_lat    dest_lon   dest_lat\n",
      "0       39.956589   43.449928   49.278728  55.606186\n",
      "1       48.006278   46.283333   49.278728  55.606186\n",
      "2       48.006278   46.283333   43.081889  44.225072\n",
      "3       61.503333   55.305836   49.278728  55.606186\n",
      "4       61.503333   55.305836   82.650656  55.012622\n",
      "5       37.906111   55.408611   49.278728  55.606186\n",
      "6       37.906111   55.408611   52.060000  55.340000\n",
      "7       37.906111   55.408611   52.801700  54.640000\n",
      "8       36.590100   50.643800   20.592633  54.890050\n",
      "9       36.590100   50.643800   49.278728  55.606186\n",
      "10      50.046667   40.467500   52.060000  55.340000\n",
      "11      20.592633   54.890050   36.590100  50.643800\n",
      "12      49.278728   55.606186   39.956589  43.449928\n",
      "13      49.278728   55.606186   48.006278  46.283333\n",
      "14      49.278728   55.606186   61.503333  55.305836\n",
      "15      49.278728   55.606186   37.906111  55.408611\n",
      "16      49.278728   55.606186   36.590100  50.643800\n",
      "17      49.278728   55.606186   30.262503  59.800292\n",
      "18      49.278728   55.606186   60.802728  56.743108\n",
      "19      30.262503   59.800292   49.278728  55.606186\n",
      "20      30.262503   59.800292   52.060000  55.340000\n",
      "21      30.262503   59.800292   52.801700  54.640000\n",
      "22      43.081889   44.225072   48.006278  46.283333\n",
      "23      52.060000   55.340000   37.906111  55.408611\n",
      "24      52.060000   55.340000   50.046667  40.467500\n",
      "25      52.060000   55.340000   30.262503  59.800292\n",
      "26      52.060000   55.340000   60.802728  56.743108\n",
      "27      76.483617   60.949272   60.802728  56.743108\n",
      "28      76.483617   60.949272   52.801700  54.640000\n",
      "29      76.313938   66.041811   60.802728  56.743108\n",
      "...           ...         ...         ...        ...\n",
      "67172  151.177222  -33.946111  146.958056 -36.067778\n",
      "67173  151.177222  -33.946111  151.617222 -30.528056\n",
      "67174  151.177222  -33.946111  141.472000 -32.001400\n",
      "67175  151.177222  -33.946111  149.652000 -33.409400\n",
      "67176  151.177222  -33.946111  153.562500 -28.833889\n",
      "67177  151.177222  -33.946111  148.574722 -32.216667\n",
      "67178  151.177222  -33.946111  146.067000 -34.250800\n",
      "67179  151.177222  -33.946111  153.260000 -28.830300\n",
      "67180  151.177222  -33.946111  149.901000 -36.908600\n",
      "67181  151.177222  -33.946111  142.086000 -34.229200\n",
      "67182  151.177222  -33.946111  150.144000 -35.897800\n",
      "67183  151.177222  -33.946111  146.512000 -34.702200\n",
      "67184  151.177222  -33.946111  151.830000 -32.780000\n",
      "67185  151.177222  -33.946111  149.133000 -33.381700\n",
      "67186  151.177222  -33.946111  148.239000 -33.131400\n",
      "67187  151.177222  -33.946111  152.514000 -31.888600\n",
      "67188  151.177222  -33.946111  147.466389 -35.165278\n",
      "67189  152.514000  -31.888600  153.030000 -29.759400\n",
      "67190  152.514000  -31.888600  151.177222 -33.946111\n",
      "67191  146.765278  -19.252500  139.488611 -20.663889\n",
      "67192  146.765278  -19.252500  143.086000 -22.363600\n",
      "67193  147.466389  -35.165278  144.843333 -37.673333\n",
      "67194  147.466389  -35.165278  151.177222 -33.946111\n",
      "67195  143.086000  -22.363600  144.280000 -23.434200\n",
      "67196  143.086000  -22.363600  146.765278 -19.252500\n",
      "67197  137.514000  -33.058900  138.530556 -34.945000\n",
      "67198   37.906111   55.408611   74.477556  43.061306\n",
      "67199   74.477556   43.061306   37.906111  55.408611\n",
      "67200   74.477556   43.061306   72.793269  40.608989\n",
      "67201   72.793269   40.608989   74.477556  43.061306\n",
      "\n",
      "[67202 rows x 4 columns]\n"
     ]
    }
   ],
   "source": [
    "routes = pd.read_sql_query(\"\"\"\n",
    "select cast(sa.longitude as float) as source_lon,\n",
    "cast(sa.latitude as float) as source_lat,\n",
    "cast(da.longitude as float) as dest_lon,\n",
    "cast(da.latitude as float) as dest_lat\n",
    "from routes\n",
    "inner join airports sa on sa.id = routes.source_id\n",
    "inner join airports da on da.id = routes.dest_id;\n",
    "\"\"\",\n",
    "conn)\n",
    "print(routes)"
   ]
  },
  {
   "cell_type": "code",
   "execution_count": null,
   "metadata": {},
   "outputs": [],
   "source": [
    "m = Basemap(\n",
    "projection='merc',\n",
    "llcrnrlat=-80,\n",
    "urcrnrlat=80,\n",
    "llcrnrlon=-180,\n",
    "urcrnrlon=180,\n",
    "lat_ts=20,\n",
    "resolution='c'\n",
    ")\n",
    "m.drawcoastlines()"
   ]
  },
  {
   "cell_type": "code",
   "execution_count": null,
   "metadata": {},
   "outputs": [],
   "source": [
    "for name, row in routes[:3000].iterrows():\n",
    "    if abs(row[\"source_lon\"] - row[\"dest_lon\"]) < 90:\n",
    "        # Draw a great circle between source and dest airports.\n",
    "        m.drawgreatcircle(\n",
    "            row[\"source_lon\"],\n",
    "            row[\"source_lat\"],\n",
    "            row[\"dest_lon\"],\n",
    "            row[\"dest_lat\"],\n",
    "            linewidth=1,\n",
    "            color='b')"
   ]
  },
  {
   "cell_type": "code",
   "execution_count": 5,
   "metadata": {},
   "outputs": [
    {
     "ename": "NameError",
     "evalue": "name 'cur' is not defined",
     "output_type": "error",
     "traceback": [
      "\u001b[1;31m---------------------------------------------------------------------------\u001b[0m",
      "\u001b[1;31mNameError\u001b[0m                                 Traceback (most recent call last)",
      "\u001b[1;32m<ipython-input-5-25f1bf4b483b>\u001b[0m in \u001b[0;36m<module>\u001b[1;34m\u001b[0m\n\u001b[0;32m      1\u001b[0m \u001b[0mur\u001b[0m \u001b[1;33m=\u001b[0m \u001b[0mconn\u001b[0m\u001b[1;33m.\u001b[0m\u001b[0mcursor\u001b[0m\u001b[1;33m(\u001b[0m\u001b[1;33m)\u001b[0m\u001b[1;33m\u001b[0m\u001b[0m\n\u001b[1;32m----> 2\u001b[1;33m \u001b[0mcur\u001b[0m\u001b[1;33m.\u001b[0m\u001b[0mexecute\u001b[0m\u001b[1;33m(\u001b[0m\u001b[1;34m\"create table daily_flights (id integer, departure date, arrival date, number text, route_id integer)\"\u001b[0m\u001b[1;33m)\u001b[0m\u001b[1;33m\u001b[0m\u001b[0m\n\u001b[0m\u001b[0;32m      3\u001b[0m \u001b[0mconn\u001b[0m\u001b[1;33m.\u001b[0m\u001b[0mcommit\u001b[0m\u001b[1;33m(\u001b[0m\u001b[1;33m)\u001b[0m\u001b[1;33m\u001b[0m\u001b[0m\n",
      "\u001b[1;31mNameError\u001b[0m: name 'cur' is not defined"
     ]
    }
   ],
   "source": [
    "ur = conn.cursor()\n",
    "cur.execute(\"create table daily_flights (id integer, departure date, arrival date, number text, route_id integer)\")\n",
    "conn.commit()"
   ]
  },
  {
   "cell_type": "code",
   "execution_count": null,
   "metadata": {},
   "outputs": [],
   "source": [
    "cur.execute(\"insert into daily_flights values (11, '2018-09-28 0:00', '2018-09-28 12:00', 'T1', 1)\")\n",
    "conn.commit()"
   ]
  },
  {
   "cell_type": "code",
   "execution_count": null,
   "metadata": {},
   "outputs": [],
   "source": [
    "pd.read_sql_query(\"select * from daily_flights;\", conn)"
   ]
  },
  {
   "cell_type": "code",
   "execution_count": null,
   "metadata": {},
   "outputs": [],
   "source": [
    "df = pd.read_sql(\"select * from daily_flights\", conn)\n",
    "df[\"delay_minutes\"] = None\n",
    "df.to_sql(\"daily_flights\", conn, if_exists=\"replace\")"
   ]
  },
  {
   "cell_type": "code",
   "execution_count": null,
   "metadata": {},
   "outputs": [],
   "source": [
    "df"
   ]
  }
 ],
 "metadata": {
  "kernelspec": {
   "display_name": "Python 3",
   "language": "python",
   "name": "python3"
  },
  "language_info": {
   "codemirror_mode": {
    "name": "ipython",
    "version": 3
   },
   "file_extension": ".py",
   "mimetype": "text/x-python",
   "name": "python",
   "nbconvert_exporter": "python",
   "pygments_lexer": "ipython3",
   "version": "3.6.3"
  }
 },
 "nbformat": 4,
 "nbformat_minor": 2
}
