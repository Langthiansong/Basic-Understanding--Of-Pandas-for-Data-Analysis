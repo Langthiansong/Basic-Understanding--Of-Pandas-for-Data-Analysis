{
 "cells": [
  {
   "cell_type": "markdown",
   "metadata": {},
   "source": [
    "## Series:\n",
    "    "
   ]
  },
  {
   "cell_type": "markdown",
   "metadata": {},
   "source": [
    "![Data](images/DataSeriecs.PNG)"
   ]
  },
  {
   "cell_type": "code",
   "execution_count": 1,
   "metadata": {},
   "outputs": [
    {
     "name": "stdout",
     "output_type": "stream",
     "text": [
      "0         g\n",
      "1         r\n",
      "2         a\n",
      "3         t\n",
      "4    np.nan\n",
      "5         P\n",
      "6         e\n",
      "7         n\n",
      "dtype: object\n"
     ]
    }
   ],
   "source": [
    "# import pandas as pd\n",
    "import pandas as pd\n",
    " \n",
    "# import numpy as np\n",
    "import numpy as np\n",
    "\n",
    "# simple numpy array\n",
    "data = np.array(['g','r','a','t','np.nan','P','e','n'])\n",
    " \n",
    "ser = pd.Series(data)\n",
    "print(ser)"
   ]
  },
  {
   "cell_type": "code",
   "execution_count": 2,
   "metadata": {},
   "outputs": [
    {
     "name": "stdout",
     "output_type": "stream",
     "text": [
      "0     S\n",
      "1     I\n",
      "2     M\n",
      "3     P\n",
      "4     L\n",
      "5     T\n",
      "6     O\n",
      "7     L\n",
      "8     E\n",
      "9     A\n",
      "10    R\n",
      "11    N\n",
      "dtype: object\n"
     ]
    }
   ],
   "source": [
    "import pandas as pd\n",
    " \n",
    "# a simple list\n",
    "list1 = ['S', 'I', 'M', 'P', 'L','T','O','L','E','A','R','N']\n",
    "  \n",
    "# create series form a list\n",
    "ser = pd.Series(list1)\n",
    "print(ser)\n"
   ]
  },
  {
   "cell_type": "code",
   "execution_count": 9,
   "metadata": {},
   "outputs": [
    {
     "name": "stdout",
     "output_type": "stream",
     "text": [
      "0    g\n",
      "1    r\n",
      "2    e\n",
      "3    a\n",
      "4    Z\n",
      "dtype: object\n",
      "count     14\n",
      "unique    10\n",
      "top        r\n",
      "freq       3\n",
      "dtype: object\n"
     ]
    }
   ],
   "source": [
    "# Accessing Element from Series with Position \n",
    "# creating simple array\n",
    "data = np.array(['g','r','e','a','Z','t','f', 'o','r','L','e','a','r','n'])\n",
    "ser = pd.Series(data)\n",
    "#retrieve the first element\n",
    "print(ser[:5])\n",
    "# head Info\n",
    "import pandas as pdd\n",
    "#print(ser.head(10))\n",
    "\n",
    "# Info\n",
    "print(ser.describe())\n"
   ]
  },
  {
   "cell_type": "code",
   "execution_count": 17,
   "metadata": {},
   "outputs": [
    {
     "name": "stdout",
     "output_type": "stream",
     "text": [
      "A    0\n",
      "B    1\n",
      "C    2\n",
      "D    3\n",
      "E    4\n",
      "dtype: int32\n"
     ]
    },
    {
     "data": {
      "text/plain": [
       "count    5.000000\n",
       "mean     2.000000\n",
       "std      1.581139\n",
       "min      0.000000\n",
       "25%      1.000000\n",
       "50%      2.000000\n",
       "75%      3.000000\n",
       "max      4.000000\n",
       "dtype: float64"
      ]
     },
     "execution_count": 17,
     "metadata": {},
     "output_type": "execute_result"
    }
   ],
   "source": [
    "Data = pd.Series(np.arange(5),index=['A','B','C','D','E'])\n",
    "Data.head(1)\n",
    "Data.tail(2)\n",
    "print(Data)\n",
    "Data.describe()"
   ]
  },
  {
   "cell_type": "markdown",
   "metadata": {},
   "source": [
    "#### Accessing Element Using Label (index)"
   ]
  },
  {
   "cell_type": "code",
   "execution_count": 18,
   "metadata": {},
   "outputs": [
    {
     "name": "stdout",
     "output_type": "stream",
     "text": [
      "o\n"
     ]
    }
   ],
   "source": [
    "# import pandas and numpy \n",
    "import pandas as pd\n",
    "import numpy as np\n",
    " \n",
    "# creating simple array\n",
    "data = np.array(['g','R','A','T','P','E', 'o','p','l','e','s','or','DF'])\n",
    "ser = pd.Series(data,index=[10,11,12,13,14,15,16,17,18,19,20,21,22])\n",
    "  \n",
    "  \n",
    "# accessing a element using index element\n",
    "print(ser[16])"
   ]
  },
  {
   "cell_type": "markdown",
   "metadata": {},
   "source": [
    "![Series](images/Serices.png)"
   ]
  },
  {
   "cell_type": "code",
   "execution_count": 32,
   "metadata": {},
   "outputs": [
    {
     "data": {
      "text/plain": [
       "(2,)"
      ]
     },
     "execution_count": 32,
     "metadata": {},
     "output_type": "execute_result"
    }
   ],
   "source": [
    "name= dict({'NAME':['RAJU','RANI','Suresh','Hari'],'Age':[20,30,25,30]})\n",
    "se = pd.Series(name)\n",
    "se.ndim\n",
    "se.shape"
   ]
  },
  {
   "cell_type": "code",
   "execution_count": 23,
   "metadata": {},
   "outputs": [
    {
     "data": {
      "text/plain": [
       "'RANI'"
      ]
     },
     "execution_count": 23,
     "metadata": {},
     "output_type": "execute_result"
    }
   ],
   "source": [
    "se[\"NAME\"][1]"
   ]
  },
  {
   "cell_type": "markdown",
   "metadata": {},
   "source": [
    "### Indexing and Selecting Data in Series"
   ]
  },
  {
   "cell_type": "code",
   "execution_count": 24,
   "metadata": {},
   "outputs": [
    {
     "data": {
      "text/plain": [
       "array(['T'], dtype='<U2')"
      ]
     },
     "execution_count": 24,
     "metadata": {},
     "output_type": "execute_result"
    }
   ],
   "source": [
    "# using indexing operator\n",
    "data[3:4] "
   ]
  },
  {
   "cell_type": "code",
   "execution_count": 30,
   "metadata": {},
   "outputs": [
    {
     "data": {
      "text/plain": [
       "0      25\n",
       "1      25\n",
       "2      27\n",
       "3      22\n",
       "4      29\n",
       "5      29\n",
       "6      21\n",
       "7      25\n",
       "8      22\n",
       "9      22\n",
       "10     24\n",
       "11     27\n",
       "12     27\n",
       "13     20\n",
       "14     26\n",
       "15     27\n",
       "16     24\n",
       "17     28\n",
       "18     21\n",
       "19     32\n",
       "20     22\n",
       "21     26\n",
       "22     23\n",
       "23     28\n",
       "24     21\n",
       "25     26\n",
       "26     25\n",
       "27     26\n",
       "28     28\n",
       "29     27\n",
       "       ..\n",
       "427    20\n",
       "428    25\n",
       "429    23\n",
       "430    24\n",
       "431    27\n",
       "432    23\n",
       "433    28\n",
       "434    34\n",
       "435    24\n",
       "436    25\n",
       "437    24\n",
       "438    23\n",
       "439    26\n",
       "440    30\n",
       "441    20\n",
       "442    28\n",
       "443    23\n",
       "444    24\n",
       "445    20\n",
       "446    24\n",
       "447    23\n",
       "448    26\n",
       "449    23\n",
       "450    28\n",
       "451    26\n",
       "452    20\n",
       "453    26\n",
       "454    24\n",
       "455    26\n",
       "456    26\n",
       "Name: Age, Length: 457, dtype: int64"
      ]
     },
     "execution_count": 30,
     "metadata": {},
     "output_type": "execute_result"
    }
   ],
   "source": [
    "# importing pandas module  \n",
    "import pandas as pd  \n",
    "\n",
    "# making data frame  \n",
    "Data = pd.read_csv(\"Data/nba.csv\")\n",
    "#print(Data.head())\n",
    "#print(Data) \n",
    "Ser= pd.Series(Data['Age'])\n",
    "Ser\n"
   ]
  },
  {
   "cell_type": "markdown",
   "metadata": {},
   "source": [
    "#### Indexing a Series using .loc[ ] :"
   ]
  },
  {
   "cell_type": "code",
   "execution_count": 34,
   "metadata": {},
   "outputs": [
    {
     "data": {
      "text/plain": [
       "0    Avery Bradley\n",
       "1      Jae Crowder\n",
       "2     John Holland\n",
       "3      R.J. Hunter\n",
       "4    Jonas Jerebko\n",
       "Name: Name, dtype: object"
      ]
     },
     "execution_count": 34,
     "metadata": {},
     "output_type": "execute_result"
    }
   ],
   "source": [
    "# importing pandas module  \n",
    "import pandas as pd  \n",
    "     \n",
    "# making data frame  \n",
    "df = pd.read_csv(\"Data/nba.csv\")  \n",
    "   \n",
    "ser = pd.Series(df['Name']) \n",
    "data = ser.head()\n",
    "data "
   ]
  },
  {
   "cell_type": "code",
   "execution_count": 46,
   "metadata": {},
   "outputs": [
    {
     "data": {
      "text/plain": [
       "1    Jae Crowder\n",
       "3    R.J. Hunter\n",
       "Name: Name, dtype: object"
      ]
     },
     "execution_count": 46,
     "metadata": {},
     "output_type": "execute_result"
    }
   ],
   "source": [
    "#Now we access the element of series using .loc[] function.\n",
    "# using .loc[] function\n",
    "data.loc[1:4:2]\n",
    "data[1:5:2]"
   ]
  },
  {
   "cell_type": "markdown",
   "metadata": {},
   "source": [
    "#### Indexing a Series using .iloc[ ] :"
   ]
  },
  {
   "cell_type": "code",
   "execution_count": 43,
   "metadata": {},
   "outputs": [
    {
     "data": {
      "text/plain": [
       "0    Avery Bradley\n",
       "1      Jae Crowder\n",
       "2     John Holland\n",
       "3      R.J. Hunter\n",
       "4    Jonas Jerebko\n",
       "5     Amir Johnson\n",
       "6    Jordan Mickey\n",
       "7     Kelly Olynyk\n",
       "8     Terry Rozier\n",
       "9     Marcus Smart\n",
       "Name: Name, dtype: object"
      ]
     },
     "execution_count": 43,
     "metadata": {},
     "output_type": "execute_result"
    }
   ],
   "source": [
    "ser = pd.Series(df['Name']) \n",
    "data = ser.head(10)\n",
    "data "
   ]
  },
  {
   "cell_type": "code",
   "execution_count": 44,
   "metadata": {},
   "outputs": [
    {
     "data": {
      "text/plain": [
       "3      R.J. Hunter\n",
       "4    Jonas Jerebko\n",
       "5     Amir Johnson\n",
       "Name: Name, dtype: object"
      ]
     },
     "execution_count": 44,
     "metadata": {},
     "output_type": "execute_result"
    }
   ],
   "source": [
    "# using .iloc[] function (len-1)\n",
    "data.iloc[3:6]"
   ]
  },
  {
   "cell_type": "markdown",
   "metadata": {},
   "source": [
    "### Binary Operation on Series"
   ]
  },
  {
   "cell_type": "code",
   "execution_count": 47,
   "metadata": {},
   "outputs": [
    {
     "name": "stdout",
     "output_type": "stream",
     "text": [
      "creating a series with Default indexs \n",
      " 0    5\n",
      "1    2\n",
      "2    3\n",
      "3    7\n",
      "dtype: int64 \n",
      "\n",
      " creating a series with User defined Indexs\n",
      " a    1\n",
      "b    6\n",
      "d    4\n",
      "e    9\n",
      "dtype: int64\n"
     ]
    }
   ],
   "source": [
    "# importing pandas module  \n",
    "import pandas as pd  \n",
    " \n",
    "# creating a series with Default indexs\n",
    "data = pd.Series([5, 2, 3,7])\n",
    " \n",
    "# creating a series with User defined Indexs\n",
    "data1 = pd.Series([1, 6, 4, 9], index=['a', 'b', 'd', 'e'])\n",
    " \n",
    "print(\"creating a series with Default indexs \\n\",data, \"\\n\\n\",\"creating a series with User defined Indexs\\n\", data1)"
   ]
  },
  {
   "cell_type": "code",
   "execution_count": 62,
   "metadata": {},
   "outputs": [
    {
     "name": "stdout",
     "output_type": "stream",
     "text": [
      "a    1\n",
      "b    6\n",
      "d    4\n",
      "e    9\n",
      "dtype: int64 Data one\n",
      " 0    5\n",
      "1    2\n",
      "2    3\n",
      "3    7\n",
      "dtype: int64 Data\n"
     ]
    },
    {
     "data": {
      "text/plain": [
       "a    0.0\n",
       "b    5.0\n",
       "d    3.0\n",
       "e    8.0\n",
       "0   -4.0\n",
       "1   -1.0\n",
       "2   -2.0\n",
       "3   -6.0\n",
       "dtype: float64"
      ]
     },
     "execution_count": 62,
     "metadata": {},
     "output_type": "execute_result"
    }
   ],
   "source": [
    "#Now we subtract two series using .sub function.\n",
    "# subtracting two series using\n",
    "# .sub\n",
    "print(data1,\"Data one\\n\",data,\"Data\")\n",
    "#print(data1)\n",
    "data1.sub(data, fill_value=1)\n"
   ]
  },
  {
   "cell_type": "markdown",
   "metadata": {},
   "source": [
    "### Conversion Operation on Series"
   ]
  },
  {
   "cell_type": "code",
   "execution_count": 64,
   "metadata": {},
   "outputs": [
    {
     "name": "stdout",
     "output_type": "stream",
     "text": [
      "BEFORE CONVERSION\n",
      " Name         object\n",
      "Team         object\n",
      "Number        int64\n",
      "Position     object\n",
      "Age           int64\n",
      "Height       object\n",
      "Weight        int64\n",
      "College      object\n",
      "Salary      float64\n",
      "dtype: object \n",
      "\n",
      "AFTER CONVERSION\n",
      " Name        object\n",
      "Team        object\n",
      "Number      object\n",
      "Position    object\n",
      "Age          int64\n",
      "Height      object\n",
      "Weight       int64\n",
      "College     object\n",
      "Salary       int32\n",
      "dtype: object \n",
      "\n"
     ]
    }
   ],
   "source": [
    "\n",
    "# Python program using astype to convert a datatype of series\n",
    " \n",
    "# importing pandas module  \n",
    "import pandas as pd \n",
    "   \n",
    "# reading csv file from url  \n",
    "#print(data)\n",
    "# dropping null value columns to avoid errors \n",
    "data.dropna(inplace = True) \n",
    "   \n",
    "# storing dtype before converting \n",
    "before = data.dtypes \n",
    "   \n",
    "# converting dtypes using astype \n",
    "data[\"Salary\"]= data[\"Salary\"].astype(int) \n",
    "data[\"Number\"]= data[\"Number\"].astype(str) \n",
    "   \n",
    "# storing dtype after converting \n",
    "after = data.dtypes \n",
    "   \n",
    "# printing to compare \n",
    "print(\"BEFORE CONVERSION\\n\", before, \"\\n\") \n",
    "print(\"AFTER CONVERSION\\n\", after, \"\\n\") "
   ]
  },
  {
   "cell_type": "code",
   "execution_count": null,
   "metadata": {},
   "outputs": [],
   "source": [
    "# Python program converting\n",
    "# a series into list\n",
    " \n",
    "# importing pandas module  \n",
    "import pandas as pd  \n",
    "   \n",
    "# importing regex module \n",
    "import re \n",
    "     \n",
    "# making data frame  \n",
    "data = pd.read_csv(\"Data/nba.csv\")  \n",
    "     \n",
    "# removing null values to avoid errors  \n",
    "data.dropna(inplace = True)  \n",
    "   \n",
    "# storing dtype before operation \n",
    "dtype_before = type(data[\"Salary\"]) \n",
    "   \n",
    "# converting to list \n",
    "salary_list = data[\"Salary\"].tolist() \n",
    "   \n",
    "# storing dtype after operation \n",
    "dtype_after = type(salary_list) \n",
    "   \n",
    "# printing dtype \n",
    "print(\"Data type before converting = {}\\nData type after converting = {}\"\n",
    "      .format(dtype_before, dtype_after)) \n",
    "   \n",
    "# displaying list \n",
    "salary_list \n"
   ]
  },
  {
   "cell_type": "markdown",
   "metadata": {},
   "source": [
    "### Binary operation methods on series:"
   ]
  },
  {
   "cell_type": "markdown",
   "metadata": {},
   "source": [
    "| Method  | Description   |\n",
    "|------|------|\n",
    "|add()|Method is used to add series or list like objects with same length to the caller series|\n",
    "|sub()|Method is used to subtract series or list like objects with same length from the caller series|\n",
    "|mul()|Method is used to multiply series or list like objects with same length with the caller series|\n",
    "|div()|Method is used to divide series or list like objects with same length by the caller series|\n",
    "|sum()|Returns the sum of the values for the requested axis|\n",
    "|prod()|Returns the product of the values for the requested axis|\n",
    "|mean()|\tReturns the mean of the values for the requested axis|\n",
    "|pow()|Method is used to put each element of passed series as exponential power of caller series and returned the results|\n",
    "|abs()|Method is used to get the absolute numeric value of each element in Series/DataFrame|\n",
    "|cov()|Method is used to find covariance of two series|"
   ]
  },
  {
   "cell_type": "markdown",
   "metadata": {},
   "source": [
    "### Pandas series method:"
   ]
  },
  {
   "cell_type": "markdown",
   "metadata": {},
   "source": [
    "| FUNCTION  | DESCRIPTION  |\n",
    "|------|------|\n",
    "|Series()|A pandas Series can be created with the Series() constructor method. This constructor method accepts a variety of inputs|\n",
    "|combine_first()|Method is used to combine two series into one|\n",
    "|count()|Returns number of non-NA/null observations in the Series|\n",
    "|size()|\tReturns the number of elements in the underlying data|\n",
    "|name()|\tMethod allows to give a name to a Series object, i.e. to the column|\n",
    "|is_unique()|\tMethod returns boolean if values in the object are unique|\n",
    "|idxmax()\t|Method to extract the index positions of the highest values in a Series|\n",
    "|idxmin()\t|Method to extract the index positions of the lowest values in a Series|\n",
    "|sort_values()|\tMethod is called on a Series to sort the values in ascending or descending order|\n",
    "|sort_index()|\tMethod is called on a pandas Series to sort it by the index instead of its values|\n",
    "|head()\t|Method is used to return a specified number of rows from the beginning of a Series. The method returns a brand new Series|\n",
    "|tail()\t|Method is used to return a specified number of rows from the end of a Series. The method returns a brand new Series|\n",
    "|le()|Used to compare every element of Caller series with passed series.It returns True for every element which is Less than or Equal to the element in passed series|\n",
    "|ne()|Used to compare every element of Caller series with passed series. It returns True for every element which is Not Equal to the element in passed series|\n",
    "|ge()|Used to compare every element of Caller series with passed series. It returns True for every element which is Greater than or Equal to the element in passed series|\n",
    "|eq()|Used to compare every element of Caller series with passed series. It returns True for every element which is Equal to the element in passed series|\n",
    "|gt()|Used to compare two series and return Boolean value for every respective element|\n",
    "|lt()|Used to compare two series and return Boolean value for every respective element|\n",
    "|clip()|Used to clip value below and above to passed Least and Max value|\n",
    "|clip_lower()|Used to clip values below a passed least value|\n",
    "|clip_upper()|Used to clip values above a passed maximum value|\n",
    "|astype()|Method is used to change data type of a series|\n",
    "|tolist()|Method is used to convert a series to list|\n",
    "|get()\t|Method is called on a Series to extract values from a Series. This is alternative syntax to the traditional bracket| syntax |\n",
    "|unique()|Pandas unique() is used to see the unique values in a particular column|\n",
    "|nunique()|Pandas nunique() is used to get a count of unique values|\n",
    "|value_counts()\t|Method to count the number of the times each unique value occurs in a Series|\n",
    "|factorize()|Method helps to get the numeric representation of an array by identifying distinct values|\n",
    "|map()|Method to tie together the values from one object to another|\n",
    "|between()|Pandas between() method is used on series to check which values lie between first and second argument|\n",
    "|apply()|Method is called and feeded a Python function as an argument to use the function on every Series value. This method is helpful for executing custom operations that are not included in pandas or numpy|"
   ]
  }
 ],
 "metadata": {
  "kernelspec": {
   "display_name": "Python 3",
   "language": "python",
   "name": "python3"
  },
  "language_info": {
   "codemirror_mode": {
    "name": "ipython",
    "version": 3
   },
   "file_extension": ".py",
   "mimetype": "text/x-python",
   "name": "python",
   "nbconvert_exporter": "python",
   "pygments_lexer": "ipython3",
   "version": "3.6.3"
  }
 },
 "nbformat": 4,
 "nbformat_minor": 2
}
