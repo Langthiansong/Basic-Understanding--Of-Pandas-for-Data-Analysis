{
 "cells": [
  {
   "cell_type": "markdown",
   "metadata": {
    "colab_type": "text",
    "id": "Ui2DIoC8kxcZ"
   },
   "source": [
    "# Exploratory Data Analysis in Python"
   ]
  },
  {
   "cell_type": "markdown",
   "metadata": {
    "colab_type": "text",
    "id": "Xjj7uXVOk2xD"
   },
   "source": [
    "### What is Exploratory Data Analysis (EDA) ?\n",
    "EDA is a phenomenon under data analysis used for gaining a better understanding of data aspects like:\n",
    "\n",
    "1. Main features of data\n",
    "2. Variables and relationships that hold between them\n",
    "3. Identifying which variables are important for our problem\n",
    "\n",
    "##### We shall look at various exploratory data analysis methods like:\n",
    "\n",
    "1. Descriptive Statistics, which is a way of giving a brief overview of the dataset we are dealing with, including some measures and features of the sample\n",
    "2. Grouping data Basic grouping with group by\n",
    "3. ANOVA, Analysis Of Variance, which is a computational method to divide variations in an observations set into different components.\n",
    "4. Correlation and correlation methods\n",
    "\n",
    "The dataset we’ll be using is chile voting dataset, which you can import in python as:"
   ]
  },
  {
   "cell_type": "code",
   "execution_count": 1,
   "metadata": {
    "colab": {
     "base_uri": "https://localhost:8080/",
     "height": 255
    },
    "colab_type": "code",
    "id": "QUCaIexGkt9B",
    "outputId": "0b0dfd00-7be8-4432-cab5-ac90ebfba8ba"
   },
   "outputs": [
    {
     "name": "stdout",
     "output_type": "stream",
     "text": [
      "<class 'pandas.core.frame.DataFrame'>\n",
      "RangeIndex: 2700 entries, 0 to 2699\n",
      "Data columns (total 9 columns):\n",
      "Unnamed: 0    2700 non-null int64\n",
      "region        2700 non-null object\n",
      "population    2700 non-null int64\n",
      "sex           2700 non-null object\n",
      "age           2699 non-null float64\n",
      "education     2689 non-null object\n",
      "income        2602 non-null float64\n",
      "statusquo     2683 non-null float64\n",
      "vote          2532 non-null object\n",
      "dtypes: float64(3), int64(2), object(4)\n",
      "memory usage: 189.9+ KB\n"
     ]
    }
   ],
   "source": [
    "import pandas as pd \n",
    "data = pd.read_csv(\"Data/Chile.csv\")\n",
    "df = pd.DataFrame(data)\n",
    "df.info()"
   ]
  },
  {
   "cell_type": "markdown",
   "metadata": {
    "colab_type": "text",
    "id": "q1bG7l6yl9dQ"
   },
   "source": [
    "**Descriptive Statistics**\n",
    "\n",
    "---\n",
    "Descriptive statistics is a helpful way to understand characteristics of your data and to get a quick summary of it. Pandas in python provide an interesting method describe(). The describe function applies basic statistical computations on the dataset like extreme values, count of data points standard deviation etc. Any missing value or NaN value is automatically skipped. describe() function gives a good picture of distribution of data.\n",
    "\n",
    "\n"
   ]
  },
  {
   "cell_type": "code",
   "execution_count": 2,
   "metadata": {
    "colab": {
     "base_uri": "https://localhost:8080/",
     "height": 297
    },
    "colab_type": "code",
    "id": "hEcuhXbVl6Ps",
    "outputId": "8686b341-0b24-4806-fbb7-1b6b3770d8e4"
   },
   "outputs": [
    {
     "data": {
      "text/html": [
       "<div>\n",
       "<style scoped>\n",
       "    .dataframe tbody tr th:only-of-type {\n",
       "        vertical-align: middle;\n",
       "    }\n",
       "\n",
       "    .dataframe tbody tr th {\n",
       "        vertical-align: top;\n",
       "    }\n",
       "\n",
       "    .dataframe thead th {\n",
       "        text-align: right;\n",
       "    }\n",
       "</style>\n",
       "<table border=\"1\" class=\"dataframe\">\n",
       "  <thead>\n",
       "    <tr style=\"text-align: right;\">\n",
       "      <th></th>\n",
       "      <th>Unnamed: 0</th>\n",
       "      <th>population</th>\n",
       "      <th>age</th>\n",
       "      <th>income</th>\n",
       "      <th>statusquo</th>\n",
       "    </tr>\n",
       "  </thead>\n",
       "  <tbody>\n",
       "    <tr>\n",
       "      <th>count</th>\n",
       "      <td>2700.000000</td>\n",
       "      <td>2700.000000</td>\n",
       "      <td>2699.000000</td>\n",
       "      <td>2602.000000</td>\n",
       "      <td>2.683000e+03</td>\n",
       "    </tr>\n",
       "    <tr>\n",
       "      <th>mean</th>\n",
       "      <td>1350.500000</td>\n",
       "      <td>152222.222222</td>\n",
       "      <td>38.548722</td>\n",
       "      <td>33875.864719</td>\n",
       "      <td>-1.118151e-08</td>\n",
       "    </tr>\n",
       "    <tr>\n",
       "      <th>std</th>\n",
       "      <td>779.567188</td>\n",
       "      <td>102198.039602</td>\n",
       "      <td>14.756415</td>\n",
       "      <td>39502.867120</td>\n",
       "      <td>1.000186e+00</td>\n",
       "    </tr>\n",
       "    <tr>\n",
       "      <th>min</th>\n",
       "      <td>1.000000</td>\n",
       "      <td>3750.000000</td>\n",
       "      <td>18.000000</td>\n",
       "      <td>2500.000000</td>\n",
       "      <td>-1.803010e+00</td>\n",
       "    </tr>\n",
       "    <tr>\n",
       "      <th>25%</th>\n",
       "      <td>675.750000</td>\n",
       "      <td>25000.000000</td>\n",
       "      <td>26.000000</td>\n",
       "      <td>7500.000000</td>\n",
       "      <td>-1.002235e+00</td>\n",
       "    </tr>\n",
       "    <tr>\n",
       "      <th>50%</th>\n",
       "      <td>1350.500000</td>\n",
       "      <td>175000.000000</td>\n",
       "      <td>36.000000</td>\n",
       "      <td>15000.000000</td>\n",
       "      <td>-4.558000e-02</td>\n",
       "    </tr>\n",
       "    <tr>\n",
       "      <th>75%</th>\n",
       "      <td>2025.250000</td>\n",
       "      <td>250000.000000</td>\n",
       "      <td>49.000000</td>\n",
       "      <td>35000.000000</td>\n",
       "      <td>9.685750e-01</td>\n",
       "    </tr>\n",
       "    <tr>\n",
       "      <th>max</th>\n",
       "      <td>2700.000000</td>\n",
       "      <td>250000.000000</td>\n",
       "      <td>70.000000</td>\n",
       "      <td>200000.000000</td>\n",
       "      <td>2.048590e+00</td>\n",
       "    </tr>\n",
       "  </tbody>\n",
       "</table>\n",
       "</div>"
      ],
      "text/plain": [
       "        Unnamed: 0     population          age         income     statusquo\n",
       "count  2700.000000    2700.000000  2699.000000    2602.000000  2.683000e+03\n",
       "mean   1350.500000  152222.222222    38.548722   33875.864719 -1.118151e-08\n",
       "std     779.567188  102198.039602    14.756415   39502.867120  1.000186e+00\n",
       "min       1.000000    3750.000000    18.000000    2500.000000 -1.803010e+00\n",
       "25%     675.750000   25000.000000    26.000000    7500.000000 -1.002235e+00\n",
       "50%    1350.500000  175000.000000    36.000000   15000.000000 -4.558000e-02\n",
       "75%    2025.250000  250000.000000    49.000000   35000.000000  9.685750e-01\n",
       "max    2700.000000  250000.000000    70.000000  200000.000000  2.048590e+00"
      ]
     },
     "execution_count": 2,
     "metadata": {},
     "output_type": "execute_result"
    }
   ],
   "source": [
    "df.describe()"
   ]
  },
  {
   "cell_type": "markdown",
   "metadata": {
    "colab_type": "text",
    "id": "OJBvKMMdnGX6"
   },
   "source": [
    "Another useful method if value_counts() which can get count of each category in a categorical attributed series of values. For an instance suppose you are dealing with a dataset of customers who are divided as youth, medium and old categories under column name age and your dataframe is “DF”. You can run this statement to know how many people fall in respective categories. In our data set example education column can be used"
   ]
  },
  {
   "cell_type": "code",
   "execution_count": 5,
   "metadata": {
    "colab": {
     "base_uri": "https://localhost:8080/",
     "height": 85
    },
    "colab_type": "code",
    "id": "AmFeiumgnCh8",
    "outputId": "ccf7ed67-e4d8-4c60-c6e6-ea1586059bd3"
   },
   "outputs": [
    {
     "data": {
      "text/plain": [
       "250000    1300\n",
       "25000      360\n",
       "15000      300\n",
       "125000     240\n",
       "175000     140\n",
       "45000      120\n",
       "87500       80\n",
       "62500       80\n",
       "8750        60\n",
       "3750        20\n",
       "Name: population, dtype: int64"
      ]
     },
     "execution_count": 5,
     "metadata": {},
     "output_type": "execute_result"
    }
   ],
   "source": [
    "df[\"population\"].value_counts() "
   ]
  },
  {
   "cell_type": "markdown",
   "metadata": {
    "colab_type": "text",
    "id": "2qJl8TpWohlx"
   },
   "source": [
    "One more useful tool is boxplot which you can use through matplotlib module. Boxplot is a pictorial representation of distribution of data which shows extreme values, median and quartiles. We can easily figure out outliers by using boxplots. Now consider the dataset we’ve been dealing with again and lets draw a boxplot on attribute population"
   ]
  },
  {
   "cell_type": "markdown",
   "metadata": {
    "colab_type": "text",
    "id": "2RL8aG2XotMX"
   },
   "source": [
    "### Grouping data\n",
    "\n",
    "Group by is an interesting measure available in pandas which can help us figure out effect of different categorical attributes on other data variables. Let’s see an example on the same dataset where we want to figure out affect of people’s age and education on the voting dataset."
   ]
  },
  {
   "cell_type": "code",
   "execution_count": 8,
   "metadata": {
    "colab": {
     "base_uri": "https://localhost:8080/",
     "height": 452
    },
    "colab_type": "code",
    "id": "p-K-WcgXmNdd",
    "outputId": "c88e06e1-6a6c-47fc-ee71-4adc3ff33638"
   },
   "outputs": [
    {
     "name": "stdout",
     "output_type": "stream",
     "text": [
      "                  Unnamed: 0        age        income  statusquo\n",
      "population vote                                                 \n",
      "3750       N      206.714286  39.142857  32142.857143  -0.532890\n",
      "           U      203.000000  61.000000  15000.000000   1.444010\n",
      "           Y      213.333333  39.166667  12083.333333   0.848857\n",
      "8750       A      908.000000  30.500000  38750.000000  -0.498835\n",
      "           N      800.200000  35.900000  25000.000000  -0.604011\n",
      "           U      908.666667  44.533333  21166.666667   0.193187\n",
      "           Y      998.733333  38.833333  25583.333333   1.254311\n",
      "15000      A      693.222222  34.055556  25882.352941  -0.287576\n",
      "           N     1056.267606  34.422535  19637.681159  -0.763970\n",
      "           U     1108.228916  40.963855  19900.000000   0.232382\n",
      "           Y     1219.019231  41.009615  23137.254902   1.047995\n",
      "25000      A     1220.269231  34.307692  31600.000000   0.046688\n",
      "           N     1136.750000  33.965909  23110.465116  -0.811421\n",
      "           U     1229.241379  39.425287  20662.650602   0.141447\n",
      "           Y     1171.929577  40.098592  17187.500000   0.988794\n",
      "45000      A      739.200000  38.400000  13500.000000  -0.171506\n",
      "           N      783.948718  38.743590  35576.923077  -0.864528\n",
      "           U      809.368421  39.578947  25000.000000   0.419849\n",
      "           Y      756.395349  37.488372  24817.073171   0.972186\n",
      "62500      A     1001.800000  30.800000  49500.000000   0.311574\n",
      "           N      843.903226  38.645161  24919.354839  -1.103816\n",
      "           U     1061.333333  29.166667  17083.333333   0.331570\n",
      "           Y     1233.812500  38.343750  24677.419355   0.853615\n",
      "87500      A      333.600000  38.200000  21500.000000  -0.057326\n",
      "           N      840.444444  35.185185  30576.923077  -0.729257\n",
      "           U     1159.571429  35.357143  17500.000000  -0.134138\n",
      "           Y     1099.787879  39.666667  28409.090909   0.899861\n",
      "125000     A      652.578947  37.263158  45657.894737   0.013501\n",
      "           N      819.236111  33.569444  34678.571429  -0.882485\n",
      "           U      730.384615  41.871795  21474.358974   0.199992\n",
      "           Y      763.754902  39.431373  41000.000000   0.942112\n",
      "175000     A      449.125000  27.687500  27666.666667  -0.051126\n",
      "           N      554.177778  33.888889  39944.444444  -0.973522\n",
      "           U      605.696970  39.272727  26696.428571   0.063022\n",
      "           Y      433.400000  38.350000  38421.052632   1.040237\n",
      "250000     A     1743.098901  34.879121  34040.697674  -0.336419\n",
      "           N     1703.545090  36.388778  43585.390947  -0.960714\n",
      "           U     1832.309278  40.634483  30125.000000  -0.113837\n",
      "           Y     1775.033333  41.648485  52838.050314   0.861112\n"
     ]
    }
   ],
   "source": [
    "x = df.groupby(['population', 'vote']).mean()\n",
    "print(x)"
   ]
  },
  {
   "cell_type": "markdown",
   "metadata": {
    "colab_type": "text",
    "id": "q9rshYbxo4hX"
   },
   "source": [
    "If this group by output table is less understandable further analysts use pivot tables and heat maps for visualization on them."
   ]
  },
  {
   "cell_type": "code",
   "execution_count": 10,
   "metadata": {
    "colab": {},
    "colab_type": "code",
    "id": "fF2uOVqTsKtK"
   },
   "outputs": [
    {
     "data": {
      "image/png": "[encoded data removed]",
      "text/plain": [
       "<Figure size 432x288 with 1 Axes>"
      ]
     },
     "metadata": {
      "needs_background": "light"
     },
     "output_type": "display_data"
    }
   ],
   "source": [
    "import matplotlib.pyplot as plt\n",
    "y = list(df.population) \n",
    "plt.hist(y) \n",
    "plt.show()"
   ]
  },
  {
   "cell_type": "code",
   "execution_count": 13,
   "metadata": {},
   "outputs": [
    {
     "data": {
      "image/png": "[encoded data removed]",
      "text/plain": [
       "<Figure size 432x288 with 1 Axes>"
      ]
     },
     "metadata": {
      "needs_background": "light"
     },
     "output_type": "display_data"
    }
   ],
   "source": [
    "plt.scatter(x,y)\n",
    "plt.show()"
   ]
  },
  {
   "cell_type": "code",
   "execution_count": 14,
   "metadata": {},
   "outputs": [
    {
     "data": {
      "image/png": "[encoded data removed]",
      "text/plain": [
       "<Figure size 432x288 with 1 Axes>"
      ]
     },
     "metadata": {
      "needs_background": "light"
     },
     "output_type": "display_data"
    }
   ],
   "source": [
    "import matplotlib.pyplot as plt\n",
    "x = list(df.age)\n",
    "y = list(df.population) \n",
    "plt.scatter(x,y) \n",
    "plt.xlabel(\"Age of a Peoples\")\n",
    "plt.ylabel(\"Population in Country\")\n",
    "plt.title(\"Plot B/W Age and Poples\")\n",
    "plt.show()"
   ]
  },
  {
   "cell_type": "markdown",
   "metadata": {
    "colab_type": "text",
    "id": "E4vpJ-pupAdw"
   },
   "source": [
    "### **ANOVA**\n",
    "\n",
    "---\n",
    "\n",
    "ANOVA stands for Analysis of Variance. \n",
    "\n",
    "1. It is performed to figure out the relation between the different group of categorical data.\n",
    "2. Under ANOVA we have two measures as result:\n",
    "      1.  F-testscore : which shows the variaton of groups mean over variation\n",
    "      2.  P-value: it shows the importance of the result\n",
    "\n",
    "This can be performed using python module scipy method name f_oneway()\n"
   ]
  },
  {
   "cell_type": "markdown",
   "metadata": {
    "colab_type": "text",
    "id": "lF3_Kt2CpZeq"
   },
   "source": [
    "**Syntax:**\n",
    "\n",
    "\n",
    "import scipy.stats as st\n",
    "\n",
    "st.f_oneway(sample1, sample2, ..)\n",
    "\n",
    "\n",
    "These samples are sample measurements for each group.\n",
    "\n",
    "1. we can say that there is a strong correlation between other variables and a categorical variable if the ANOVA test gives us a large F-test value and a small p-value.\n",
    "\n",
    "**Correlation and Correlation computation**\n",
    "\n",
    "\n",
    "---\n",
    "\n",
    "Correlation is a simple relationship between two variables in a context such that one variable affects the other. Correlation is different from act of causing. One way to calculate correlation among variables is to find Pearson correlation. Here we find two parameters namely, Pearson coefficient and p-value. We can say there is a strong correlation between two variables when Pearson correlation coefficient is close to either 1 or -1 and the p-value is less than 0.0001.\n",
    "\n",
    "Scipy module also provides a method to perform pearson correlation analysis, syntax:\n",
    "\n",
    "import scipy.stats as st\n",
    "\n",
    "st.pearsonr(sample1, sample2)"
   ]
  },
  {
   "cell_type": "code",
   "execution_count": 15,
   "metadata": {
    "colab": {
     "base_uri": "https://localhost:8080/",
     "height": 269
    },
    "colab_type": "code",
    "id": "IVJ4ALd5o2Gg",
    "outputId": "eb80485c-2c8a-448d-a77d-cf7eeabefb07"
   },
   "outputs": [
    {
     "data": {
      "image/png": "[encoded data removed]",
      "text/plain": [
       "<Figure size 1296x576 with 1 Axes>"
      ]
     },
     "metadata": {
      "needs_background": "light"
     },
     "output_type": "display_data"
    }
   ],
   "source": [
    "import pandas as pd\n",
    "datafile = \"Data/PlantGrowth.csv\"\n",
    "data = pd.read_csv(datafile)\n",
    " \n",
    "#Create a boxplot\n",
    "data.boxplot('weight', by='group', figsize=(18, 8))\n",
    " \n",
    "ctrl = data['weight'][data.group == 'ctrl']\n",
    " \n",
    "grps = pd.unique(data.group.values)\n",
    "d_data = {grp:data['weight'][data.group == grp] for grp in grps}\n",
    " \n",
    "k = len(pd.unique(data.group))  # number of conditions\n",
    "N = len(data.values)  # conditions times participants\n",
    "n = data.groupby('group').size()[0] #Participants in each condition"
   ]
  }
 ],
 "metadata": {
  "colab": {
   "collapsed_sections": [],
   "name": "Exploratory Data Analysis.ipynb",
   "provenance": [],
   "version": "0.3.2"
  },
  "kernelspec": {
   "display_name": "Python 3",
   "language": "python",
   "name": "python3"
  },
  "language_info": {
   "codemirror_mode": {
    "name": "ipython",
    "version": 3
   },
   "file_extension": ".py",
   "mimetype": "text/x-python",
   "name": "python",
   "nbconvert_exporter": "python",
   "pygments_lexer": "ipython3",
   "version": "3.6.3"
  }
 },
 "nbformat": 4,
 "nbformat_minor": 1
}
